{
 "cells": [
  {
   "cell_type": "markdown",
   "metadata": {
    "id": "yTAdZ5RNWW03",
    "toc": true
   },
   "source": [
    "<h1>Table of Contents<span class=\"tocSkip\"></span></h1>\n",
    "<div class=\"toc\"><ul class=\"toc-item\"><li><span><a href=\"#Business-Problem\" data-toc-modified-id=\"Business-Problem-1\"><span class=\"toc-item-num\">1&nbsp;&nbsp;</span>Business Problem</a></span></li><li><span><a href=\"#Methodology\" data-toc-modified-id=\"Methodology-2\"><span class=\"toc-item-num\">2&nbsp;&nbsp;</span>Methodology</a></span></li><li><span><a href=\"#Dataset\" data-toc-modified-id=\"Dataset-3\"><span class=\"toc-item-num\">3&nbsp;&nbsp;</span>Dataset</a></span></li><li><span><a href=\"#EDA\" data-toc-modified-id=\"EDA-4\"><span class=\"toc-item-num\">4&nbsp;&nbsp;</span>EDA</a></span><ul class=\"toc-item\"><li><span><a href=\"#Data-Viz\" data-toc-modified-id=\"Data-Viz-4.1\"><span class=\"toc-item-num\">4.1&nbsp;&nbsp;</span>Data Viz</a></span></li></ul></li><li><span><a href=\"#Baseline-Regression-Model---OLS-using-Statsmodels\" data-toc-modified-id=\"Baseline-Regression-Model---OLS-using-Statsmodels-5\"><span class=\"toc-item-num\">5&nbsp;&nbsp;</span>Baseline Regression Model - OLS using Statsmodels</a></span><ul class=\"toc-item\"><li><span><a href=\"#Model-Evaluation\" data-toc-modified-id=\"Model-Evaluation-5.1\"><span class=\"toc-item-num\">5.1&nbsp;&nbsp;</span>Model Evaluation</a></span><ul class=\"toc-item\"><li><span><a href=\"#MAE---Mean-Absolute-Error\" data-toc-modified-id=\"MAE---Mean-Absolute-Error-5.1.1\"><span class=\"toc-item-num\">5.1.1&nbsp;&nbsp;</span>MAE - Mean Absolute Error</a></span></li><li><span><a href=\"#MSE----Mean-Square-Error\" data-toc-modified-id=\"MSE----Mean-Square-Error-5.1.2\"><span class=\"toc-item-num\">5.1.2&nbsp;&nbsp;</span>MSE -  Mean Square Error</a></span></li><li><span><a href=\"#RMSE---Root-Mean-Square-Error\" data-toc-modified-id=\"RMSE---Root-Mean-Square-Error-5.1.3\"><span class=\"toc-item-num\">5.1.3&nbsp;&nbsp;</span>RMSE - Root Mean Square Error</a></span></li><li><span><a href=\"#R-Squared\" data-toc-modified-id=\"R-Squared-5.1.4\"><span class=\"toc-item-num\">5.1.4&nbsp;&nbsp;</span>R-Squared</a></span></li></ul></li></ul></li><li><span><a href=\"#Multicollinearity\" data-toc-modified-id=\"Multicollinearity-6\"><span class=\"toc-item-num\">6&nbsp;&nbsp;</span>Multicollinearity</a></span></li><li><span><a href=\"#Scaling\" data-toc-modified-id=\"Scaling-7\"><span class=\"toc-item-num\">7&nbsp;&nbsp;</span>Scaling</a></span></li></ul></div>"
   ]
  },
  {
   "cell_type": "markdown",
   "metadata": {
    "id": "q4BpGfa84PZ_"
   },
   "source": [
    "## Business Problem\n",
    "1. To develop a model for ACME Real Estate Agency to accurately predict a value of a house based on avaliable data. This will help their clients, either buy or sell their homes at a fair price.\n",
    "2. To identify if renovations can be made to improve the selling price of the house."
   ]
  },
  {
   "cell_type": "markdown",
   "metadata": {
    "id": "tsp0uDXS4PaC"
   },
   "source": [
    "## Methodology\n",
    "By developing using a Linear Regression model, we will try to predict the selling price of a house based on attributes like size, number of bedrooms/bathroorms etc. Model performance will be evaluated checking for RMSE values"
   ]
  },
  {
   "cell_type": "markdown",
   "metadata": {
    "id": "p6__g4Hd4PaC"
   },
   "source": [
    "## Dataset\n",
    "Dataset used will be the King County House Sales dataset : `kc_house_data.csv`"
   ]
  },
  {
   "cell_type": "markdown",
   "metadata": {
    "id": "nxh4h-1L-fSR"
   },
   "source": [
    "## EDA"
   ]
  },
  {
   "cell_type": "code",
   "execution_count": 1,
   "metadata": {
    "id": "AQXSC_Cg4PaC"
   },
   "outputs": [],
   "source": [
    "#importing relevant libraries\n",
    "import pandas as pd\n",
    "import numpy as np\n",
    "import matplotlib.pyplot as plt\n",
    "import seaborn as sns\n",
    "%matplotlib inline\n",
    "import warnings\n",
    "warnings.filterwarnings('ignore')\n",
    "\n",
    "#for reading spatial data\n",
    "import geopandas as gpd\n",
    "from shapely.geometry import Point,Polygon"
   ]
  },
  {
   "cell_type": "code",
   "execution_count": 2,
   "metadata": {
    "colab": {
     "base_uri": "https://localhost:8080/",
     "height": 299
    },
    "id": "ATZxhlGn5ESl",
    "outputId": "f78f9953-0368-4683-df2a-b819fbdc7f7f"
   },
   "outputs": [
    {
     "data": {
      "text/html": [
       "<div>\n",
       "<style scoped>\n",
       "    .dataframe tbody tr th:only-of-type {\n",
       "        vertical-align: middle;\n",
       "    }\n",
       "\n",
       "    .dataframe tbody tr th {\n",
       "        vertical-align: top;\n",
       "    }\n",
       "\n",
       "    .dataframe thead th {\n",
       "        text-align: right;\n",
       "    }\n",
       "</style>\n",
       "<table border=\"1\" class=\"dataframe\">\n",
       "  <thead>\n",
       "    <tr style=\"text-align: right;\">\n",
       "      <th></th>\n",
       "      <th>id</th>\n",
       "      <th>date</th>\n",
       "      <th>price</th>\n",
       "      <th>bedrooms</th>\n",
       "      <th>bathrooms</th>\n",
       "      <th>sqft_living</th>\n",
       "      <th>sqft_lot</th>\n",
       "      <th>floors</th>\n",
       "      <th>waterfront</th>\n",
       "      <th>view</th>\n",
       "      <th>...</th>\n",
       "      <th>grade</th>\n",
       "      <th>sqft_above</th>\n",
       "      <th>sqft_basement</th>\n",
       "      <th>yr_built</th>\n",
       "      <th>yr_renovated</th>\n",
       "      <th>zipcode</th>\n",
       "      <th>lat</th>\n",
       "      <th>long</th>\n",
       "      <th>sqft_living15</th>\n",
       "      <th>sqft_lot15</th>\n",
       "    </tr>\n",
       "  </thead>\n",
       "  <tbody>\n",
       "    <tr>\n",
       "      <th>0</th>\n",
       "      <td>7129300520</td>\n",
       "      <td>20141013T000000</td>\n",
       "      <td>221900.0</td>\n",
       "      <td>3</td>\n",
       "      <td>1.00</td>\n",
       "      <td>1180</td>\n",
       "      <td>5650</td>\n",
       "      <td>1.0</td>\n",
       "      <td>0</td>\n",
       "      <td>0</td>\n",
       "      <td>...</td>\n",
       "      <td>7</td>\n",
       "      <td>1180.0</td>\n",
       "      <td>0</td>\n",
       "      <td>1955</td>\n",
       "      <td>0</td>\n",
       "      <td>98178</td>\n",
       "      <td>47.5112</td>\n",
       "      <td>-122.257</td>\n",
       "      <td>1340</td>\n",
       "      <td>5650</td>\n",
       "    </tr>\n",
       "    <tr>\n",
       "      <th>1</th>\n",
       "      <td>6414100192</td>\n",
       "      <td>20141209T000000</td>\n",
       "      <td>538000.0</td>\n",
       "      <td>3</td>\n",
       "      <td>2.25</td>\n",
       "      <td>2570</td>\n",
       "      <td>7242</td>\n",
       "      <td>2.0</td>\n",
       "      <td>0</td>\n",
       "      <td>0</td>\n",
       "      <td>...</td>\n",
       "      <td>7</td>\n",
       "      <td>2170.0</td>\n",
       "      <td>400</td>\n",
       "      <td>1951</td>\n",
       "      <td>1991</td>\n",
       "      <td>98125</td>\n",
       "      <td>47.7210</td>\n",
       "      <td>-122.319</td>\n",
       "      <td>1690</td>\n",
       "      <td>7639</td>\n",
       "    </tr>\n",
       "    <tr>\n",
       "      <th>2</th>\n",
       "      <td>5631500400</td>\n",
       "      <td>20150225T000000</td>\n",
       "      <td>180000.0</td>\n",
       "      <td>2</td>\n",
       "      <td>1.00</td>\n",
       "      <td>770</td>\n",
       "      <td>10000</td>\n",
       "      <td>1.0</td>\n",
       "      <td>0</td>\n",
       "      <td>0</td>\n",
       "      <td>...</td>\n",
       "      <td>6</td>\n",
       "      <td>770.0</td>\n",
       "      <td>0</td>\n",
       "      <td>1933</td>\n",
       "      <td>0</td>\n",
       "      <td>98028</td>\n",
       "      <td>47.7379</td>\n",
       "      <td>-122.233</td>\n",
       "      <td>2720</td>\n",
       "      <td>8062</td>\n",
       "    </tr>\n",
       "    <tr>\n",
       "      <th>3</th>\n",
       "      <td>2487200875</td>\n",
       "      <td>20141209T000000</td>\n",
       "      <td>604000.0</td>\n",
       "      <td>4</td>\n",
       "      <td>3.00</td>\n",
       "      <td>1960</td>\n",
       "      <td>5000</td>\n",
       "      <td>1.0</td>\n",
       "      <td>0</td>\n",
       "      <td>0</td>\n",
       "      <td>...</td>\n",
       "      <td>7</td>\n",
       "      <td>1050.0</td>\n",
       "      <td>910</td>\n",
       "      <td>1965</td>\n",
       "      <td>0</td>\n",
       "      <td>98136</td>\n",
       "      <td>47.5208</td>\n",
       "      <td>-122.393</td>\n",
       "      <td>1360</td>\n",
       "      <td>5000</td>\n",
       "    </tr>\n",
       "    <tr>\n",
       "      <th>4</th>\n",
       "      <td>1954400510</td>\n",
       "      <td>20150218T000000</td>\n",
       "      <td>510000.0</td>\n",
       "      <td>3</td>\n",
       "      <td>2.00</td>\n",
       "      <td>1680</td>\n",
       "      <td>8080</td>\n",
       "      <td>1.0</td>\n",
       "      <td>0</td>\n",
       "      <td>0</td>\n",
       "      <td>...</td>\n",
       "      <td>8</td>\n",
       "      <td>1680.0</td>\n",
       "      <td>0</td>\n",
       "      <td>1987</td>\n",
       "      <td>0</td>\n",
       "      <td>98074</td>\n",
       "      <td>47.6168</td>\n",
       "      <td>-122.045</td>\n",
       "      <td>1800</td>\n",
       "      <td>7503</td>\n",
       "    </tr>\n",
       "  </tbody>\n",
       "</table>\n",
       "<p>5 rows × 21 columns</p>\n",
       "</div>"
      ],
      "text/plain": [
       "           id             date     price  bedrooms  bathrooms  sqft_living  \\\n",
       "0  7129300520  20141013T000000  221900.0         3       1.00         1180   \n",
       "1  6414100192  20141209T000000  538000.0         3       2.25         2570   \n",
       "2  5631500400  20150225T000000  180000.0         2       1.00          770   \n",
       "3  2487200875  20141209T000000  604000.0         4       3.00         1960   \n",
       "4  1954400510  20150218T000000  510000.0         3       2.00         1680   \n",
       "\n",
       "   sqft_lot  floors  waterfront  view  ...  grade  sqft_above  sqft_basement  \\\n",
       "0      5650     1.0           0     0  ...      7      1180.0              0   \n",
       "1      7242     2.0           0     0  ...      7      2170.0            400   \n",
       "2     10000     1.0           0     0  ...      6       770.0              0   \n",
       "3      5000     1.0           0     0  ...      7      1050.0            910   \n",
       "4      8080     1.0           0     0  ...      8      1680.0              0   \n",
       "\n",
       "   yr_built  yr_renovated  zipcode      lat     long  sqft_living15  \\\n",
       "0      1955             0    98178  47.5112 -122.257           1340   \n",
       "1      1951          1991    98125  47.7210 -122.319           1690   \n",
       "2      1933             0    98028  47.7379 -122.233           2720   \n",
       "3      1965             0    98136  47.5208 -122.393           1360   \n",
       "4      1987             0    98074  47.6168 -122.045           1800   \n",
       "\n",
       "   sqft_lot15  \n",
       "0        5650  \n",
       "1        7639  \n",
       "2        8062  \n",
       "3        5000  \n",
       "4        7503  \n",
       "\n",
       "[5 rows x 21 columns]"
      ]
     },
     "execution_count": 2,
     "metadata": {},
     "output_type": "execute_result"
    }
   ],
   "source": [
    "#importing files\n",
    "#getting the file from the github repo\n",
    "url = 'https://raw.githubusercontent.com/rahulakrish/real_estate_analysis/main/kc_house_data.csv'\n",
    "df = pd.read_csv(url)\n",
    "\n",
    "#checking the df\n",
    "df.head()"
   ]
  },
  {
   "cell_type": "markdown",
   "metadata": {
    "id": "wPmNSjh5dOIu"
   },
   "source": [
    "Gathering some info about the df:"
   ]
  },
  {
   "cell_type": "code",
   "execution_count": 3,
   "metadata": {
    "colab": {
     "base_uri": "https://localhost:8080/"
    },
    "id": "wKJmhmMH53Kq",
    "outputId": "a126652d-6724-456b-c7f8-29136e039718"
   },
   "outputs": [
    {
     "name": "stdout",
     "output_type": "stream",
     "text": [
      "Size of the dataframe is (21613, 21)\n",
      "\n",
      "\n",
      "<class 'pandas.core.frame.DataFrame'>\n",
      "RangeIndex: 21613 entries, 0 to 21612\n",
      "Data columns (total 21 columns):\n",
      " #   Column         Non-Null Count  Dtype  \n",
      "---  ------         --------------  -----  \n",
      " 0   id             21613 non-null  int64  \n",
      " 1   date           21613 non-null  object \n",
      " 2   price          21613 non-null  float64\n",
      " 3   bedrooms       21613 non-null  int64  \n",
      " 4   bathrooms      21613 non-null  float64\n",
      " 5   sqft_living    21613 non-null  int64  \n",
      " 6   sqft_lot       21613 non-null  int64  \n",
      " 7   floors         21613 non-null  float64\n",
      " 8   waterfront     21613 non-null  int64  \n",
      " 9   view           21613 non-null  int64  \n",
      " 10  condition      21613 non-null  int64  \n",
      " 11  grade          21613 non-null  int64  \n",
      " 12  sqft_above     21611 non-null  float64\n",
      " 13  sqft_basement  21613 non-null  int64  \n",
      " 14  yr_built       21613 non-null  int64  \n",
      " 15  yr_renovated   21613 non-null  int64  \n",
      " 16  zipcode        21613 non-null  int64  \n",
      " 17  lat            21613 non-null  float64\n",
      " 18  long           21613 non-null  float64\n",
      " 19  sqft_living15  21613 non-null  int64  \n",
      " 20  sqft_lot15     21613 non-null  int64  \n",
      "dtypes: float64(6), int64(14), object(1)\n",
      "memory usage: 3.5+ MB\n"
     ]
    }
   ],
   "source": [
    "print(f'Size of the dataframe is {df.shape}')\n",
    "print('\\n')\n",
    "df.info()"
   ]
  },
  {
   "cell_type": "markdown",
   "metadata": {
    "id": "43eFToo9ePXv"
   },
   "source": [
    "We can see that there is a reasonable amount of data for us to work with."
   ]
  },
  {
   "cell_type": "code",
   "execution_count": 4,
   "metadata": {
    "id": "98G0CLmr-KNu"
   },
   "outputs": [],
   "source": [
    "#dropping the id column since it is irrelevant\n",
    "df.drop(columns=['id','date'],axis=1,inplace=True)\n",
    "\n",
    "# #converting the date to date format\n",
    "# df['date'] = pd.to_datetime(df['date'])"
   ]
  },
  {
   "cell_type": "markdown",
   "metadata": {
    "id": "4UPBTueNe6Oq"
   },
   "source": [
    "Checking for missing data:"
   ]
  },
  {
   "cell_type": "code",
   "execution_count": 5,
   "metadata": {
    "colab": {
     "base_uri": "https://localhost:8080/"
    },
    "id": "XXdyi7AxfAGQ",
    "outputId": "38c7416a-874e-44d8-c70d-6e96d8d33ae2"
   },
   "outputs": [
    {
     "data": {
      "text/plain": [
       "price            0\n",
       "bedrooms         0\n",
       "bathrooms        0\n",
       "sqft_living      0\n",
       "sqft_lot         0\n",
       "floors           0\n",
       "waterfront       0\n",
       "view             0\n",
       "condition        0\n",
       "grade            0\n",
       "sqft_above       2\n",
       "sqft_basement    0\n",
       "yr_built         0\n",
       "yr_renovated     0\n",
       "zipcode          0\n",
       "lat              0\n",
       "long             0\n",
       "sqft_living15    0\n",
       "sqft_lot15       0\n",
       "dtype: int64"
      ]
     },
     "execution_count": 5,
     "metadata": {},
     "output_type": "execute_result"
    }
   ],
   "source": [
    "df.isna().sum()"
   ]
  },
  {
   "cell_type": "markdown",
   "metadata": {
    "id": "nayvEo6TsDqh"
   },
   "source": [
    "We can impute the median for the missing values in sqft_above. Since median is the actual mid-point of the data and unaffected by outlliers, it is a safe choice:"
   ]
  },
  {
   "cell_type": "code",
   "execution_count": 6,
   "metadata": {
    "colab": {
     "base_uri": "https://localhost:8080/"
    },
    "id": "bx6OLn6js4L1",
    "outputId": "ecc959f9-b25f-49a0-e4b2-506f1eb9d339",
    "scrolled": true
   },
   "outputs": [
    {
     "data": {
      "text/plain": [
       "0    19\n",
       "dtype: int64"
      ]
     },
     "execution_count": 6,
     "metadata": {},
     "output_type": "execute_result"
    }
   ],
   "source": [
    "#getting the median\n",
    "median = df['sqft_above'].median()\n",
    "\n",
    "#imputing the median value\n",
    "df['sqft_above'].fillna(median,inplace=True)\n",
    "\n",
    "#checking to see if it workedb\n",
    "df.isna().sum().value_counts()"
   ]
  },
  {
   "cell_type": "markdown",
   "metadata": {
    "id": "hwTKBwurWW09"
   },
   "source": [
    "### Data Viz"
   ]
  },
  {
   "cell_type": "markdown",
   "metadata": {
    "id": "lyk99HmvWW09"
   },
   "source": [
    "Since location is king in real-estate, let's plot the listings in a map of King's county and highlight the distribution of prices."
   ]
  },
  {
   "cell_type": "markdown",
   "metadata": {
    "id": "HdkZqyHugSti"
   },
   "source": [
    "For pricing, let's add an extra column to highlight where the price of each house stands in comparision with the median value. When we visualize this data, this could help understand if certain locations are more valuable than others."
   ]
  },
  {
   "cell_type": "markdown",
   "metadata": {
    "id": "sD4s8ZWngpPX"
   },
   "source": [
    "First, let's create a pandas Series of the house prices alone:"
   ]
  },
  {
   "cell_type": "code",
   "execution_count": 7,
   "metadata": {
    "colab": {
     "base_uri": "https://localhost:8080/"
    },
    "id": "4qrUxz1qgy14",
    "outputId": "253523e6-aa9d-4a34-d613-cdb0f5e8e109"
   },
   "outputs": [
    {
     "data": {
      "text/plain": [
       "count    2.161300e+04\n",
       "mean     5.400881e+05\n",
       "std      3.671272e+05\n",
       "min      7.500000e+04\n",
       "25%      3.219500e+05\n",
       "50%      4.500000e+05\n",
       "75%      6.450000e+05\n",
       "max      7.700000e+06\n",
       "Name: price, dtype: float64"
      ]
     },
     "execution_count": 7,
     "metadata": {},
     "output_type": "execute_result"
    }
   ],
   "source": [
    "price = pd.Series(df['price'].describe())\n",
    "price"
   ]
  },
  {
   "cell_type": "markdown",
   "metadata": {
    "id": "yswelsbtg19L"
   },
   "source": [
    "Now, let's create a new column called 'median-range'. Houses that fall within the first quartile range will be labelled as 'QR1'; inter-quartile range as 'IRQ' and the third quartile 'QR3'. Min and max prices will also be highlighted."
   ]
  },
  {
   "cell_type": "code",
   "execution_count": 8,
   "metadata": {
    "id": "FOeasU0rdYP8"
   },
   "outputs": [],
   "source": [
    "#first quartile\n",
    "df.loc[df['price'] <= price['25%'], 'median_range'] = 'QR1'\n",
    "\n",
    "#second quartile\n",
    "df.loc[(df['price'] > price['25%']) & (df['price'] <= price['75%']), 'median_range'] ='IQR'\n",
    "\n",
    "#third quartile\n",
    "df.loc[df['price'] >= price['75%'], 'median_range'] = 'QR3'\n",
    "\n",
    "#min\n",
    "df.loc[df['price'] == price['min'], 'median_range'] = 'min'\n",
    "\n",
    "#max\n",
    "df.loc[df['price'] == price['max'], 'median_range'] = 'max'"
   ]
  },
  {
   "cell_type": "markdown",
   "metadata": {
    "id": "oLsGZN0NijI4"
   },
   "source": [
    "By getting a look at the the value_counts of the newly formed 'median_range' column, we can get a fair idea about pricing:"
   ]
  },
  {
   "cell_type": "code",
   "execution_count": 9,
   "metadata": {
    "colab": {
     "base_uri": "https://localhost:8080/"
    },
    "id": "-2bAmuHoi7p0",
    "outputId": "eaaab0d2-25d6-4ddf-9498-45cb68ebd650"
   },
   "outputs": [
    {
     "data": {
      "text/plain": [
       "IQR    10796\n",
       "QR3     5412\n",
       "QR1     5403\n",
       "min        1\n",
       "max        1\n",
       "Name: median_range, dtype: int64"
      ]
     },
     "execution_count": 9,
     "metadata": {},
     "output_type": "execute_result"
    }
   ],
   "source": [
    "df['median_range'].value_counts()"
   ]
  },
  {
   "cell_type": "markdown",
   "metadata": {
    "id": "MoVEtAK8jP04"
   },
   "source": [
    "Looks like nearly half the dataset has house prices in the inter-quartile range while the first and quartiles are evenly split."
   ]
  },
  {
   "cell_type": "markdown",
   "metadata": {
    "id": "Yq0bLh0oX1A5"
   },
   "source": [
    "Let's visualize the listings and their respective median_range on a map . This can be done using the `geopandas` library."
   ]
  },
  {
   "cell_type": "code",
   "execution_count": 10,
   "metadata": {
    "id": "AQdFsg0CX1A5"
   },
   "outputs": [],
   "source": [
    "# #creating a copy of the df\n",
    "# mapdf = df.copy()\n",
    "\n",
    "# #reading the shapefile of Kings County\n",
    "# king_map = gpd.read_file('Addresses_in_King_County___address_point.shp')"
   ]
  },
  {
   "cell_type": "code",
   "execution_count": 11,
   "metadata": {
    "id": "LMaFqUKdX1A6",
    "scrolled": false
   },
   "outputs": [],
   "source": [
    "# #defining the co-ordinate system\n",
    "# crs = {'init': 'EPSG:4326'}\n",
    "\n",
    "# #setting up points\n",
    "# geometry = [Point(xy) for xy in zip(mapdf['long'],mapdf['lat'])]\n",
    "# geo_df = gpd.GeoDataFrame(mapdf,\n",
    "#                          crs=crs,\n",
    "#                          geometry=geometry)\n",
    "\n",
    "# #plotting data\n",
    "# fig,ax=plt.subplots(figsize=(10,10))\n",
    "# king_map.to_crs(epsg=4326).plot(ax=ax,color='lightgrey')\n",
    "# sns.scatterplot(x='long',y='lat',data=mapdf,hue='median_range',ax=ax)\n",
    "# ax.set_title('Listings Distribution');"
   ]
  },
  {
   "cell_type": "markdown",
   "metadata": {
    "id": "1ZR3Sk_bWW0-"
   },
   "source": [
    "While houses with prices in the IQR are somewhat evenly distributed, we can see that the more expensive houses are in the northern part of King's county, while lower priced houses are prevalent in the southern region."
   ]
  },
  {
   "cell_type": "markdown",
   "metadata": {
    "id": "nq4826YZWW0-"
   },
   "source": [
    "## Baseline Regression Model - OLS using Statsmodels"
   ]
  },
  {
   "cell_type": "markdown",
   "metadata": {
    "id": "O9X49U4QWW0-"
   },
   "source": [
    "Statsmodels is a powerful package for statistical analysis in Python. The Ordinary Least Squares regression is a method to estimate the unknown parameters in a linear regression model. It minimizes the sum of squared vertical distances between the observed values and the values predicted by linear approximation."
   ]
  },
  {
   "cell_type": "code",
   "execution_count": 12,
   "metadata": {
    "id": "JE33MwDBWW0-"
   },
   "outputs": [],
   "source": [
    "import statsmodels.api as sm\n",
    "from statsmodels.formula.api import ols"
   ]
  },
  {
   "cell_type": "code",
   "execution_count": 13,
   "metadata": {
    "id": "KOU9UZqFWW0-"
   },
   "outputs": [],
   "source": [
    "#dropping some of the irrelevant columns\n",
    "df.drop('median_range',axis=1,inplace=True)"
   ]
  },
  {
   "cell_type": "code",
   "execution_count": 14,
   "metadata": {
    "id": "JZdujPgTWW0-"
   },
   "outputs": [],
   "source": [
    "#fitting a baseline model using OLS\n",
    "outcome = 'price'\n",
    "predictors = df.drop('price',axis=1)\n",
    "predictors_sum = '+'.join(predictors.columns)\n",
    "\n",
    "f = outcome + '~' + predictors_sum\n",
    "\n",
    "#fit model to data\n",
    "model = ols(formula=f,data=df).fit()"
   ]
  },
  {
   "cell_type": "code",
   "execution_count": 15,
   "metadata": {
    "colab": {
     "base_uri": "https://localhost:8080/",
     "height": 54
    },
    "id": "5mU42jPnWW0-",
    "outputId": "78582150-74be-4365-a3ba-da1a7eef3201"
   },
   "outputs": [
    {
     "data": {
      "text/plain": [
       "'bedrooms+bathrooms+sqft_living+sqft_lot+floors+waterfront+view+condition+grade+sqft_above+sqft_basement+yr_built+yr_renovated+zipcode+lat+long+sqft_living15+sqft_lot15'"
      ]
     },
     "execution_count": 15,
     "metadata": {},
     "output_type": "execute_result"
    }
   ],
   "source": [
    "predictors_sum"
   ]
  },
  {
   "cell_type": "code",
   "execution_count": 16,
   "metadata": {
    "colab": {
     "base_uri": "https://localhost:8080/",
     "height": 830
    },
    "id": "BN4Wz-tZWW0-",
    "outputId": "5c48ced4-fa6b-43f9-ff85-e6870d211009",
    "scrolled": false
   },
   "outputs": [
    {
     "data": {
      "text/html": [
       "<table class=\"simpletable\">\n",
       "<caption>OLS Regression Results</caption>\n",
       "<tr>\n",
       "  <th>Dep. Variable:</th>          <td>price</td>      <th>  R-squared:         </th>  <td>   0.700</td>  \n",
       "</tr>\n",
       "<tr>\n",
       "  <th>Model:</th>                   <td>OLS</td>       <th>  Adj. R-squared:    </th>  <td>   0.700</td>  \n",
       "</tr>\n",
       "<tr>\n",
       "  <th>Method:</th>             <td>Least Squares</td>  <th>  F-statistic:       </th>  <td>   2796.</td>  \n",
       "</tr>\n",
       "<tr>\n",
       "  <th>Date:</th>             <td>Thu, 20 Jul 2023</td> <th>  Prob (F-statistic):</th>   <td>  0.00</td>   \n",
       "</tr>\n",
       "<tr>\n",
       "  <th>Time:</th>                 <td>20:54:18</td>     <th>  Log-Likelihood:    </th> <td>-2.9460e+05</td>\n",
       "</tr>\n",
       "<tr>\n",
       "  <th>No. Observations:</th>      <td> 21613</td>      <th>  AIC:               </th>  <td>5.892e+05</td> \n",
       "</tr>\n",
       "<tr>\n",
       "  <th>Df Residuals:</th>          <td> 21594</td>      <th>  BIC:               </th>  <td>5.894e+05</td> \n",
       "</tr>\n",
       "<tr>\n",
       "  <th>Df Model:</th>              <td>    18</td>      <th>                     </th>      <td> </td>     \n",
       "</tr>\n",
       "<tr>\n",
       "  <th>Covariance Type:</th>      <td>nonrobust</td>    <th>                     </th>      <td> </td>     \n",
       "</tr>\n",
       "</table>\n",
       "<table class=\"simpletable\">\n",
       "<tr>\n",
       "        <td></td>           <th>coef</th>     <th>std err</th>      <th>t</th>      <th>P>|t|</th>  <th>[0.025</th>    <th>0.975]</th>  \n",
       "</tr>\n",
       "<tr>\n",
       "  <th>Intercept</th>     <td>  6.73e+06</td> <td> 2.93e+06</td> <td>    2.296</td> <td> 0.022</td> <td> 9.84e+05</td> <td> 1.25e+07</td>\n",
       "</tr>\n",
       "<tr>\n",
       "  <th>bedrooms</th>      <td>-3.579e+04</td> <td> 1891.984</td> <td>  -18.917</td> <td> 0.000</td> <td>-3.95e+04</td> <td>-3.21e+04</td>\n",
       "</tr>\n",
       "<tr>\n",
       "  <th>bathrooms</th>     <td> 4.113e+04</td> <td> 3253.700</td> <td>   12.641</td> <td> 0.000</td> <td> 3.48e+04</td> <td> 4.75e+04</td>\n",
       "</tr>\n",
       "<tr>\n",
       "  <th>sqft_living</th>   <td> -511.9134</td> <td>  665.255</td> <td>   -0.769</td> <td> 0.442</td> <td>-1815.863</td> <td>  792.036</td>\n",
       "</tr>\n",
       "<tr>\n",
       "  <th>sqft_lot</th>      <td>    0.1285</td> <td>    0.048</td> <td>    2.682</td> <td> 0.007</td> <td>    0.035</td> <td>    0.222</td>\n",
       "</tr>\n",
       "<tr>\n",
       "  <th>floors</th>        <td> 6693.9138</td> <td> 3595.854</td> <td>    1.862</td> <td> 0.063</td> <td> -354.226</td> <td> 1.37e+04</td>\n",
       "</tr>\n",
       "<tr>\n",
       "  <th>waterfront</th>    <td>  5.83e+05</td> <td> 1.74e+04</td> <td>   33.581</td> <td> 0.000</td> <td> 5.49e+05</td> <td> 6.17e+05</td>\n",
       "</tr>\n",
       "<tr>\n",
       "  <th>view</th>          <td> 5.286e+04</td> <td> 2140.096</td> <td>   24.698</td> <td> 0.000</td> <td> 4.87e+04</td> <td> 5.71e+04</td>\n",
       "</tr>\n",
       "<tr>\n",
       "  <th>condition</th>     <td> 2.636e+04</td> <td> 2351.554</td> <td>   11.211</td> <td> 0.000</td> <td> 2.18e+04</td> <td>  3.1e+04</td>\n",
       "</tr>\n",
       "<tr>\n",
       "  <th>grade</th>         <td> 9.588e+04</td> <td> 2152.793</td> <td>   44.539</td> <td> 0.000</td> <td> 9.17e+04</td> <td>    1e+05</td>\n",
       "</tr>\n",
       "<tr>\n",
       "  <th>sqft_above</th>    <td>  693.1863</td> <td>  665.288</td> <td>    1.042</td> <td> 0.297</td> <td> -610.828</td> <td> 1997.201</td>\n",
       "</tr>\n",
       "<tr>\n",
       "  <th>sqft_basement</th> <td>  662.1335</td> <td>  665.374</td> <td>    0.995</td> <td> 0.320</td> <td> -642.049</td> <td> 1966.316</td>\n",
       "</tr>\n",
       "<tr>\n",
       "  <th>yr_built</th>      <td>-2620.6112</td> <td>   72.660</td> <td>  -36.067</td> <td> 0.000</td> <td>-2763.030</td> <td>-2478.192</td>\n",
       "</tr>\n",
       "<tr>\n",
       "  <th>yr_renovated</th>  <td>   19.7957</td> <td>    3.656</td> <td>    5.415</td> <td> 0.000</td> <td>   12.630</td> <td>   26.961</td>\n",
       "</tr>\n",
       "<tr>\n",
       "  <th>zipcode</th>       <td> -582.8066</td> <td>   32.988</td> <td>  -17.667</td> <td> 0.000</td> <td> -647.465</td> <td> -518.148</td>\n",
       "</tr>\n",
       "<tr>\n",
       "  <th>lat</th>           <td> 6.028e+05</td> <td> 1.07e+04</td> <td>   56.152</td> <td> 0.000</td> <td> 5.82e+05</td> <td> 6.24e+05</td>\n",
       "</tr>\n",
       "<tr>\n",
       "  <th>long</th>          <td>-2.147e+05</td> <td> 1.31e+04</td> <td>  -16.348</td> <td> 0.000</td> <td> -2.4e+05</td> <td>-1.89e+05</td>\n",
       "</tr>\n",
       "<tr>\n",
       "  <th>sqft_living15</th> <td>   21.6583</td> <td>    3.448</td> <td>    6.282</td> <td> 0.000</td> <td>   14.900</td> <td>   28.416</td>\n",
       "</tr>\n",
       "<tr>\n",
       "  <th>sqft_lot15</th>    <td>   -0.3828</td> <td>    0.073</td> <td>   -5.224</td> <td> 0.000</td> <td>   -0.526</td> <td>   -0.239</td>\n",
       "</tr>\n",
       "</table>\n",
       "<table class=\"simpletable\">\n",
       "<tr>\n",
       "  <th>Omnibus:</th>       <td>18382.359</td> <th>  Durbin-Watson:     </th>  <td>   1.990</td>  \n",
       "</tr>\n",
       "<tr>\n",
       "  <th>Prob(Omnibus):</th>  <td> 0.000</td>   <th>  Jarque-Bera (JB):  </th> <td>1867608.902</td>\n",
       "</tr>\n",
       "<tr>\n",
       "  <th>Skew:</th>           <td> 3.566</td>   <th>  Prob(JB):          </th>  <td>    0.00</td>  \n",
       "</tr>\n",
       "<tr>\n",
       "  <th>Kurtosis:</th>       <td>47.978</td>   <th>  Cond. No.          </th>  <td>2.16e+08</td>  \n",
       "</tr>\n",
       "</table><br/><br/>Notes:<br/>[1] Standard Errors assume that the covariance matrix of the errors is correctly specified.<br/>[2] The condition number is large, 2.16e+08. This might indicate that there are<br/>strong multicollinearity or other numerical problems."
      ],
      "text/plain": [
       "<class 'statsmodels.iolib.summary.Summary'>\n",
       "\"\"\"\n",
       "                            OLS Regression Results                            \n",
       "==============================================================================\n",
       "Dep. Variable:                  price   R-squared:                       0.700\n",
       "Model:                            OLS   Adj. R-squared:                  0.700\n",
       "Method:                 Least Squares   F-statistic:                     2796.\n",
       "Date:                Thu, 20 Jul 2023   Prob (F-statistic):               0.00\n",
       "Time:                        20:54:18   Log-Likelihood:            -2.9460e+05\n",
       "No. Observations:               21613   AIC:                         5.892e+05\n",
       "Df Residuals:                   21594   BIC:                         5.894e+05\n",
       "Df Model:                          18                                         \n",
       "Covariance Type:            nonrobust                                         \n",
       "=================================================================================\n",
       "                    coef    std err          t      P>|t|      [0.025      0.975]\n",
       "---------------------------------------------------------------------------------\n",
       "Intercept       6.73e+06   2.93e+06      2.296      0.022    9.84e+05    1.25e+07\n",
       "bedrooms      -3.579e+04   1891.984    -18.917      0.000   -3.95e+04   -3.21e+04\n",
       "bathrooms      4.113e+04   3253.700     12.641      0.000    3.48e+04    4.75e+04\n",
       "sqft_living    -511.9134    665.255     -0.769      0.442   -1815.863     792.036\n",
       "sqft_lot          0.1285      0.048      2.682      0.007       0.035       0.222\n",
       "floors         6693.9138   3595.854      1.862      0.063    -354.226    1.37e+04\n",
       "waterfront      5.83e+05   1.74e+04     33.581      0.000    5.49e+05    6.17e+05\n",
       "view           5.286e+04   2140.096     24.698      0.000    4.87e+04    5.71e+04\n",
       "condition      2.636e+04   2351.554     11.211      0.000    2.18e+04     3.1e+04\n",
       "grade          9.588e+04   2152.793     44.539      0.000    9.17e+04       1e+05\n",
       "sqft_above      693.1863    665.288      1.042      0.297    -610.828    1997.201\n",
       "sqft_basement   662.1335    665.374      0.995      0.320    -642.049    1966.316\n",
       "yr_built      -2620.6112     72.660    -36.067      0.000   -2763.030   -2478.192\n",
       "yr_renovated     19.7957      3.656      5.415      0.000      12.630      26.961\n",
       "zipcode        -582.8066     32.988    -17.667      0.000    -647.465    -518.148\n",
       "lat            6.028e+05   1.07e+04     56.152      0.000    5.82e+05    6.24e+05\n",
       "long          -2.147e+05   1.31e+04    -16.348      0.000    -2.4e+05   -1.89e+05\n",
       "sqft_living15    21.6583      3.448      6.282      0.000      14.900      28.416\n",
       "sqft_lot15       -0.3828      0.073     -5.224      0.000      -0.526      -0.239\n",
       "==============================================================================\n",
       "Omnibus:                    18382.359   Durbin-Watson:                   1.990\n",
       "Prob(Omnibus):                  0.000   Jarque-Bera (JB):          1867608.902\n",
       "Skew:                           3.566   Prob(JB):                         0.00\n",
       "Kurtosis:                      47.978   Cond. No.                     2.16e+08\n",
       "==============================================================================\n",
       "\n",
       "Notes:\n",
       "[1] Standard Errors assume that the covariance matrix of the errors is correctly specified.\n",
       "[2] The condition number is large, 2.16e+08. This might indicate that there are\n",
       "strong multicollinearity or other numerical problems.\n",
       "\"\"\""
      ]
     },
     "execution_count": 16,
     "metadata": {},
     "output_type": "execute_result"
    }
   ],
   "source": [
    "#view model results\n",
    "model.summary()"
   ]
  },
  {
   "cell_type": "markdown",
   "metadata": {
    "id": "dx08EvsGWW0-"
   },
   "source": [
    "### Model Evaluation"
   ]
  },
  {
   "cell_type": "markdown",
   "metadata": {
    "id": "EFZt1VRjWW0-"
   },
   "source": [
    "#### MAE - Mean Absolute Error"
   ]
  },
  {
   "cell_type": "markdown",
   "metadata": {
    "id": "OENE9xo6WW0-"
   },
   "source": [
    "MAE is the measure of the average size of the mistakes in the predictions of the model, without taking into account their direction"
   ]
  },
  {
   "cell_type": "markdown",
   "metadata": {
    "id": "86knSAOhWW1C"
   },
   "source": [
    "By taking the absolute of the mean difference between the true values and the predicted values of the model, we can calculate the MAE"
   ]
  },
  {
   "cell_type": "code",
   "execution_count": 17,
   "metadata": {
    "colab": {
     "base_uri": "https://localhost:8080/"
    },
    "id": "_IFXT5neWW1C",
    "outputId": "f0969574-b4b9-46be-9c5a-c45a1f98819b"
   },
   "outputs": [
    {
     "data": {
      "text/plain": [
       "125916.46049461601"
      ]
     },
     "execution_count": 17,
     "metadata": {},
     "output_type": "execute_result"
    }
   ],
   "source": [
    "#getting predicted values\n",
    "y_preds = model.fittedvalues\n",
    "\n",
    "#get the mean of the difference between prediction and actual values\n",
    "model_mae = np.mean(np.abs(df['price'] - y_preds))\n",
    "model_mae"
   ]
  },
  {
   "cell_type": "markdown",
   "metadata": {
    "id": "g1GVHDlaWW1C"
   },
   "source": [
    "#### MSE -  Mean Square Error"
   ]
  },
  {
   "cell_type": "markdown",
   "metadata": {
    "id": "niZz2Qp6WW1C"
   },
   "source": [
    "Represents the average of the squared difference of the residuals. Consequently, higher residuals will be penalized more."
   ]
  },
  {
   "cell_type": "code",
   "execution_count": 18,
   "metadata": {
    "colab": {
     "base_uri": "https://localhost:8080/"
    },
    "id": "A4QsNZr2WW1C",
    "outputId": "e19520c0-be82-4207-bdc5-103d69e9c094"
   },
   "outputs": [
    {
     "data": {
      "text/plain": [
       "40500485207.86815"
      ]
     },
     "execution_count": 18,
     "metadata": {},
     "output_type": "execute_result"
    }
   ],
   "source": [
    "#residuals - difference between the predicted and actual price.\n",
    "# can verify by subtracting y_preds from model.fittedvalues(fittedvalues-predicted values)\n",
    "# model.resid\n",
    "\n",
    "#mean square error of the residuals - measures the variance of the residuals\n",
    "model.mse_resid"
   ]
  },
  {
   "cell_type": "markdown",
   "metadata": {
    "id": "25s0eKsZWW1C"
   },
   "source": [
    "#### RMSE - Root Mean Square Error"
   ]
  },
  {
   "cell_type": "markdown",
   "metadata": {
    "id": "9j9iJcbfWW1D"
   },
   "source": [
    "is the square root of the MSE and represents the standard deviation of the residuals."
   ]
  },
  {
   "cell_type": "code",
   "execution_count": 19,
   "metadata": {
    "colab": {
     "base_uri": "https://localhost:8080/"
    },
    "id": "4Nrlj2OmWW1D",
    "outputId": "dce759e7-69ad-4059-e25b-d701ebcddfa6"
   },
   "outputs": [
    {
     "data": {
      "text/plain": [
       "201247.3234800109"
      ]
     },
     "execution_count": 19,
     "metadata": {},
     "output_type": "execute_result"
    }
   ],
   "source": [
    "#root mean square of the residuals - measures the standard devation of the residuals and brings it back to the orignal units\n",
    "rmse_residuals = np.sqrt(model.mse_resid)\n",
    "rmse_residuals"
   ]
  },
  {
   "cell_type": "markdown",
   "metadata": {
    "id": "suObskSPWW1D"
   },
   "source": [
    "#### R-Squared"
   ]
  },
  {
   "cell_type": "markdown",
   "metadata": {
    "id": "uXxUb0uEWW1D"
   },
   "source": [
    "represents the proportion of the variance in the dependent variable that can be explained by the regression model or in the words tells us how well the predictor variables can explain the response variable."
   ]
  },
  {
   "cell_type": "code",
   "execution_count": 20,
   "metadata": {
    "colab": {
     "base_uri": "https://localhost:8080/"
    },
    "id": "tYatV8GTWW1D",
    "outputId": "b744f6d0-d6ba-4f1b-f37a-185e8c61eb81"
   },
   "outputs": [
    {
     "data": {
      "text/plain": [
       "0.6997622832854797"
      ]
     },
     "execution_count": 20,
     "metadata": {},
     "output_type": "execute_result"
    }
   ],
   "source": [
    "model.rsquared"
   ]
  },
  {
   "cell_type": "markdown",
   "metadata": {
    "id": "dP2I7gytRSy5"
   },
   "source": [
    "Approx. 70% of the variance in the price of a house can be expalined by the model using the independent variables."
   ]
  },
  {
   "cell_type": "markdown",
   "metadata": {
    "id": "qdEAnHSowtG2"
   },
   "source": [
    "We can build a function to output the metrics to make things efficient:"
   ]
  },
  {
   "cell_type": "code",
   "execution_count": 21,
   "metadata": {
    "id": "1AFFBUs5ne_2"
   },
   "outputs": [],
   "source": [
    "def model_metrics(model,model_name):\n",
    "    mae = round(np.mean(np.abs(model.fittedvalues - df['price'])),2)\n",
    "  # mse = round(model.mse_resid,2)\n",
    "  # rmse = round(np.sqrt(model.mse_resid),2)\n",
    "    rsquared = round(model.rsquared,3)\n",
    "\n",
    "    metrics = {'MAE' : mae,\n",
    "             'R-squared' : rsquared}\n",
    "\n",
    "    metrics_df = pd.DataFrame(metrics,index=[model_name])\n",
    "\n",
    "    return metrics_df"
   ]
  },
  {
   "cell_type": "code",
   "execution_count": 22,
   "metadata": {
    "colab": {
     "base_uri": "https://localhost:8080/",
     "height": 80
    },
    "id": "Sse2e0HBxD0r",
    "outputId": "18730836-8705-42bf-bbdd-ab42b3d71829",
    "scrolled": true
   },
   "outputs": [
    {
     "data": {
      "text/html": [
       "<div>\n",
       "<style scoped>\n",
       "    .dataframe tbody tr th:only-of-type {\n",
       "        vertical-align: middle;\n",
       "    }\n",
       "\n",
       "    .dataframe tbody tr th {\n",
       "        vertical-align: top;\n",
       "    }\n",
       "\n",
       "    .dataframe thead th {\n",
       "        text-align: right;\n",
       "    }\n",
       "</style>\n",
       "<table border=\"1\" class=\"dataframe\">\n",
       "  <thead>\n",
       "    <tr style=\"text-align: right;\">\n",
       "      <th></th>\n",
       "      <th>MAE</th>\n",
       "      <th>R-squared</th>\n",
       "    </tr>\n",
       "  </thead>\n",
       "  <tbody>\n",
       "    <tr>\n",
       "      <th>baseline_model</th>\n",
       "      <td>125916.46</td>\n",
       "      <td>0.7</td>\n",
       "    </tr>\n",
       "  </tbody>\n",
       "</table>\n",
       "</div>"
      ],
      "text/plain": [
       "                      MAE  R-squared\n",
       "baseline_model  125916.46        0.7"
      ]
     },
     "execution_count": 22,
     "metadata": {},
     "output_type": "execute_result"
    }
   ],
   "source": [
    "model_metrics(model,'baseline_model')"
   ]
  },
  {
   "cell_type": "markdown",
   "metadata": {},
   "source": [
    "This means that the predicted value of a house is off by approx. $125,000."
   ]
  },
  {
   "cell_type": "markdown",
   "metadata": {
    "id": "VHsRPzTdWW1D"
   },
   "source": [
    "We can apply some pre-processing to the data to try and improve model performance"
   ]
  },
  {
   "cell_type": "markdown",
   "metadata": {
    "id": "0JCUZpTSWW1D"
   },
   "source": [
    "## Multicollinearity"
   ]
  },
  {
   "cell_type": "markdown",
   "metadata": {
    "id": "VGuFstnqbZju"
   },
   "source": [
    "Let's check for correlation between the features. Let's only highlight values greater than 0.5"
   ]
  },
  {
   "cell_type": "code",
   "execution_count": 23,
   "metadata": {
    "colab": {
     "base_uri": "https://localhost:8080/",
     "height": 533
    },
    "id": "jYe_fbhkYFAT",
    "outputId": "292862c6-03cc-445d-910c-5712b579c269"
   },
   "outputs": [
    {
     "data": {
      "text/plain": [
       "<Axes: >"
      ]
     },
     "execution_count": 23,
     "metadata": {},
     "output_type": "execute_result"
    },
    {
     "data": {
      "image/png": "[encoded data removed]",
      "text/plain": [
       "<Figure size 2000x800 with 2 Axes>"
      ]
     },
     "metadata": {},
     "output_type": "display_data"
    }
   ],
   "source": [
    "#using seaborn heatmap\n",
    "fig,ax=plt.subplots(figsize=(20,8))\n",
    "#setting the min value as 0.5\n",
    "sns.heatmap(df.corr(),annot=True,vmin=0.5)"
   ]
  },
  {
   "cell_type": "markdown",
   "metadata": {
    "id": "T9ufA3aBYTTx"
   },
   "source": [
    "We can see sqft-living and sqft_lot are highly correlated. As is the case with sqft_living and sqft_above. Let's build a model by dropping some these features and check for performance"
   ]
  },
  {
   "cell_type": "code",
   "execution_count": 24,
   "metadata": {
    "id": "zHFX-qtodeRF"
   },
   "outputs": [],
   "source": [
    "df.drop(['sqft_living15','sqft_lot15','sqft_above'],axis=1,inplace=True)"
   ]
  },
  {
   "cell_type": "code",
   "execution_count": 25,
   "metadata": {
    "id": "hTlFu_qhciuY"
   },
   "outputs": [],
   "source": [
    "#fitting a new model\n",
    "outcome = 'price'\n",
    "predictors = df.drop('price',axis=1)\n",
    "predictors_sum = '+'.join(predictors.columns)\n",
    "\n",
    "f = outcome + '~' + predictors_sum\n",
    "\n",
    "#fit model to data\n",
    "model1 = ols(formula=f,data=df).fit()"
   ]
  },
  {
   "cell_type": "code",
   "execution_count": 26,
   "metadata": {
    "colab": {
     "base_uri": "https://localhost:8080/",
     "height": 768
    },
    "id": "h6UzPntRd8rh",
    "outputId": "2217a25e-e7e6-48eb-90e7-5bc22dab090f"
   },
   "outputs": [
    {
     "data": {
      "text/html": [
       "<table class=\"simpletable\">\n",
       "<caption>OLS Regression Results</caption>\n",
       "<tr>\n",
       "  <th>Dep. Variable:</th>          <td>price</td>      <th>  R-squared:         </th>  <td>   0.699</td>  \n",
       "</tr>\n",
       "<tr>\n",
       "  <th>Model:</th>                   <td>OLS</td>       <th>  Adj. R-squared:    </th>  <td>   0.699</td>  \n",
       "</tr>\n",
       "<tr>\n",
       "  <th>Method:</th>             <td>Least Squares</td>  <th>  F-statistic:       </th>  <td>   3341.</td>  \n",
       "</tr>\n",
       "<tr>\n",
       "  <th>Date:</th>             <td>Thu, 20 Jul 2023</td> <th>  Prob (F-statistic):</th>   <td>  0.00</td>   \n",
       "</tr>\n",
       "<tr>\n",
       "  <th>Time:</th>                 <td>20:54:19</td>     <th>  Log-Likelihood:    </th> <td>-2.9463e+05</td>\n",
       "</tr>\n",
       "<tr>\n",
       "  <th>No. Observations:</th>      <td> 21613</td>      <th>  AIC:               </th>  <td>5.893e+05</td> \n",
       "</tr>\n",
       "<tr>\n",
       "  <th>Df Residuals:</th>          <td> 21597</td>      <th>  BIC:               </th>  <td>5.894e+05</td> \n",
       "</tr>\n",
       "<tr>\n",
       "  <th>Df Model:</th>              <td>    15</td>      <th>                     </th>      <td> </td>     \n",
       "</tr>\n",
       "<tr>\n",
       "  <th>Covariance Type:</th>      <td>nonrobust</td>    <th>                     </th>      <td> </td>     \n",
       "</tr>\n",
       "</table>\n",
       "<table class=\"simpletable\">\n",
       "<tr>\n",
       "        <td></td>           <th>coef</th>     <th>std err</th>      <th>t</th>      <th>P>|t|</th>  <th>[0.025</th>    <th>0.975]</th>  \n",
       "</tr>\n",
       "<tr>\n",
       "  <th>Intercept</th>     <td>  9.32e+06</td> <td> 2.88e+06</td> <td>    3.231</td> <td> 0.001</td> <td> 3.67e+06</td> <td>  1.5e+07</td>\n",
       "</tr>\n",
       "<tr>\n",
       "  <th>bedrooms</th>      <td>-3.547e+04</td> <td> 1892.408</td> <td>  -18.745</td> <td> 0.000</td> <td>-3.92e+04</td> <td>-3.18e+04</td>\n",
       "</tr>\n",
       "<tr>\n",
       "  <th>bathrooms</th>     <td>   4.1e+04</td> <td> 3255.640</td> <td>   12.593</td> <td> 0.000</td> <td> 3.46e+04</td> <td> 4.74e+04</td>\n",
       "</tr>\n",
       "<tr>\n",
       "  <th>sqft_living</th>   <td>  189.1382</td> <td>    3.354</td> <td>   56.391</td> <td> 0.000</td> <td>  182.564</td> <td>  195.712</td>\n",
       "</tr>\n",
       "<tr>\n",
       "  <th>sqft_lot</th>      <td>   -0.0528</td> <td>    0.035</td> <td>   -1.519</td> <td> 0.129</td> <td>   -0.121</td> <td>    0.015</td>\n",
       "</tr>\n",
       "<tr>\n",
       "  <th>floors</th>        <td> 4890.1954</td> <td> 3575.607</td> <td>    1.368</td> <td> 0.171</td> <td>-2118.259</td> <td> 1.19e+04</td>\n",
       "</tr>\n",
       "<tr>\n",
       "  <th>waterfront</th>    <td>  5.79e+05</td> <td> 1.74e+04</td> <td>   33.318</td> <td> 0.000</td> <td> 5.45e+05</td> <td> 6.13e+05</td>\n",
       "</tr>\n",
       "<tr>\n",
       "  <th>view</th>          <td> 5.486e+04</td> <td> 2116.216</td> <td>   25.925</td> <td> 0.000</td> <td> 5.07e+04</td> <td>  5.9e+04</td>\n",
       "</tr>\n",
       "<tr>\n",
       "  <th>condition</th>     <td> 2.563e+04</td> <td> 2352.719</td> <td>   10.892</td> <td> 0.000</td> <td>  2.1e+04</td> <td> 3.02e+04</td>\n",
       "</tr>\n",
       "<tr>\n",
       "  <th>grade</th>         <td> 9.989e+04</td> <td> 2065.839</td> <td>   48.353</td> <td> 0.000</td> <td> 9.58e+04</td> <td> 1.04e+05</td>\n",
       "</tr>\n",
       "<tr>\n",
       "  <th>sqft_basement</th> <td>  -34.5561</td> <td>    4.320</td> <td>   -7.999</td> <td> 0.000</td> <td>  -43.024</td> <td>  -26.089</td>\n",
       "</tr>\n",
       "<tr>\n",
       "  <th>yr_built</th>      <td>-2638.1992</td> <td>   72.726</td> <td>  -36.276</td> <td> 0.000</td> <td>-2780.748</td> <td>-2495.651</td>\n",
       "</tr>\n",
       "<tr>\n",
       "  <th>yr_renovated</th>  <td>   18.3739</td> <td>    3.655</td> <td>    5.027</td> <td> 0.000</td> <td>   11.209</td> <td>   25.539</td>\n",
       "</tr>\n",
       "<tr>\n",
       "  <th>zipcode</th>       <td> -602.5850</td> <td>   32.885</td> <td>  -18.324</td> <td> 0.000</td> <td> -667.042</td> <td> -538.128</td>\n",
       "</tr>\n",
       "<tr>\n",
       "  <th>lat</th>           <td> 6.072e+05</td> <td> 1.07e+04</td> <td>   56.572</td> <td> 0.000</td> <td> 5.86e+05</td> <td> 6.28e+05</td>\n",
       "</tr>\n",
       "<tr>\n",
       "  <th>long</th>          <td>-2.079e+05</td> <td> 1.29e+04</td> <td>  -16.060</td> <td> 0.000</td> <td>-2.33e+05</td> <td>-1.83e+05</td>\n",
       "</tr>\n",
       "</table>\n",
       "<table class=\"simpletable\">\n",
       "<tr>\n",
       "  <th>Omnibus:</th>       <td>18129.036</td> <th>  Durbin-Watson:     </th>  <td>   1.990</td>  \n",
       "</tr>\n",
       "<tr>\n",
       "  <th>Prob(Omnibus):</th>  <td> 0.000</td>   <th>  Jarque-Bera (JB):  </th> <td>1753416.717</td>\n",
       "</tr>\n",
       "<tr>\n",
       "  <th>Skew:</th>           <td> 3.500</td>   <th>  Prob(JB):          </th>  <td>    0.00</td>  \n",
       "</tr>\n",
       "<tr>\n",
       "  <th>Kurtosis:</th>       <td>46.567</td>   <th>  Cond. No.          </th>  <td>2.09e+08</td>  \n",
       "</tr>\n",
       "</table><br/><br/>Notes:<br/>[1] Standard Errors assume that the covariance matrix of the errors is correctly specified.<br/>[2] The condition number is large, 2.09e+08. This might indicate that there are<br/>strong multicollinearity or other numerical problems."
      ],
      "text/plain": [
       "<class 'statsmodels.iolib.summary.Summary'>\n",
       "\"\"\"\n",
       "                            OLS Regression Results                            \n",
       "==============================================================================\n",
       "Dep. Variable:                  price   R-squared:                       0.699\n",
       "Model:                            OLS   Adj. R-squared:                  0.699\n",
       "Method:                 Least Squares   F-statistic:                     3341.\n",
       "Date:                Thu, 20 Jul 2023   Prob (F-statistic):               0.00\n",
       "Time:                        20:54:19   Log-Likelihood:            -2.9463e+05\n",
       "No. Observations:               21613   AIC:                         5.893e+05\n",
       "Df Residuals:                   21597   BIC:                         5.894e+05\n",
       "Df Model:                          15                                         \n",
       "Covariance Type:            nonrobust                                         \n",
       "=================================================================================\n",
       "                    coef    std err          t      P>|t|      [0.025      0.975]\n",
       "---------------------------------------------------------------------------------\n",
       "Intercept       9.32e+06   2.88e+06      3.231      0.001    3.67e+06     1.5e+07\n",
       "bedrooms      -3.547e+04   1892.408    -18.745      0.000   -3.92e+04   -3.18e+04\n",
       "bathrooms        4.1e+04   3255.640     12.593      0.000    3.46e+04    4.74e+04\n",
       "sqft_living     189.1382      3.354     56.391      0.000     182.564     195.712\n",
       "sqft_lot         -0.0528      0.035     -1.519      0.129      -0.121       0.015\n",
       "floors         4890.1954   3575.607      1.368      0.171   -2118.259    1.19e+04\n",
       "waterfront      5.79e+05   1.74e+04     33.318      0.000    5.45e+05    6.13e+05\n",
       "view           5.486e+04   2116.216     25.925      0.000    5.07e+04     5.9e+04\n",
       "condition      2.563e+04   2352.719     10.892      0.000     2.1e+04    3.02e+04\n",
       "grade          9.989e+04   2065.839     48.353      0.000    9.58e+04    1.04e+05\n",
       "sqft_basement   -34.5561      4.320     -7.999      0.000     -43.024     -26.089\n",
       "yr_built      -2638.1992     72.726    -36.276      0.000   -2780.748   -2495.651\n",
       "yr_renovated     18.3739      3.655      5.027      0.000      11.209      25.539\n",
       "zipcode        -602.5850     32.885    -18.324      0.000    -667.042    -538.128\n",
       "lat            6.072e+05   1.07e+04     56.572      0.000    5.86e+05    6.28e+05\n",
       "long          -2.079e+05   1.29e+04    -16.060      0.000   -2.33e+05   -1.83e+05\n",
       "==============================================================================\n",
       "Omnibus:                    18129.036   Durbin-Watson:                   1.990\n",
       "Prob(Omnibus):                  0.000   Jarque-Bera (JB):          1753416.717\n",
       "Skew:                           3.500   Prob(JB):                         0.00\n",
       "Kurtosis:                      46.567   Cond. No.                     2.09e+08\n",
       "==============================================================================\n",
       "\n",
       "Notes:\n",
       "[1] Standard Errors assume that the covariance matrix of the errors is correctly specified.\n",
       "[2] The condition number is large, 2.09e+08. This might indicate that there are\n",
       "strong multicollinearity or other numerical problems.\n",
       "\"\"\""
      ]
     },
     "execution_count": 26,
     "metadata": {},
     "output_type": "execute_result"
    }
   ],
   "source": [
    "model1.summary()"
   ]
  },
  {
   "cell_type": "code",
   "execution_count": 27,
   "metadata": {
    "colab": {
     "base_uri": "https://localhost:8080/",
     "height": 80
    },
    "id": "ETsBTHjBovFB",
    "outputId": "5f1abd50-10c2-4085-c9d4-1c937a16d1dd"
   },
   "outputs": [
    {
     "data": {
      "text/html": [
       "<div>\n",
       "<style scoped>\n",
       "    .dataframe tbody tr th:only-of-type {\n",
       "        vertical-align: middle;\n",
       "    }\n",
       "\n",
       "    .dataframe tbody tr th {\n",
       "        vertical-align: top;\n",
       "    }\n",
       "\n",
       "    .dataframe thead th {\n",
       "        text-align: right;\n",
       "    }\n",
       "</style>\n",
       "<table border=\"1\" class=\"dataframe\">\n",
       "  <thead>\n",
       "    <tr style=\"text-align: right;\">\n",
       "      <th></th>\n",
       "      <th>MAE</th>\n",
       "      <th>R-squared</th>\n",
       "    </tr>\n",
       "  </thead>\n",
       "  <tbody>\n",
       "    <tr>\n",
       "      <th>model1</th>\n",
       "      <td>126148.38</td>\n",
       "      <td>0.699</td>\n",
       "    </tr>\n",
       "  </tbody>\n",
       "</table>\n",
       "</div>"
      ],
      "text/plain": [
       "              MAE  R-squared\n",
       "model1  126148.38      0.699"
      ]
     },
     "execution_count": 27,
     "metadata": {},
     "output_type": "execute_result"
    }
   ],
   "source": [
    "model_metrics(model1,'model1')"
   ]
  },
  {
   "cell_type": "markdown",
   "metadata": {
    "id": "L7xJVGq97XUo"
   },
   "source": [
    "Looks like the model got slightly worse."
   ]
  },
  {
   "cell_type": "markdown",
   "metadata": {},
   "source": [
    "Let's try a different approach"
   ]
  },
  {
   "cell_type": "markdown",
   "metadata": {
    "id": "w66KiCAZ7kdn"
   },
   "source": [
    "## Scaling"
   ]
  },
  {
   "cell_type": "markdown",
   "metadata": {
    "id": "i4NbT8697uQh"
   },
   "source": [
    "If the independent variables all have different scales, then this could lead to misinterpretation i.e. features represented on a larger scale might have larger coefficents. By making the scale uniform across the data set, this will help improve model performance."
   ]
  },
  {
   "cell_type": "code",
   "execution_count": 28,
   "metadata": {
    "colab": {
     "base_uri": "https://localhost:8080/",
     "height": 270
    },
    "id": "gxtqn1pMfRc1",
    "outputId": "835a144d-35b1-43db-ec84-5cd07719a89f"
   },
   "outputs": [],
   "source": [
    "# from sklearn.preprocessing import MinMaxScaler\n",
    "\n",
    "# #initialize the scaler\n",
    "# scaler = MinMaxScaler()\n",
    "\n",
    "# df.drop('price',axis=1,)\n",
    "\n",
    "# #fit the sclaer on the data\n",
    "# scale_df = pd.DataFrame(scaler.fit_transform(df),columns=df.columns)\n",
    "\n",
    "# scale_df.head()"
   ]
  },
  {
   "cell_type": "code",
   "execution_count": 29,
   "metadata": {
    "colab": {
     "base_uri": "https://localhost:8080/",
     "height": 364
    },
    "id": "xxfjN_B0hLoO",
    "outputId": "20ae63f1-c282-4080-c779-00eece6b7500"
   },
   "outputs": [],
   "source": [
    "# scale_df.describe()"
   ]
  },
  {
   "cell_type": "markdown",
   "metadata": {
    "id": "6LHaqtvHhTa1"
   },
   "source": [
    "As we can see, all the values are between 0 and 1.\n",
    "Let's fit a model on the scaled data and see what the results are:"
   ]
  },
  {
   "cell_type": "code",
   "execution_count": 30,
   "metadata": {
    "id": "lLwAuPUPhfCI"
   },
   "outputs": [],
   "source": [
    "# #fitting a new model\n",
    "# outcome = 'price'\n",
    "# predictors = scale_df.drop('price',axis=1)\n",
    "# predictors_sum = '+'.join(predictors.columns)\n",
    "\n",
    "# f = outcome + '~' + predictors_sum\n",
    "\n",
    "# #fit model to data\n",
    "# model2 = ols(formula=f,data=scale_df).fit()"
   ]
  },
  {
   "cell_type": "code",
   "execution_count": 31,
   "metadata": {
    "colab": {
     "base_uri": "https://localhost:8080/",
     "height": 733
    },
    "id": "nHHc4wQyh7E_",
    "outputId": "fce63bb1-7159-43b4-e845-8209e1649c13"
   },
   "outputs": [],
   "source": [
    "# model2.summary()"
   ]
  },
  {
   "cell_type": "code",
   "execution_count": 32,
   "metadata": {
    "colab": {
     "base_uri": "https://localhost:8080/",
     "height": 80
    },
    "id": "AvDwcvGJhotx",
    "outputId": "c359806c-455a-43a7-fc9e-93a502609e20"
   },
   "outputs": [],
   "source": [
    "# model_metrics(model2,'model2')"
   ]
  }
 ],
 "metadata": {
  "colab": {
   "provenance": [],
   "toc_visible": true
  },
  "kernelspec": {
   "display_name": "Python 3 (ipykernel)",
   "language": "python",
   "name": "python3"
  },
  "language_info": {
   "codemirror_mode": {
    "name": "ipython",
    "version": 3
   },
   "file_extension": ".py",
   "mimetype": "text/x-python",
   "name": "python",
   "nbconvert_exporter": "python",
   "pygments_lexer": "ipython3",
   "version": "3.10.9"
  },
  "toc": {
   "base_numbering": 1,
   "nav_menu": {},
   "number_sections": true,
   "sideBar": true,
   "skip_h1_title": false,
   "title_cell": "Table of Contents",
   "title_sidebar": "Contents",
   "toc_cell": true,
   "toc_position": {
    "height": "calc(100% - 180px)",
    "left": "10px",
    "top": "150px",
    "width": "310.191px"
   },
   "toc_section_display": true,
   "toc_window_display": true
  },
  "varInspector": {
   "cols": {
    "lenName": 16,
    "lenType": 16,
    "lenVar": 40
   },
   "kernels_config": {
    "python": {
     "delete_cmd_postfix": "",
     "delete_cmd_prefix": "del ",
     "library": "var_list.py",
     "varRefreshCmd": "print(var_dic_list())"
    },
    "r": {
     "delete_cmd_postfix": ") ",
     "delete_cmd_prefix": "rm(",
     "library": "var_list.r",
     "varRefreshCmd": "cat(var_dic_list()) "
    }
   },
   "types_to_exclude": [
    "module",
    "function",
    "builtin_function_or_method",
    "instance",
    "_Feature"
   ],
   "window_display": false
  }
 },
 "nbformat": 4,
 "nbformat_minor": 1
}
