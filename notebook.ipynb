{
 "cells": [
  {
   "cell_type": "markdown",
   "metadata": {
    "id": "yTAdZ5RNWW03",
    "toc": true
   },
   "source": [
    "<h1>Table of Contents<span class=\"tocSkip\"></span></h1>\n",
    "<div class=\"toc\"><ul class=\"toc-item\"><li><span><a href=\"#Business-Problem\" data-toc-modified-id=\"Business-Problem-1\"><span class=\"toc-item-num\">1&nbsp;&nbsp;</span>Business Problem</a></span></li><li><span><a href=\"#Methodology\" data-toc-modified-id=\"Methodology-2\"><span class=\"toc-item-num\">2&nbsp;&nbsp;</span>Methodology</a></span></li><li><span><a href=\"#Dataset\" data-toc-modified-id=\"Dataset-3\"><span class=\"toc-item-num\">3&nbsp;&nbsp;</span>Dataset</a></span></li><li><span><a href=\"#EDA\" data-toc-modified-id=\"EDA-4\"><span class=\"toc-item-num\">4&nbsp;&nbsp;</span>EDA</a></span><ul class=\"toc-item\"><li><span><a href=\"#Data-Viz\" data-toc-modified-id=\"Data-Viz-4.1\"><span class=\"toc-item-num\">4.1&nbsp;&nbsp;</span>Data Viz</a></span></li></ul></li><li><span><a href=\"#Baseline-Regression-Model---OLS-using-Statsmodels\" data-toc-modified-id=\"Baseline-Regression-Model---OLS-using-Statsmodels-5\"><span class=\"toc-item-num\">5&nbsp;&nbsp;</span>Baseline Regression Model - OLS using Statsmodels</a></span><ul class=\"toc-item\"><li><span><a href=\"#Score\" data-toc-modified-id=\"Score-5.1\"><span class=\"toc-item-num\">5.1&nbsp;&nbsp;</span>Score</a></span><ul class=\"toc-item\"><li><span><a href=\"#MAE---Mean-Absolute-Error\" data-toc-modified-id=\"MAE---Mean-Absolute-Error-5.1.1\"><span class=\"toc-item-num\">5.1.1&nbsp;&nbsp;</span>MAE - Mean Absolute Error</a></span></li><li><span><a href=\"#MSE----Mean-Square-Error\" data-toc-modified-id=\"MSE----Mean-Square-Error-5.1.2\"><span class=\"toc-item-num\">5.1.2&nbsp;&nbsp;</span>MSE -  Mean Square Error</a></span></li><li><span><a href=\"#RMSE---Root-Mean-Square-Error\" data-toc-modified-id=\"RMSE---Root-Mean-Square-Error-5.1.3\"><span class=\"toc-item-num\">5.1.3&nbsp;&nbsp;</span>RMSE - Root Mean Square Error</a></span></li><li><span><a href=\"#R-Squared\" data-toc-modified-id=\"R-Squared-5.1.4\"><span class=\"toc-item-num\">5.1.4&nbsp;&nbsp;</span>R-Squared</a></span></li></ul></li></ul></li><li><span><a href=\"#model_metrics-function\" data-toc-modified-id=\"model_metrics-function-6\"><span class=\"toc-item-num\">6&nbsp;&nbsp;</span>model_metrics function</a></span></li><li><span><a href=\"#Multicollinearity\" data-toc-modified-id=\"Multicollinearity-7\"><span class=\"toc-item-num\">7&nbsp;&nbsp;</span>Multicollinearity</a></span><ul class=\"toc-item\"><li><ul class=\"toc-item\"><li><span><a href=\"#Score\" data-toc-modified-id=\"Score-7.0.1\"><span class=\"toc-item-num\">7.0.1&nbsp;&nbsp;</span>Score</a></span></li></ul></li></ul></li><li><span><a href=\"#Scaling\" data-toc-modified-id=\"Scaling-8\"><span class=\"toc-item-num\">8&nbsp;&nbsp;</span>Scaling</a></span><ul class=\"toc-item\"><li><ul class=\"toc-item\"><li><span><a href=\"#Score\" data-toc-modified-id=\"Score-8.0.1\"><span class=\"toc-item-num\">8.0.1&nbsp;&nbsp;</span>Score</a></span></li></ul></li></ul></li><li><span><a href=\"#Log-Transformation\" data-toc-modified-id=\"Log-Transformation-9\"><span class=\"toc-item-num\">9&nbsp;&nbsp;</span>Log-Transformation</a></span><ul class=\"toc-item\"><li><ul class=\"toc-item\"><li><span><a href=\"#Score\" data-toc-modified-id=\"Score-9.0.1\"><span class=\"toc-item-num\">9.0.1&nbsp;&nbsp;</span>Score</a></span></li></ul></li></ul></li><li><span><a href=\"#Regression-model-diagnostics\" data-toc-modified-id=\"Regression-model-diagnostics-10\"><span class=\"toc-item-num\">10&nbsp;&nbsp;</span>Regression model diagnostics</a></span><ul class=\"toc-item\"><li><span><a href=\"#Linearity\" data-toc-modified-id=\"Linearity-10.1\"><span class=\"toc-item-num\">10.1&nbsp;&nbsp;</span>Linearity</a></span></li><li><span><a href=\"#Homoscedasticity\" data-toc-modified-id=\"Homoscedasticity-10.2\"><span class=\"toc-item-num\">10.2&nbsp;&nbsp;</span>Homoscedasticity</a></span></li><li><span><a href=\"#Normality-residuals-:-Q-Q-plot\" data-toc-modified-id=\"Normality-residuals-:-Q-Q-plot-10.3\"><span class=\"toc-item-num\">10.3&nbsp;&nbsp;</span>Normality residuals : Q-Q plot</a></span></li><li><span><a href=\"#Independence---Durbin-Watson-score\" data-toc-modified-id=\"Independence---Durbin-Watson-score-10.4\"><span class=\"toc-item-num\">10.4&nbsp;&nbsp;</span>Independence - Durbin-Watson score</a></span></li></ul></li><li><span><a href=\"#Removing-Outliers\" data-toc-modified-id=\"Removing-Outliers-11\"><span class=\"toc-item-num\">11&nbsp;&nbsp;</span>Removing Outliers</a></span><ul class=\"toc-item\"><li><span><a href=\"#Score\" data-toc-modified-id=\"Score-11.1\"><span class=\"toc-item-num\">11.1&nbsp;&nbsp;</span>Score</a></span></li></ul></li><li><span><a href=\"#Log-Transform-of-outlier-removed-data\" data-toc-modified-id=\"Log-Transform-of-outlier-removed-data-12\"><span class=\"toc-item-num\">12&nbsp;&nbsp;</span>Log-Transform of outlier removed data</a></span><ul class=\"toc-item\"><li><span><a href=\"#Score\" data-toc-modified-id=\"Score-12.1\"><span class=\"toc-item-num\">12.1&nbsp;&nbsp;</span>Score</a></span></li></ul></li><li><span><a href=\"#Log-Transformation-of-more-features\" data-toc-modified-id=\"Log-Transformation-of-more-features-13\"><span class=\"toc-item-num\">13&nbsp;&nbsp;</span>Log-Transformation of more features</a></span></li><li><span><a href=\"#Model-Selection\" data-toc-modified-id=\"Model-Selection-14\"><span class=\"toc-item-num\">14&nbsp;&nbsp;</span>Model Selection</a></span></li><li><span><a href=\"#Model-Interpretation\" data-toc-modified-id=\"Model-Interpretation-15\"><span class=\"toc-item-num\">15&nbsp;&nbsp;</span>Model Interpretation</a></span></li><li><span><a href=\"#Limitations\" data-toc-modified-id=\"Limitations-16\"><span class=\"toc-item-num\">16&nbsp;&nbsp;</span>Limitations</a></span></li><li><span><a href=\"#Conclusion\" data-toc-modified-id=\"Conclusion-17\"><span class=\"toc-item-num\">17&nbsp;&nbsp;</span>Conclusion</a></span></li></ul></div>"
   ]
  },
  {
   "cell_type": "markdown",
   "metadata": {
    "id": "q4BpGfa84PZ_"
   },
   "source": [
    "## Business Problem\n",
    "1. To develop a model for ACME Real Estate Agency to accurately predict a value of a house based on avaliable data. This will help their clients, either buy or sell their homes at a fair price.\n",
    "2. To identify if renovations can be made to improve the selling price of the house."
   ]
  },
  {
   "cell_type": "markdown",
   "metadata": {
    "id": "tsp0uDXS4PaC"
   },
   "source": [
    "## Methodology\n",
    "By developing using a Linear Regression model, we will try to predict the selling price of a house based on attributes like size, number of bedrooms/bathroorms etc. Model performance will be assesed by checking MAE and R-squared values."
   ]
  },
  {
   "cell_type": "markdown",
   "metadata": {
    "id": "p6__g4Hd4PaC"
   },
   "source": [
    "## Dataset\n",
    "Dataset used will be the King County House Sales dataset : `kc_house_data.csv`"
   ]
  },
  {
   "cell_type": "markdown",
   "metadata": {
    "id": "nxh4h-1L-fSR"
   },
   "source": [
    "## EDA"
   ]
  },
  {
   "cell_type": "code",
   "execution_count": 1,
   "metadata": {
    "id": "AQXSC_Cg4PaC"
   },
   "outputs": [],
   "source": [
    "#importing relevant libraries\n",
    "import pandas as pd\n",
    "import numpy as np\n",
    "import matplotlib.pyplot as plt\n",
    "import seaborn as sns\n",
    "%matplotlib inline\n",
    "import warnings\n",
    "warnings.filterwarnings('ignore')\n",
    "\n",
    "#for reading spatial data\n",
    "import geopandas as gpd\n",
    "from shapely.geometry import Point,Polygon"
   ]
  },
  {
   "cell_type": "code",
   "execution_count": 2,
   "metadata": {
    "colab": {
     "base_uri": "https://localhost:8080/",
     "height": 299
    },
    "id": "ATZxhlGn5ESl",
    "outputId": "f37e7da7-d3c6-4d53-cd01-c2824ac2a23e"
   },
   "outputs": [
    {
     "data": {
      "text/html": [
       "<div>\n",
       "<style scoped>\n",
       "    .dataframe tbody tr th:only-of-type {\n",
       "        vertical-align: middle;\n",
       "    }\n",
       "\n",
       "    .dataframe tbody tr th {\n",
       "        vertical-align: top;\n",
       "    }\n",
       "\n",
       "    .dataframe thead th {\n",
       "        text-align: right;\n",
       "    }\n",
       "</style>\n",
       "<table border=\"1\" class=\"dataframe\">\n",
       "  <thead>\n",
       "    <tr style=\"text-align: right;\">\n",
       "      <th></th>\n",
       "      <th>id</th>\n",
       "      <th>date</th>\n",
       "      <th>price</th>\n",
       "      <th>bedrooms</th>\n",
       "      <th>bathrooms</th>\n",
       "      <th>sqft_living</th>\n",
       "      <th>sqft_lot</th>\n",
       "      <th>floors</th>\n",
       "      <th>waterfront</th>\n",
       "      <th>view</th>\n",
       "      <th>...</th>\n",
       "      <th>grade</th>\n",
       "      <th>sqft_above</th>\n",
       "      <th>sqft_basement</th>\n",
       "      <th>yr_built</th>\n",
       "      <th>yr_renovated</th>\n",
       "      <th>zipcode</th>\n",
       "      <th>lat</th>\n",
       "      <th>long</th>\n",
       "      <th>sqft_living15</th>\n",
       "      <th>sqft_lot15</th>\n",
       "    </tr>\n",
       "  </thead>\n",
       "  <tbody>\n",
       "    <tr>\n",
       "      <th>0</th>\n",
       "      <td>7129300520</td>\n",
       "      <td>20141013T000000</td>\n",
       "      <td>221900.0</td>\n",
       "      <td>3</td>\n",
       "      <td>1.00</td>\n",
       "      <td>1180</td>\n",
       "      <td>5650</td>\n",
       "      <td>1.0</td>\n",
       "      <td>0</td>\n",
       "      <td>0</td>\n",
       "      <td>...</td>\n",
       "      <td>7</td>\n",
       "      <td>1180.0</td>\n",
       "      <td>0</td>\n",
       "      <td>1955</td>\n",
       "      <td>0</td>\n",
       "      <td>98178</td>\n",
       "      <td>47.5112</td>\n",
       "      <td>-122.257</td>\n",
       "      <td>1340</td>\n",
       "      <td>5650</td>\n",
       "    </tr>\n",
       "    <tr>\n",
       "      <th>1</th>\n",
       "      <td>6414100192</td>\n",
       "      <td>20141209T000000</td>\n",
       "      <td>538000.0</td>\n",
       "      <td>3</td>\n",
       "      <td>2.25</td>\n",
       "      <td>2570</td>\n",
       "      <td>7242</td>\n",
       "      <td>2.0</td>\n",
       "      <td>0</td>\n",
       "      <td>0</td>\n",
       "      <td>...</td>\n",
       "      <td>7</td>\n",
       "      <td>2170.0</td>\n",
       "      <td>400</td>\n",
       "      <td>1951</td>\n",
       "      <td>1991</td>\n",
       "      <td>98125</td>\n",
       "      <td>47.7210</td>\n",
       "      <td>-122.319</td>\n",
       "      <td>1690</td>\n",
       "      <td>7639</td>\n",
       "    </tr>\n",
       "    <tr>\n",
       "      <th>2</th>\n",
       "      <td>5631500400</td>\n",
       "      <td>20150225T000000</td>\n",
       "      <td>180000.0</td>\n",
       "      <td>2</td>\n",
       "      <td>1.00</td>\n",
       "      <td>770</td>\n",
       "      <td>10000</td>\n",
       "      <td>1.0</td>\n",
       "      <td>0</td>\n",
       "      <td>0</td>\n",
       "      <td>...</td>\n",
       "      <td>6</td>\n",
       "      <td>770.0</td>\n",
       "      <td>0</td>\n",
       "      <td>1933</td>\n",
       "      <td>0</td>\n",
       "      <td>98028</td>\n",
       "      <td>47.7379</td>\n",
       "      <td>-122.233</td>\n",
       "      <td>2720</td>\n",
       "      <td>8062</td>\n",
       "    </tr>\n",
       "    <tr>\n",
       "      <th>3</th>\n",
       "      <td>2487200875</td>\n",
       "      <td>20141209T000000</td>\n",
       "      <td>604000.0</td>\n",
       "      <td>4</td>\n",
       "      <td>3.00</td>\n",
       "      <td>1960</td>\n",
       "      <td>5000</td>\n",
       "      <td>1.0</td>\n",
       "      <td>0</td>\n",
       "      <td>0</td>\n",
       "      <td>...</td>\n",
       "      <td>7</td>\n",
       "      <td>1050.0</td>\n",
       "      <td>910</td>\n",
       "      <td>1965</td>\n",
       "      <td>0</td>\n",
       "      <td>98136</td>\n",
       "      <td>47.5208</td>\n",
       "      <td>-122.393</td>\n",
       "      <td>1360</td>\n",
       "      <td>5000</td>\n",
       "    </tr>\n",
       "    <tr>\n",
       "      <th>4</th>\n",
       "      <td>1954400510</td>\n",
       "      <td>20150218T000000</td>\n",
       "      <td>510000.0</td>\n",
       "      <td>3</td>\n",
       "      <td>2.00</td>\n",
       "      <td>1680</td>\n",
       "      <td>8080</td>\n",
       "      <td>1.0</td>\n",
       "      <td>0</td>\n",
       "      <td>0</td>\n",
       "      <td>...</td>\n",
       "      <td>8</td>\n",
       "      <td>1680.0</td>\n",
       "      <td>0</td>\n",
       "      <td>1987</td>\n",
       "      <td>0</td>\n",
       "      <td>98074</td>\n",
       "      <td>47.6168</td>\n",
       "      <td>-122.045</td>\n",
       "      <td>1800</td>\n",
       "      <td>7503</td>\n",
       "    </tr>\n",
       "  </tbody>\n",
       "</table>\n",
       "<p>5 rows × 21 columns</p>\n",
       "</div>"
      ],
      "text/plain": [
       "           id             date     price  bedrooms  bathrooms  sqft_living  \\\n",
       "0  7129300520  20141013T000000  221900.0         3       1.00         1180   \n",
       "1  6414100192  20141209T000000  538000.0         3       2.25         2570   \n",
       "2  5631500400  20150225T000000  180000.0         2       1.00          770   \n",
       "3  2487200875  20141209T000000  604000.0         4       3.00         1960   \n",
       "4  1954400510  20150218T000000  510000.0         3       2.00         1680   \n",
       "\n",
       "   sqft_lot  floors  waterfront  view  ...  grade  sqft_above  sqft_basement  \\\n",
       "0      5650     1.0           0     0  ...      7      1180.0              0   \n",
       "1      7242     2.0           0     0  ...      7      2170.0            400   \n",
       "2     10000     1.0           0     0  ...      6       770.0              0   \n",
       "3      5000     1.0           0     0  ...      7      1050.0            910   \n",
       "4      8080     1.0           0     0  ...      8      1680.0              0   \n",
       "\n",
       "   yr_built  yr_renovated  zipcode      lat     long  sqft_living15  \\\n",
       "0      1955             0    98178  47.5112 -122.257           1340   \n",
       "1      1951          1991    98125  47.7210 -122.319           1690   \n",
       "2      1933             0    98028  47.7379 -122.233           2720   \n",
       "3      1965             0    98136  47.5208 -122.393           1360   \n",
       "4      1987             0    98074  47.6168 -122.045           1800   \n",
       "\n",
       "   sqft_lot15  \n",
       "0        5650  \n",
       "1        7639  \n",
       "2        8062  \n",
       "3        5000  \n",
       "4        7503  \n",
       "\n",
       "[5 rows x 21 columns]"
      ]
     },
     "execution_count": 2,
     "metadata": {},
     "output_type": "execute_result"
    }
   ],
   "source": [
    "#importing files\n",
    "#getting the file from the github repo\n",
    "url = 'https://raw.githubusercontent.com/rahulakrish/real_estate_analysis/main/kc_house_data.csv'\n",
    "df = pd.read_csv(url)\n",
    "\n",
    "#checking the df\n",
    "df.head()"
   ]
  },
  {
   "cell_type": "markdown",
   "metadata": {
    "id": "wPmNSjh5dOIu"
   },
   "source": [
    "Gathering some info about the df:"
   ]
  },
  {
   "cell_type": "code",
   "execution_count": 3,
   "metadata": {
    "colab": {
     "base_uri": "https://localhost:8080/"
    },
    "id": "wKJmhmMH53Kq",
    "outputId": "19524019-3469-4d29-dbce-c4322bd3648a"
   },
   "outputs": [
    {
     "name": "stdout",
     "output_type": "stream",
     "text": [
      "Size of the dataframe is (21613, 21)\n",
      "\n",
      "\n",
      "<class 'pandas.core.frame.DataFrame'>\n",
      "RangeIndex: 21613 entries, 0 to 21612\n",
      "Data columns (total 21 columns):\n",
      " #   Column         Non-Null Count  Dtype  \n",
      "---  ------         --------------  -----  \n",
      " 0   id             21613 non-null  int64  \n",
      " 1   date           21613 non-null  object \n",
      " 2   price          21613 non-null  float64\n",
      " 3   bedrooms       21613 non-null  int64  \n",
      " 4   bathrooms      21613 non-null  float64\n",
      " 5   sqft_living    21613 non-null  int64  \n",
      " 6   sqft_lot       21613 non-null  int64  \n",
      " 7   floors         21613 non-null  float64\n",
      " 8   waterfront     21613 non-null  int64  \n",
      " 9   view           21613 non-null  int64  \n",
      " 10  condition      21613 non-null  int64  \n",
      " 11  grade          21613 non-null  int64  \n",
      " 12  sqft_above     21611 non-null  float64\n",
      " 13  sqft_basement  21613 non-null  int64  \n",
      " 14  yr_built       21613 non-null  int64  \n",
      " 15  yr_renovated   21613 non-null  int64  \n",
      " 16  zipcode        21613 non-null  int64  \n",
      " 17  lat            21613 non-null  float64\n",
      " 18  long           21613 non-null  float64\n",
      " 19  sqft_living15  21613 non-null  int64  \n",
      " 20  sqft_lot15     21613 non-null  int64  \n",
      "dtypes: float64(6), int64(14), object(1)\n",
      "memory usage: 3.5+ MB\n"
     ]
    }
   ],
   "source": [
    "print(f'Size of the dataframe is {df.shape}')\n",
    "print('\\n')\n",
    "df.info()"
   ]
  },
  {
   "cell_type": "markdown",
   "metadata": {
    "id": "43eFToo9ePXv"
   },
   "source": [
    "We can see that there is a reasonable amount of data for us to work with."
   ]
  },
  {
   "cell_type": "code",
   "execution_count": 4,
   "metadata": {
    "id": "98G0CLmr-KNu"
   },
   "outputs": [],
   "source": [
    "#dropping the id column since it is irrelevant\n",
    "df.drop(columns=['id','date'],axis=1,inplace=True)\n",
    "\n",
    "# #converting the date to date format\n",
    "# df['date'] = pd.to_datetime(df['date'])"
   ]
  },
  {
   "cell_type": "markdown",
   "metadata": {
    "id": "4UPBTueNe6Oq"
   },
   "source": [
    "Checking for missing data:"
   ]
  },
  {
   "cell_type": "code",
   "execution_count": 5,
   "metadata": {
    "colab": {
     "base_uri": "https://localhost:8080/"
    },
    "id": "XXdyi7AxfAGQ",
    "outputId": "2612b53e-5d89-4a0f-9d4d-bce3ff48c29e"
   },
   "outputs": [
    {
     "data": {
      "text/plain": [
       "price            0\n",
       "bedrooms         0\n",
       "bathrooms        0\n",
       "sqft_living      0\n",
       "sqft_lot         0\n",
       "floors           0\n",
       "waterfront       0\n",
       "view             0\n",
       "condition        0\n",
       "grade            0\n",
       "sqft_above       2\n",
       "sqft_basement    0\n",
       "yr_built         0\n",
       "yr_renovated     0\n",
       "zipcode          0\n",
       "lat              0\n",
       "long             0\n",
       "sqft_living15    0\n",
       "sqft_lot15       0\n",
       "dtype: int64"
      ]
     },
     "execution_count": 5,
     "metadata": {},
     "output_type": "execute_result"
    }
   ],
   "source": [
    "df.isna().sum()"
   ]
  },
  {
   "cell_type": "markdown",
   "metadata": {
    "id": "nayvEo6TsDqh"
   },
   "source": [
    "We can impute the median for the missing values in sqft_above. Since median is the actual mid-point of the data and unaffected by outlliers, it is a safe choice:"
   ]
  },
  {
   "cell_type": "code",
   "execution_count": 6,
   "metadata": {
    "colab": {
     "base_uri": "https://localhost:8080/"
    },
    "id": "bx6OLn6js4L1",
    "outputId": "502b9cb1-5bc4-4521-b895-c4a34539925c",
    "scrolled": true
   },
   "outputs": [
    {
     "data": {
      "text/plain": [
       "0    19\n",
       "dtype: int64"
      ]
     },
     "execution_count": 6,
     "metadata": {},
     "output_type": "execute_result"
    }
   ],
   "source": [
    "#getting the median\n",
    "median = df['sqft_above'].median()\n",
    "\n",
    "#imputing the median value\n",
    "df['sqft_above'].fillna(median,inplace=True)\n",
    "\n",
    "#checking to see if it workedb\n",
    "df.isna().sum().value_counts()"
   ]
  },
  {
   "cell_type": "markdown",
   "metadata": {
    "id": "hwTKBwurWW09"
   },
   "source": [
    "### Data Viz"
   ]
  },
  {
   "cell_type": "markdown",
   "metadata": {
    "id": "lyk99HmvWW09"
   },
   "source": [
    "Since location is king in real-estate, let's plot the listings in a map of King's county and highlight the distribution of prices."
   ]
  },
  {
   "cell_type": "markdown",
   "metadata": {
    "id": "HdkZqyHugSti"
   },
   "source": [
    "For pricing, let's add an extra column to highlight where the price of each house stands in comparision with the median value. When we visualize this data, this could help understand if certain locations are more valuable than others."
   ]
  },
  {
   "cell_type": "markdown",
   "metadata": {
    "id": "sD4s8ZWngpPX"
   },
   "source": [
    "First, let's create a pandas Series of the house prices alone:"
   ]
  },
  {
   "cell_type": "code",
   "execution_count": 7,
   "metadata": {
    "colab": {
     "base_uri": "https://localhost:8080/"
    },
    "id": "4qrUxz1qgy14",
    "outputId": "ad6472e0-a7f1-4e07-a94c-605a83aee2b8"
   },
   "outputs": [
    {
     "data": {
      "text/plain": [
       "count    2.161300e+04\n",
       "mean     5.400881e+05\n",
       "std      3.671272e+05\n",
       "min      7.500000e+04\n",
       "25%      3.219500e+05\n",
       "50%      4.500000e+05\n",
       "75%      6.450000e+05\n",
       "max      7.700000e+06\n",
       "Name: price, dtype: float64"
      ]
     },
     "execution_count": 7,
     "metadata": {},
     "output_type": "execute_result"
    }
   ],
   "source": [
    "price = pd.Series(df['price'].describe())\n",
    "price"
   ]
  },
  {
   "cell_type": "markdown",
   "metadata": {
    "id": "yswelsbtg19L"
   },
   "source": [
    "Now, let's create a new column called 'median-range'. Houses that fall within the first quartile range will be labelled as 'QR1'; inter-quartile range as 'IRQ' and the third quartile 'QR3'. Min and max prices will also be highlighted."
   ]
  },
  {
   "cell_type": "code",
   "execution_count": 8,
   "metadata": {
    "id": "FOeasU0rdYP8"
   },
   "outputs": [],
   "source": [
    "#first quartile\n",
    "df.loc[df['price'] <= price['25%'], 'median_range'] = 'QR1'\n",
    "\n",
    "#second quartile\n",
    "df.loc[(df['price'] > price['25%']) & (df['price'] <= price['75%']), 'median_range'] ='IQR'\n",
    "\n",
    "#third quartile\n",
    "df.loc[df['price'] >= price['75%'], 'median_range'] = 'QR3'\n",
    "\n",
    "#min\n",
    "df.loc[df['price'] == price['min'], 'median_range'] = 'min'\n",
    "\n",
    "#max\n",
    "df.loc[df['price'] == price['max'], 'median_range'] = 'max'"
   ]
  },
  {
   "cell_type": "markdown",
   "metadata": {
    "id": "oLsGZN0NijI4"
   },
   "source": [
    "By getting a look at the the value_counts of the newly formed 'median_range' column, we can get a fair idea about pricing:"
   ]
  },
  {
   "cell_type": "code",
   "execution_count": 9,
   "metadata": {
    "colab": {
     "base_uri": "https://localhost:8080/"
    },
    "id": "-2bAmuHoi7p0",
    "outputId": "c0eb6d03-379c-4d8f-829e-63dbdbb0ae8b"
   },
   "outputs": [
    {
     "data": {
      "text/plain": [
       "IQR    10796\n",
       "QR3     5412\n",
       "QR1     5403\n",
       "min        1\n",
       "max        1\n",
       "Name: median_range, dtype: int64"
      ]
     },
     "execution_count": 9,
     "metadata": {},
     "output_type": "execute_result"
    }
   ],
   "source": [
    "df['median_range'].value_counts()"
   ]
  },
  {
   "cell_type": "markdown",
   "metadata": {
    "id": "MoVEtAK8jP04"
   },
   "source": [
    "Looks like nearly half the dataset has house prices in the inter-quartile range while the first and quartiles are evenly split."
   ]
  },
  {
   "cell_type": "markdown",
   "metadata": {
    "id": "Yq0bLh0oX1A5"
   },
   "source": [
    "Let's visualize the listings and their respective median_range on a map . This can be done using the `geopandas` library."
   ]
  },
  {
   "cell_type": "code",
   "execution_count": 10,
   "metadata": {
    "id": "AQdFsg0CX1A5"
   },
   "outputs": [],
   "source": [
    "# #creating a copy of the df\n",
    "# mapdf = df.copy()\n",
    "\n",
    "# #reading the shapefile of Kings County\n",
    "# king_map = gpd.read_file('Addresses_in_King_County___address_point.shp')"
   ]
  },
  {
   "cell_type": "code",
   "execution_count": 11,
   "metadata": {
    "id": "LMaFqUKdX1A6",
    "scrolled": false
   },
   "outputs": [],
   "source": [
    "# #defining the co-ordinate system\n",
    "# crs = {'init': 'EPSG:4326'}\n",
    "\n",
    "# #setting up points\n",
    "# geometry = [Point(xy) for xy in zip(mapdf['long'],mapdf['lat'])]\n",
    "# geo_df = gpd.GeoDataFrame(mapdf,\n",
    "#                          crs=crs,\n",
    "#                          geometry=geometry)\n",
    "\n",
    "# #plotting data\n",
    "# fig,ax=plt.subplots(figsize=(10,10))\n",
    "# king_map.to_crs(epsg=4326).plot(ax=ax,color='lightgrey')\n",
    "# sns.scatterplot(x='long',y='lat',data=mapdf,hue='median_range',ax=ax)\n",
    "# ax.set_title('Listings Distribution');"
   ]
  },
  {
   "cell_type": "markdown",
   "metadata": {
    "id": "1ZR3Sk_bWW0-"
   },
   "source": [
    "While houses with prices in the IQR are somewhat evenly distributed, we can see that the more expensive houses are in the northern part of King's county, while lower priced houses are prevalent in the southern region."
   ]
  },
  {
   "cell_type": "markdown",
   "metadata": {
    "id": "nq4826YZWW0-"
   },
   "source": [
    "## Baseline Regression Model - OLS using Statsmodels"
   ]
  },
  {
   "cell_type": "markdown",
   "metadata": {
    "id": "O9X49U4QWW0-"
   },
   "source": [
    "Statsmodels is a powerful package for statistical analysis in Python. The Ordinary Least Squares regression is a method to estimate the unknown parameters in a linear regression model. It minimizes the sum of squared vertical distances between the observed values and the values predicted by linear approximation."
   ]
  },
  {
   "cell_type": "code",
   "execution_count": 12,
   "metadata": {
    "id": "JE33MwDBWW0-"
   },
   "outputs": [],
   "source": [
    "import statsmodels.api as sm\n",
    "from statsmodels.formula.api import ols"
   ]
  },
  {
   "cell_type": "code",
   "execution_count": 13,
   "metadata": {
    "id": "KOU9UZqFWW0-"
   },
   "outputs": [],
   "source": [
    "#dropping some of the irrelevant columns\n",
    "df.drop('median_range',axis=1,inplace=True)"
   ]
  },
  {
   "cell_type": "code",
   "execution_count": 14,
   "metadata": {
    "id": "JZdujPgTWW0-"
   },
   "outputs": [],
   "source": [
    "#fitting a baseline model using OLS\n",
    "outcome = 'price'\n",
    "predictors = df.drop('price',axis=1)\n",
    "predictors_sum = '+'.join(predictors.columns)\n",
    "\n",
    "f = outcome + '~' + predictors_sum\n",
    "\n",
    "#fit model to data\n",
    "model = ols(formula=f,data=df).fit()"
   ]
  },
  {
   "cell_type": "code",
   "execution_count": 15,
   "metadata": {
    "colab": {
     "base_uri": "https://localhost:8080/",
     "height": 830
    },
    "id": "BN4Wz-tZWW0-",
    "outputId": "c1b8b5b0-4437-4555-f7d1-d33d89dfa78d",
    "scrolled": false
   },
   "outputs": [
    {
     "data": {
      "text/html": [
       "<table class=\"simpletable\">\n",
       "<caption>OLS Regression Results</caption>\n",
       "<tr>\n",
       "  <th>Dep. Variable:</th>          <td>price</td>      <th>  R-squared:         </th>  <td>   0.700</td>  \n",
       "</tr>\n",
       "<tr>\n",
       "  <th>Model:</th>                   <td>OLS</td>       <th>  Adj. R-squared:    </th>  <td>   0.700</td>  \n",
       "</tr>\n",
       "<tr>\n",
       "  <th>Method:</th>             <td>Least Squares</td>  <th>  F-statistic:       </th>  <td>   2796.</td>  \n",
       "</tr>\n",
       "<tr>\n",
       "  <th>Date:</th>             <td>Sun, 30 Jul 2023</td> <th>  Prob (F-statistic):</th>   <td>  0.00</td>   \n",
       "</tr>\n",
       "<tr>\n",
       "  <th>Time:</th>                 <td>14:14:18</td>     <th>  Log-Likelihood:    </th> <td>-2.9460e+05</td>\n",
       "</tr>\n",
       "<tr>\n",
       "  <th>No. Observations:</th>      <td> 21613</td>      <th>  AIC:               </th>  <td>5.892e+05</td> \n",
       "</tr>\n",
       "<tr>\n",
       "  <th>Df Residuals:</th>          <td> 21594</td>      <th>  BIC:               </th>  <td>5.894e+05</td> \n",
       "</tr>\n",
       "<tr>\n",
       "  <th>Df Model:</th>              <td>    18</td>      <th>                     </th>      <td> </td>     \n",
       "</tr>\n",
       "<tr>\n",
       "  <th>Covariance Type:</th>      <td>nonrobust</td>    <th>                     </th>      <td> </td>     \n",
       "</tr>\n",
       "</table>\n",
       "<table class=\"simpletable\">\n",
       "<tr>\n",
       "        <td></td>           <th>coef</th>     <th>std err</th>      <th>t</th>      <th>P>|t|</th>  <th>[0.025</th>    <th>0.975]</th>  \n",
       "</tr>\n",
       "<tr>\n",
       "  <th>Intercept</th>     <td>  6.73e+06</td> <td> 2.93e+06</td> <td>    2.296</td> <td> 0.022</td> <td> 9.84e+05</td> <td> 1.25e+07</td>\n",
       "</tr>\n",
       "<tr>\n",
       "  <th>bedrooms</th>      <td>-3.579e+04</td> <td> 1891.984</td> <td>  -18.917</td> <td> 0.000</td> <td>-3.95e+04</td> <td>-3.21e+04</td>\n",
       "</tr>\n",
       "<tr>\n",
       "  <th>bathrooms</th>     <td> 4.113e+04</td> <td> 3253.700</td> <td>   12.641</td> <td> 0.000</td> <td> 3.48e+04</td> <td> 4.75e+04</td>\n",
       "</tr>\n",
       "<tr>\n",
       "  <th>sqft_living</th>   <td> -511.9134</td> <td>  665.255</td> <td>   -0.769</td> <td> 0.442</td> <td>-1815.863</td> <td>  792.036</td>\n",
       "</tr>\n",
       "<tr>\n",
       "  <th>sqft_lot</th>      <td>    0.1285</td> <td>    0.048</td> <td>    2.682</td> <td> 0.007</td> <td>    0.035</td> <td>    0.222</td>\n",
       "</tr>\n",
       "<tr>\n",
       "  <th>floors</th>        <td> 6693.9138</td> <td> 3595.854</td> <td>    1.862</td> <td> 0.063</td> <td> -354.226</td> <td> 1.37e+04</td>\n",
       "</tr>\n",
       "<tr>\n",
       "  <th>waterfront</th>    <td>  5.83e+05</td> <td> 1.74e+04</td> <td>   33.581</td> <td> 0.000</td> <td> 5.49e+05</td> <td> 6.17e+05</td>\n",
       "</tr>\n",
       "<tr>\n",
       "  <th>view</th>          <td> 5.286e+04</td> <td> 2140.096</td> <td>   24.698</td> <td> 0.000</td> <td> 4.87e+04</td> <td> 5.71e+04</td>\n",
       "</tr>\n",
       "<tr>\n",
       "  <th>condition</th>     <td> 2.636e+04</td> <td> 2351.554</td> <td>   11.211</td> <td> 0.000</td> <td> 2.18e+04</td> <td>  3.1e+04</td>\n",
       "</tr>\n",
       "<tr>\n",
       "  <th>grade</th>         <td> 9.588e+04</td> <td> 2152.793</td> <td>   44.539</td> <td> 0.000</td> <td> 9.17e+04</td> <td>    1e+05</td>\n",
       "</tr>\n",
       "<tr>\n",
       "  <th>sqft_above</th>    <td>  693.1863</td> <td>  665.288</td> <td>    1.042</td> <td> 0.297</td> <td> -610.828</td> <td> 1997.201</td>\n",
       "</tr>\n",
       "<tr>\n",
       "  <th>sqft_basement</th> <td>  662.1335</td> <td>  665.374</td> <td>    0.995</td> <td> 0.320</td> <td> -642.049</td> <td> 1966.316</td>\n",
       "</tr>\n",
       "<tr>\n",
       "  <th>yr_built</th>      <td>-2620.6112</td> <td>   72.660</td> <td>  -36.067</td> <td> 0.000</td> <td>-2763.030</td> <td>-2478.192</td>\n",
       "</tr>\n",
       "<tr>\n",
       "  <th>yr_renovated</th>  <td>   19.7957</td> <td>    3.656</td> <td>    5.415</td> <td> 0.000</td> <td>   12.630</td> <td>   26.961</td>\n",
       "</tr>\n",
       "<tr>\n",
       "  <th>zipcode</th>       <td> -582.8066</td> <td>   32.988</td> <td>  -17.667</td> <td> 0.000</td> <td> -647.465</td> <td> -518.148</td>\n",
       "</tr>\n",
       "<tr>\n",
       "  <th>lat</th>           <td> 6.028e+05</td> <td> 1.07e+04</td> <td>   56.152</td> <td> 0.000</td> <td> 5.82e+05</td> <td> 6.24e+05</td>\n",
       "</tr>\n",
       "<tr>\n",
       "  <th>long</th>          <td>-2.147e+05</td> <td> 1.31e+04</td> <td>  -16.348</td> <td> 0.000</td> <td> -2.4e+05</td> <td>-1.89e+05</td>\n",
       "</tr>\n",
       "<tr>\n",
       "  <th>sqft_living15</th> <td>   21.6583</td> <td>    3.448</td> <td>    6.282</td> <td> 0.000</td> <td>   14.900</td> <td>   28.416</td>\n",
       "</tr>\n",
       "<tr>\n",
       "  <th>sqft_lot15</th>    <td>   -0.3828</td> <td>    0.073</td> <td>   -5.224</td> <td> 0.000</td> <td>   -0.526</td> <td>   -0.239</td>\n",
       "</tr>\n",
       "</table>\n",
       "<table class=\"simpletable\">\n",
       "<tr>\n",
       "  <th>Omnibus:</th>       <td>18382.359</td> <th>  Durbin-Watson:     </th>  <td>   1.990</td>  \n",
       "</tr>\n",
       "<tr>\n",
       "  <th>Prob(Omnibus):</th>  <td> 0.000</td>   <th>  Jarque-Bera (JB):  </th> <td>1867608.902</td>\n",
       "</tr>\n",
       "<tr>\n",
       "  <th>Skew:</th>           <td> 3.566</td>   <th>  Prob(JB):          </th>  <td>    0.00</td>  \n",
       "</tr>\n",
       "<tr>\n",
       "  <th>Kurtosis:</th>       <td>47.978</td>   <th>  Cond. No.          </th>  <td>2.16e+08</td>  \n",
       "</tr>\n",
       "</table><br/><br/>Notes:<br/>[1] Standard Errors assume that the covariance matrix of the errors is correctly specified.<br/>[2] The condition number is large, 2.16e+08. This might indicate that there are<br/>strong multicollinearity or other numerical problems."
      ],
      "text/plain": [
       "<class 'statsmodels.iolib.summary.Summary'>\n",
       "\"\"\"\n",
       "                            OLS Regression Results                            \n",
       "==============================================================================\n",
       "Dep. Variable:                  price   R-squared:                       0.700\n",
       "Model:                            OLS   Adj. R-squared:                  0.700\n",
       "Method:                 Least Squares   F-statistic:                     2796.\n",
       "Date:                Sun, 30 Jul 2023   Prob (F-statistic):               0.00\n",
       "Time:                        14:14:18   Log-Likelihood:            -2.9460e+05\n",
       "No. Observations:               21613   AIC:                         5.892e+05\n",
       "Df Residuals:                   21594   BIC:                         5.894e+05\n",
       "Df Model:                          18                                         \n",
       "Covariance Type:            nonrobust                                         \n",
       "=================================================================================\n",
       "                    coef    std err          t      P>|t|      [0.025      0.975]\n",
       "---------------------------------------------------------------------------------\n",
       "Intercept       6.73e+06   2.93e+06      2.296      0.022    9.84e+05    1.25e+07\n",
       "bedrooms      -3.579e+04   1891.984    -18.917      0.000   -3.95e+04   -3.21e+04\n",
       "bathrooms      4.113e+04   3253.700     12.641      0.000    3.48e+04    4.75e+04\n",
       "sqft_living    -511.9134    665.255     -0.769      0.442   -1815.863     792.036\n",
       "sqft_lot          0.1285      0.048      2.682      0.007       0.035       0.222\n",
       "floors         6693.9138   3595.854      1.862      0.063    -354.226    1.37e+04\n",
       "waterfront      5.83e+05   1.74e+04     33.581      0.000    5.49e+05    6.17e+05\n",
       "view           5.286e+04   2140.096     24.698      0.000    4.87e+04    5.71e+04\n",
       "condition      2.636e+04   2351.554     11.211      0.000    2.18e+04     3.1e+04\n",
       "grade          9.588e+04   2152.793     44.539      0.000    9.17e+04       1e+05\n",
       "sqft_above      693.1863    665.288      1.042      0.297    -610.828    1997.201\n",
       "sqft_basement   662.1335    665.374      0.995      0.320    -642.049    1966.316\n",
       "yr_built      -2620.6112     72.660    -36.067      0.000   -2763.030   -2478.192\n",
       "yr_renovated     19.7957      3.656      5.415      0.000      12.630      26.961\n",
       "zipcode        -582.8066     32.988    -17.667      0.000    -647.465    -518.148\n",
       "lat            6.028e+05   1.07e+04     56.152      0.000    5.82e+05    6.24e+05\n",
       "long          -2.147e+05   1.31e+04    -16.348      0.000    -2.4e+05   -1.89e+05\n",
       "sqft_living15    21.6583      3.448      6.282      0.000      14.900      28.416\n",
       "sqft_lot15       -0.3828      0.073     -5.224      0.000      -0.526      -0.239\n",
       "==============================================================================\n",
       "Omnibus:                    18382.359   Durbin-Watson:                   1.990\n",
       "Prob(Omnibus):                  0.000   Jarque-Bera (JB):          1867608.902\n",
       "Skew:                           3.566   Prob(JB):                         0.00\n",
       "Kurtosis:                      47.978   Cond. No.                     2.16e+08\n",
       "==============================================================================\n",
       "\n",
       "Notes:\n",
       "[1] Standard Errors assume that the covariance matrix of the errors is correctly specified.\n",
       "[2] The condition number is large, 2.16e+08. This might indicate that there are\n",
       "strong multicollinearity or other numerical problems.\n",
       "\"\"\""
      ]
     },
     "execution_count": 15,
     "metadata": {},
     "output_type": "execute_result"
    }
   ],
   "source": [
    "#view model results\n",
    "model.summary()"
   ]
  },
  {
   "cell_type": "markdown",
   "metadata": {
    "id": "dx08EvsGWW0-"
   },
   "source": [
    "### Score"
   ]
  },
  {
   "cell_type": "markdown",
   "metadata": {
    "id": "EFZt1VRjWW0-"
   },
   "source": [
    "#### MAE - Mean Absolute Error"
   ]
  },
  {
   "cell_type": "markdown",
   "metadata": {
    "id": "OENE9xo6WW0-"
   },
   "source": [
    "MAE is the measure of the average size of the mistakes in the predictions of the model, without taking into account their direction"
   ]
  },
  {
   "cell_type": "markdown",
   "metadata": {
    "id": "86knSAOhWW1C"
   },
   "source": [
    "By taking the absolute of the mean difference between the true values and the predicted values of the model, we can calculate the MAE"
   ]
  },
  {
   "cell_type": "code",
   "execution_count": 16,
   "metadata": {
    "colab": {
     "base_uri": "https://localhost:8080/"
    },
    "id": "_IFXT5neWW1C",
    "outputId": "97a86733-e4c8-432e-9cf4-df3e76591397"
   },
   "outputs": [
    {
     "data": {
      "text/plain": [
       "125916.46049461601"
      ]
     },
     "execution_count": 16,
     "metadata": {},
     "output_type": "execute_result"
    }
   ],
   "source": [
    "#getting predicted values\n",
    "y_preds = model.fittedvalues\n",
    "\n",
    "#get the mean of the difference between prediction and actual values\n",
    "model_mae = np.mean(np.abs(df['price'] - y_preds))\n",
    "model_mae"
   ]
  },
  {
   "cell_type": "markdown",
   "metadata": {
    "id": "g1GVHDlaWW1C"
   },
   "source": [
    "#### MSE -  Mean Square Error"
   ]
  },
  {
   "cell_type": "markdown",
   "metadata": {
    "id": "niZz2Qp6WW1C"
   },
   "source": [
    "Represents the average of the squared difference of the residuals. Consequently, higher residuals will be penalized more."
   ]
  },
  {
   "cell_type": "code",
   "execution_count": 17,
   "metadata": {
    "colab": {
     "base_uri": "https://localhost:8080/"
    },
    "id": "A4QsNZr2WW1C",
    "outputId": "5479f185-3f3b-494a-916c-cc7ebdb7eda1"
   },
   "outputs": [
    {
     "data": {
      "text/plain": [
       "40500485207.86815"
      ]
     },
     "execution_count": 17,
     "metadata": {},
     "output_type": "execute_result"
    }
   ],
   "source": [
    "#residuals - difference between the predicted and actual price.\n",
    "# can verify by subtracting y_preds from model.fittedvalues(fittedvalues-predicted values)\n",
    "# model.resid\n",
    "\n",
    "#mean square error of the residuals - measures the variance of the residuals\n",
    "model.mse_resid"
   ]
  },
  {
   "cell_type": "markdown",
   "metadata": {
    "id": "25s0eKsZWW1C"
   },
   "source": [
    "#### RMSE - Root Mean Square Error"
   ]
  },
  {
   "cell_type": "markdown",
   "metadata": {
    "id": "9j9iJcbfWW1D"
   },
   "source": [
    "is the square root of the MSE and represents the standard deviation of the residuals."
   ]
  },
  {
   "cell_type": "code",
   "execution_count": 18,
   "metadata": {
    "colab": {
     "base_uri": "https://localhost:8080/"
    },
    "id": "4Nrlj2OmWW1D",
    "outputId": "f4d0778a-3d0d-4b6b-da15-8e517c46260a"
   },
   "outputs": [
    {
     "data": {
      "text/plain": [
       "201247.3234800109"
      ]
     },
     "execution_count": 18,
     "metadata": {},
     "output_type": "execute_result"
    }
   ],
   "source": [
    "#root mean square of the residuals - measures the standard devation of the residuals and brings it back to the orignal units\n",
    "rmse_residuals = np.sqrt(model.mse_resid)\n",
    "rmse_residuals"
   ]
  },
  {
   "cell_type": "markdown",
   "metadata": {
    "id": "suObskSPWW1D"
   },
   "source": [
    "#### R-Squared"
   ]
  },
  {
   "cell_type": "markdown",
   "metadata": {
    "id": "uXxUb0uEWW1D"
   },
   "source": [
    "represents the proportion of the variance in the dependent variable that can be explained by the regression model or in the words tells us how well the predictor variables can explain the response variable."
   ]
  },
  {
   "cell_type": "code",
   "execution_count": 19,
   "metadata": {
    "colab": {
     "base_uri": "https://localhost:8080/"
    },
    "id": "tYatV8GTWW1D",
    "outputId": "65af4e2c-90e7-4083-bfd4-2cfa80ec4e3c"
   },
   "outputs": [
    {
     "data": {
      "text/plain": [
       "0.6997622832854797"
      ]
     },
     "execution_count": 19,
     "metadata": {},
     "output_type": "execute_result"
    }
   ],
   "source": [
    "model.rsquared"
   ]
  },
  {
   "cell_type": "markdown",
   "metadata": {
    "id": "dP2I7gytRSy5"
   },
   "source": [
    "Approx. 70% of the variance in the price of a house can be expalined by the model using the independent variables."
   ]
  },
  {
   "cell_type": "markdown",
   "metadata": {
    "id": "BlcK7r4FJFIa"
   },
   "source": [
    "## model_metrics function"
   ]
  },
  {
   "cell_type": "markdown",
   "metadata": {
    "id": "qdEAnHSowtG2"
   },
   "source": [
    "We can build a function to output the MAE and R-squared value to make things efficient:"
   ]
  },
  {
   "cell_type": "code",
   "execution_count": 20,
   "metadata": {
    "id": "1AFFBUs5ne_2"
   },
   "outputs": [],
   "source": [
    "def model_metrics(model,model_name):\n",
    "    mae = round(np.mean(np.abs(model.fittedvalues - df['price'])),2)\n",
    "  # mse = round(model.mse_resid,2)\n",
    "  # rmse = round(np.sqrt(model.mse_resid),2)\n",
    "    rsquared = round(model.rsquared,3)\n",
    "\n",
    "    metrics = {'MAE' : mae,\n",
    "               'R-squared' : rsquared}\n",
    "\n",
    "    metrics_df = pd.DataFrame(metrics,index=[model_name])\n",
    "\n",
    "    return metrics_df"
   ]
  },
  {
   "cell_type": "code",
   "execution_count": 21,
   "metadata": {
    "colab": {
     "base_uri": "https://localhost:8080/",
     "height": 80
    },
    "id": "Sse2e0HBxD0r",
    "outputId": "fc43341c-13d7-43d0-9c1a-d5f016bfa67a",
    "scrolled": true
   },
   "outputs": [
    {
     "data": {
      "text/html": [
       "<div>\n",
       "<style scoped>\n",
       "    .dataframe tbody tr th:only-of-type {\n",
       "        vertical-align: middle;\n",
       "    }\n",
       "\n",
       "    .dataframe tbody tr th {\n",
       "        vertical-align: top;\n",
       "    }\n",
       "\n",
       "    .dataframe thead th {\n",
       "        text-align: right;\n",
       "    }\n",
       "</style>\n",
       "<table border=\"1\" class=\"dataframe\">\n",
       "  <thead>\n",
       "    <tr style=\"text-align: right;\">\n",
       "      <th></th>\n",
       "      <th>MAE</th>\n",
       "      <th>R-squared</th>\n",
       "    </tr>\n",
       "  </thead>\n",
       "  <tbody>\n",
       "    <tr>\n",
       "      <th>baseline_model</th>\n",
       "      <td>125916.46</td>\n",
       "      <td>0.7</td>\n",
       "    </tr>\n",
       "  </tbody>\n",
       "</table>\n",
       "</div>"
      ],
      "text/plain": [
       "                      MAE  R-squared\n",
       "baseline_model  125916.46        0.7"
      ]
     },
     "execution_count": 21,
     "metadata": {},
     "output_type": "execute_result"
    }
   ],
   "source": [
    "baseline = model_metrics(model,'baseline_model')\n",
    "baseline"
   ]
  },
  {
   "cell_type": "markdown",
   "metadata": {
    "id": "ma6DI7aThvzK"
   },
   "source": [
    "The MAE values tells us that the predicted value of a house is off by approx. $125,000."
   ]
  },
  {
   "cell_type": "markdown",
   "metadata": {
    "id": "BFmaQiFf3cLO"
   },
   "source": [
    "The R-squared value tells us that 70% of the variance in the price of a house can be explained by the features in the dataset."
   ]
  },
  {
   "cell_type": "markdown",
   "metadata": {
    "id": "VHsRPzTdWW1D"
   },
   "source": [
    "We can apply some pre-processing to the data to try and improve model performance"
   ]
  },
  {
   "cell_type": "markdown",
   "metadata": {
    "id": "0JCUZpTSWW1D"
   },
   "source": [
    "## Multicollinearity"
   ]
  },
  {
   "cell_type": "markdown",
   "metadata": {
    "id": "VGuFstnqbZju"
   },
   "source": [
    "Let's check for correlation between the features. Let's only highlight values greater than 0.5"
   ]
  },
  {
   "cell_type": "code",
   "execution_count": 22,
   "metadata": {
    "colab": {
     "base_uri": "https://localhost:8080/",
     "height": 533
    },
    "id": "jYe_fbhkYFAT",
    "outputId": "42daa04c-752c-4571-f3e2-a9a180c41e52"
   },
   "outputs": [
    {
     "data": {
      "text/plain": [
       "<Axes: >"
      ]
     },
     "execution_count": 22,
     "metadata": {},
     "output_type": "execute_result"
    },
    {
     "data": {
      "image/png": "[encoded data removed]",
      "text/plain": [
       "<Figure size 2000x800 with 2 Axes>"
      ]
     },
     "metadata": {},
     "output_type": "display_data"
    }
   ],
   "source": [
    "#using seaborn heatmap\n",
    "fig,ax=plt.subplots(figsize=(20,8))\n",
    "#setting the min value as 0.5\n",
    "sns.heatmap(df.corr(),annot=True,vmin=0.5)"
   ]
  },
  {
   "cell_type": "markdown",
   "metadata": {
    "id": "T9ufA3aBYTTx"
   },
   "source": [
    "We can see sqft-living and sqft_lot are highly correlated. As is the case with sqft_living and sqft_above. Let's build a model by dropping some these features and check for performance"
   ]
  },
  {
   "cell_type": "code",
   "execution_count": 23,
   "metadata": {
    "id": "zHFX-qtodeRF"
   },
   "outputs": [],
   "source": [
    "df.drop(['sqft_living15','sqft_lot15','sqft_above'],axis=1,inplace=True)"
   ]
  },
  {
   "cell_type": "code",
   "execution_count": 24,
   "metadata": {
    "id": "hTlFu_qhciuY"
   },
   "outputs": [],
   "source": [
    "#fitting a new model\n",
    "outcome = 'price'\n",
    "predictors = df.drop('price',axis=1)\n",
    "predictors_sum = '+'.join(predictors.columns)\n",
    "\n",
    "f = outcome + '~' + predictors_sum\n",
    "\n",
    "#fit model to data\n",
    "model1 = ols(formula=f,data=df).fit()"
   ]
  },
  {
   "cell_type": "code",
   "execution_count": 25,
   "metadata": {
    "colab": {
     "base_uri": "https://localhost:8080/",
     "height": 768
    },
    "id": "h6UzPntRd8rh",
    "outputId": "85e7e727-2c58-4bd3-c02b-18b610e5afd0"
   },
   "outputs": [
    {
     "data": {
      "text/html": [
       "<table class=\"simpletable\">\n",
       "<caption>OLS Regression Results</caption>\n",
       "<tr>\n",
       "  <th>Dep. Variable:</th>          <td>price</td>      <th>  R-squared:         </th>  <td>   0.699</td>  \n",
       "</tr>\n",
       "<tr>\n",
       "  <th>Model:</th>                   <td>OLS</td>       <th>  Adj. R-squared:    </th>  <td>   0.699</td>  \n",
       "</tr>\n",
       "<tr>\n",
       "  <th>Method:</th>             <td>Least Squares</td>  <th>  F-statistic:       </th>  <td>   3341.</td>  \n",
       "</tr>\n",
       "<tr>\n",
       "  <th>Date:</th>             <td>Sun, 30 Jul 2023</td> <th>  Prob (F-statistic):</th>   <td>  0.00</td>   \n",
       "</tr>\n",
       "<tr>\n",
       "  <th>Time:</th>                 <td>14:14:19</td>     <th>  Log-Likelihood:    </th> <td>-2.9463e+05</td>\n",
       "</tr>\n",
       "<tr>\n",
       "  <th>No. Observations:</th>      <td> 21613</td>      <th>  AIC:               </th>  <td>5.893e+05</td> \n",
       "</tr>\n",
       "<tr>\n",
       "  <th>Df Residuals:</th>          <td> 21597</td>      <th>  BIC:               </th>  <td>5.894e+05</td> \n",
       "</tr>\n",
       "<tr>\n",
       "  <th>Df Model:</th>              <td>    15</td>      <th>                     </th>      <td> </td>     \n",
       "</tr>\n",
       "<tr>\n",
       "  <th>Covariance Type:</th>      <td>nonrobust</td>    <th>                     </th>      <td> </td>     \n",
       "</tr>\n",
       "</table>\n",
       "<table class=\"simpletable\">\n",
       "<tr>\n",
       "        <td></td>           <th>coef</th>     <th>std err</th>      <th>t</th>      <th>P>|t|</th>  <th>[0.025</th>    <th>0.975]</th>  \n",
       "</tr>\n",
       "<tr>\n",
       "  <th>Intercept</th>     <td>  9.32e+06</td> <td> 2.88e+06</td> <td>    3.231</td> <td> 0.001</td> <td> 3.67e+06</td> <td>  1.5e+07</td>\n",
       "</tr>\n",
       "<tr>\n",
       "  <th>bedrooms</th>      <td>-3.547e+04</td> <td> 1892.408</td> <td>  -18.745</td> <td> 0.000</td> <td>-3.92e+04</td> <td>-3.18e+04</td>\n",
       "</tr>\n",
       "<tr>\n",
       "  <th>bathrooms</th>     <td>   4.1e+04</td> <td> 3255.640</td> <td>   12.593</td> <td> 0.000</td> <td> 3.46e+04</td> <td> 4.74e+04</td>\n",
       "</tr>\n",
       "<tr>\n",
       "  <th>sqft_living</th>   <td>  189.1382</td> <td>    3.354</td> <td>   56.391</td> <td> 0.000</td> <td>  182.564</td> <td>  195.712</td>\n",
       "</tr>\n",
       "<tr>\n",
       "  <th>sqft_lot</th>      <td>   -0.0528</td> <td>    0.035</td> <td>   -1.519</td> <td> 0.129</td> <td>   -0.121</td> <td>    0.015</td>\n",
       "</tr>\n",
       "<tr>\n",
       "  <th>floors</th>        <td> 4890.1954</td> <td> 3575.607</td> <td>    1.368</td> <td> 0.171</td> <td>-2118.259</td> <td> 1.19e+04</td>\n",
       "</tr>\n",
       "<tr>\n",
       "  <th>waterfront</th>    <td>  5.79e+05</td> <td> 1.74e+04</td> <td>   33.318</td> <td> 0.000</td> <td> 5.45e+05</td> <td> 6.13e+05</td>\n",
       "</tr>\n",
       "<tr>\n",
       "  <th>view</th>          <td> 5.486e+04</td> <td> 2116.216</td> <td>   25.925</td> <td> 0.000</td> <td> 5.07e+04</td> <td>  5.9e+04</td>\n",
       "</tr>\n",
       "<tr>\n",
       "  <th>condition</th>     <td> 2.563e+04</td> <td> 2352.719</td> <td>   10.892</td> <td> 0.000</td> <td>  2.1e+04</td> <td> 3.02e+04</td>\n",
       "</tr>\n",
       "<tr>\n",
       "  <th>grade</th>         <td> 9.989e+04</td> <td> 2065.839</td> <td>   48.353</td> <td> 0.000</td> <td> 9.58e+04</td> <td> 1.04e+05</td>\n",
       "</tr>\n",
       "<tr>\n",
       "  <th>sqft_basement</th> <td>  -34.5561</td> <td>    4.320</td> <td>   -7.999</td> <td> 0.000</td> <td>  -43.024</td> <td>  -26.089</td>\n",
       "</tr>\n",
       "<tr>\n",
       "  <th>yr_built</th>      <td>-2638.1992</td> <td>   72.726</td> <td>  -36.276</td> <td> 0.000</td> <td>-2780.748</td> <td>-2495.651</td>\n",
       "</tr>\n",
       "<tr>\n",
       "  <th>yr_renovated</th>  <td>   18.3739</td> <td>    3.655</td> <td>    5.027</td> <td> 0.000</td> <td>   11.209</td> <td>   25.539</td>\n",
       "</tr>\n",
       "<tr>\n",
       "  <th>zipcode</th>       <td> -602.5850</td> <td>   32.885</td> <td>  -18.324</td> <td> 0.000</td> <td> -667.042</td> <td> -538.128</td>\n",
       "</tr>\n",
       "<tr>\n",
       "  <th>lat</th>           <td> 6.072e+05</td> <td> 1.07e+04</td> <td>   56.572</td> <td> 0.000</td> <td> 5.86e+05</td> <td> 6.28e+05</td>\n",
       "</tr>\n",
       "<tr>\n",
       "  <th>long</th>          <td>-2.079e+05</td> <td> 1.29e+04</td> <td>  -16.060</td> <td> 0.000</td> <td>-2.33e+05</td> <td>-1.83e+05</td>\n",
       "</tr>\n",
       "</table>\n",
       "<table class=\"simpletable\">\n",
       "<tr>\n",
       "  <th>Omnibus:</th>       <td>18129.036</td> <th>  Durbin-Watson:     </th>  <td>   1.990</td>  \n",
       "</tr>\n",
       "<tr>\n",
       "  <th>Prob(Omnibus):</th>  <td> 0.000</td>   <th>  Jarque-Bera (JB):  </th> <td>1753416.717</td>\n",
       "</tr>\n",
       "<tr>\n",
       "  <th>Skew:</th>           <td> 3.500</td>   <th>  Prob(JB):          </th>  <td>    0.00</td>  \n",
       "</tr>\n",
       "<tr>\n",
       "  <th>Kurtosis:</th>       <td>46.567</td>   <th>  Cond. No.          </th>  <td>2.09e+08</td>  \n",
       "</tr>\n",
       "</table><br/><br/>Notes:<br/>[1] Standard Errors assume that the covariance matrix of the errors is correctly specified.<br/>[2] The condition number is large, 2.09e+08. This might indicate that there are<br/>strong multicollinearity or other numerical problems."
      ],
      "text/plain": [
       "<class 'statsmodels.iolib.summary.Summary'>\n",
       "\"\"\"\n",
       "                            OLS Regression Results                            \n",
       "==============================================================================\n",
       "Dep. Variable:                  price   R-squared:                       0.699\n",
       "Model:                            OLS   Adj. R-squared:                  0.699\n",
       "Method:                 Least Squares   F-statistic:                     3341.\n",
       "Date:                Sun, 30 Jul 2023   Prob (F-statistic):               0.00\n",
       "Time:                        14:14:19   Log-Likelihood:            -2.9463e+05\n",
       "No. Observations:               21613   AIC:                         5.893e+05\n",
       "Df Residuals:                   21597   BIC:                         5.894e+05\n",
       "Df Model:                          15                                         \n",
       "Covariance Type:            nonrobust                                         \n",
       "=================================================================================\n",
       "                    coef    std err          t      P>|t|      [0.025      0.975]\n",
       "---------------------------------------------------------------------------------\n",
       "Intercept       9.32e+06   2.88e+06      3.231      0.001    3.67e+06     1.5e+07\n",
       "bedrooms      -3.547e+04   1892.408    -18.745      0.000   -3.92e+04   -3.18e+04\n",
       "bathrooms        4.1e+04   3255.640     12.593      0.000    3.46e+04    4.74e+04\n",
       "sqft_living     189.1382      3.354     56.391      0.000     182.564     195.712\n",
       "sqft_lot         -0.0528      0.035     -1.519      0.129      -0.121       0.015\n",
       "floors         4890.1954   3575.607      1.368      0.171   -2118.259    1.19e+04\n",
       "waterfront      5.79e+05   1.74e+04     33.318      0.000    5.45e+05    6.13e+05\n",
       "view           5.486e+04   2116.216     25.925      0.000    5.07e+04     5.9e+04\n",
       "condition      2.563e+04   2352.719     10.892      0.000     2.1e+04    3.02e+04\n",
       "grade          9.989e+04   2065.839     48.353      0.000    9.58e+04    1.04e+05\n",
       "sqft_basement   -34.5561      4.320     -7.999      0.000     -43.024     -26.089\n",
       "yr_built      -2638.1992     72.726    -36.276      0.000   -2780.748   -2495.651\n",
       "yr_renovated     18.3739      3.655      5.027      0.000      11.209      25.539\n",
       "zipcode        -602.5850     32.885    -18.324      0.000    -667.042    -538.128\n",
       "lat            6.072e+05   1.07e+04     56.572      0.000    5.86e+05    6.28e+05\n",
       "long          -2.079e+05   1.29e+04    -16.060      0.000   -2.33e+05   -1.83e+05\n",
       "==============================================================================\n",
       "Omnibus:                    18129.036   Durbin-Watson:                   1.990\n",
       "Prob(Omnibus):                  0.000   Jarque-Bera (JB):          1753416.717\n",
       "Skew:                           3.500   Prob(JB):                         0.00\n",
       "Kurtosis:                      46.567   Cond. No.                     2.09e+08\n",
       "==============================================================================\n",
       "\n",
       "Notes:\n",
       "[1] Standard Errors assume that the covariance matrix of the errors is correctly specified.\n",
       "[2] The condition number is large, 2.09e+08. This might indicate that there are\n",
       "strong multicollinearity or other numerical problems.\n",
       "\"\"\""
      ]
     },
     "execution_count": 25,
     "metadata": {},
     "output_type": "execute_result"
    }
   ],
   "source": [
    "model1.summary()"
   ]
  },
  {
   "cell_type": "markdown",
   "metadata": {
    "id": "0XmafMCmTS8t"
   },
   "source": [
    "#### Score"
   ]
  },
  {
   "cell_type": "code",
   "execution_count": 26,
   "metadata": {
    "colab": {
     "base_uri": "https://localhost:8080/",
     "height": 80
    },
    "id": "ETsBTHjBovFB",
    "outputId": "90122906-d9cd-4e65-fcb8-f232e92c09cd"
   },
   "outputs": [
    {
     "data": {
      "text/html": [
       "<div>\n",
       "<style scoped>\n",
       "    .dataframe tbody tr th:only-of-type {\n",
       "        vertical-align: middle;\n",
       "    }\n",
       "\n",
       "    .dataframe tbody tr th {\n",
       "        vertical-align: top;\n",
       "    }\n",
       "\n",
       "    .dataframe thead th {\n",
       "        text-align: right;\n",
       "    }\n",
       "</style>\n",
       "<table border=\"1\" class=\"dataframe\">\n",
       "  <thead>\n",
       "    <tr style=\"text-align: right;\">\n",
       "      <th></th>\n",
       "      <th>MAE</th>\n",
       "      <th>R-squared</th>\n",
       "    </tr>\n",
       "  </thead>\n",
       "  <tbody>\n",
       "    <tr>\n",
       "      <th>multi_coll</th>\n",
       "      <td>126148.38</td>\n",
       "      <td>0.699</td>\n",
       "    </tr>\n",
       "  </tbody>\n",
       "</table>\n",
       "</div>"
      ],
      "text/plain": [
       "                  MAE  R-squared\n",
       "multi_coll  126148.38      0.699"
      ]
     },
     "execution_count": 26,
     "metadata": {},
     "output_type": "execute_result"
    }
   ],
   "source": [
    "multi_coll = model_metrics(model1,'multi_coll')\n",
    "multi_coll"
   ]
  },
  {
   "cell_type": "code",
   "execution_count": 27,
   "metadata": {
    "colab": {
     "base_uri": "https://localhost:8080/",
     "height": 112
    },
    "id": "4RuK4ZcU33xg",
    "outputId": "5e4122d5-6242-4fe6-8141-06f5e3b2b68b"
   },
   "outputs": [
    {
     "data": {
      "text/html": [
       "<div>\n",
       "<style scoped>\n",
       "    .dataframe tbody tr th:only-of-type {\n",
       "        vertical-align: middle;\n",
       "    }\n",
       "\n",
       "    .dataframe tbody tr th {\n",
       "        vertical-align: top;\n",
       "    }\n",
       "\n",
       "    .dataframe thead th {\n",
       "        text-align: right;\n",
       "    }\n",
       "</style>\n",
       "<table border=\"1\" class=\"dataframe\">\n",
       "  <thead>\n",
       "    <tr style=\"text-align: right;\">\n",
       "      <th></th>\n",
       "      <th>MAE</th>\n",
       "      <th>R-squared</th>\n",
       "    </tr>\n",
       "  </thead>\n",
       "  <tbody>\n",
       "    <tr>\n",
       "      <th>baseline_model</th>\n",
       "      <td>125916.46</td>\n",
       "      <td>0.700</td>\n",
       "    </tr>\n",
       "    <tr>\n",
       "      <th>multi_coll</th>\n",
       "      <td>126148.38</td>\n",
       "      <td>0.699</td>\n",
       "    </tr>\n",
       "  </tbody>\n",
       "</table>\n",
       "</div>"
      ],
      "text/plain": [
       "                      MAE  R-squared\n",
       "baseline_model  125916.46      0.700\n",
       "multi_coll      126148.38      0.699"
      ]
     },
     "execution_count": 27,
     "metadata": {},
     "output_type": "execute_result"
    }
   ],
   "source": [
    "scores = pd.concat([baseline,multi_coll],axis=0)\n",
    "scores"
   ]
  },
  {
   "cell_type": "markdown",
   "metadata": {
    "id": "L7xJVGq97XUo"
   },
   "source": [
    "Looks like the model got slightly worse."
   ]
  },
  {
   "cell_type": "markdown",
   "metadata": {
    "id": "YVYn8WfRhvzM"
   },
   "source": [
    "Let's try a different approach"
   ]
  },
  {
   "cell_type": "markdown",
   "metadata": {
    "id": "w66KiCAZ7kdn"
   },
   "source": [
    "## Scaling"
   ]
  },
  {
   "cell_type": "markdown",
   "metadata": {
    "id": "i4NbT8697uQh"
   },
   "source": [
    "If the independent variables all have different scales, then this could lead to misinterpretation i.e. features represented on a larger scale might have larger coefficents. By making the scale uniform across the data set, this will help improve model performance."
   ]
  },
  {
   "cell_type": "code",
   "execution_count": 28,
   "metadata": {
    "colab": {
     "base_uri": "https://localhost:8080/"
    },
    "id": "M-cFOkwcCtNP",
    "outputId": "99fd6d50-e5af-49c4-83b1-3f1475899057"
   },
   "outputs": [
    {
     "data": {
      "text/plain": [
       "array([[0.09090909, 0.125     , 0.06716981, ..., 0.89393939, 0.57149751,\n",
       "        0.21760797],\n",
       "       [0.09090909, 0.28125   , 0.17207547, ..., 0.62626263, 0.90895931,\n",
       "        0.16611296],\n",
       "       [0.06060606, 0.125     , 0.03622642, ..., 0.13636364, 0.93614283,\n",
       "        0.23754153],\n",
       "       ...,\n",
       "       [0.06060606, 0.09375   , 0.05509434, ..., 0.72222222, 0.70532411,\n",
       "        0.18272425],\n",
       "       [0.09090909, 0.3125    , 0.09886792, ..., 0.13131313, 0.60897539,\n",
       "        0.37375415],\n",
       "       [0.06060606, 0.09375   , 0.05509434, ..., 0.72222222, 0.70484156,\n",
       "        0.18272425]])"
      ]
     },
     "execution_count": 28,
     "metadata": {},
     "output_type": "execute_result"
    }
   ],
   "source": [
    "#creating a copy of the df\n",
    "df1 = df.copy()\n",
    "\n",
    "#making a list of the columns\n",
    "cols = list(df1.columns)\n",
    "\n",
    "#removing the dependent variable\n",
    "cols.remove('price')\n",
    "\n",
    "#importing the MinMaxScaler class\n",
    "from sklearn.preprocessing import MinMaxScaler\n",
    "\n",
    "#initialize the scaler\n",
    "scaler = MinMaxScaler()\n",
    "\n",
    "#fit the scaler on the data\n",
    "scaled = scaler.fit_transform(df1[cols])\n",
    "\n",
    "# scale_df.head()\n",
    "scaled"
   ]
  },
  {
   "cell_type": "code",
   "execution_count": 29,
   "metadata": {
    "colab": {
     "base_uri": "https://localhost:8080/",
     "height": 270
    },
    "id": "9HgBHdBNN92h",
    "outputId": "728d160f-04d0-46f0-b0cc-0e367b76585f"
   },
   "outputs": [
    {
     "data": {
      "text/html": [
       "<div>\n",
       "<style scoped>\n",
       "    .dataframe tbody tr th:only-of-type {\n",
       "        vertical-align: middle;\n",
       "    }\n",
       "\n",
       "    .dataframe tbody tr th {\n",
       "        vertical-align: top;\n",
       "    }\n",
       "\n",
       "    .dataframe thead th {\n",
       "        text-align: right;\n",
       "    }\n",
       "</style>\n",
       "<table border=\"1\" class=\"dataframe\">\n",
       "  <thead>\n",
       "    <tr style=\"text-align: right;\">\n",
       "      <th></th>\n",
       "      <th>price</th>\n",
       "      <th>bedrooms</th>\n",
       "      <th>bathrooms</th>\n",
       "      <th>sqft_living</th>\n",
       "      <th>sqft_lot</th>\n",
       "      <th>floors</th>\n",
       "      <th>waterfront</th>\n",
       "      <th>view</th>\n",
       "      <th>condition</th>\n",
       "      <th>grade</th>\n",
       "      <th>sqft_basement</th>\n",
       "      <th>yr_built</th>\n",
       "      <th>yr_renovated</th>\n",
       "      <th>zipcode</th>\n",
       "      <th>lat</th>\n",
       "      <th>long</th>\n",
       "    </tr>\n",
       "  </thead>\n",
       "  <tbody>\n",
       "    <tr>\n",
       "      <th>0</th>\n",
       "      <td>221900.0</td>\n",
       "      <td>0.090909</td>\n",
       "      <td>0.12500</td>\n",
       "      <td>0.067170</td>\n",
       "      <td>0.003108</td>\n",
       "      <td>0.0</td>\n",
       "      <td>0.0</td>\n",
       "      <td>0.0</td>\n",
       "      <td>0.5</td>\n",
       "      <td>0.500000</td>\n",
       "      <td>0.000000</td>\n",
       "      <td>0.478261</td>\n",
       "      <td>0.000000</td>\n",
       "      <td>0.893939</td>\n",
       "      <td>0.571498</td>\n",
       "      <td>0.217608</td>\n",
       "    </tr>\n",
       "    <tr>\n",
       "      <th>1</th>\n",
       "      <td>538000.0</td>\n",
       "      <td>0.090909</td>\n",
       "      <td>0.28125</td>\n",
       "      <td>0.172075</td>\n",
       "      <td>0.004072</td>\n",
       "      <td>0.4</td>\n",
       "      <td>0.0</td>\n",
       "      <td>0.0</td>\n",
       "      <td>0.5</td>\n",
       "      <td>0.500000</td>\n",
       "      <td>0.082988</td>\n",
       "      <td>0.443478</td>\n",
       "      <td>0.988089</td>\n",
       "      <td>0.626263</td>\n",
       "      <td>0.908959</td>\n",
       "      <td>0.166113</td>\n",
       "    </tr>\n",
       "    <tr>\n",
       "      <th>2</th>\n",
       "      <td>180000.0</td>\n",
       "      <td>0.060606</td>\n",
       "      <td>0.12500</td>\n",
       "      <td>0.036226</td>\n",
       "      <td>0.005743</td>\n",
       "      <td>0.0</td>\n",
       "      <td>0.0</td>\n",
       "      <td>0.0</td>\n",
       "      <td>0.5</td>\n",
       "      <td>0.416667</td>\n",
       "      <td>0.000000</td>\n",
       "      <td>0.286957</td>\n",
       "      <td>0.000000</td>\n",
       "      <td>0.136364</td>\n",
       "      <td>0.936143</td>\n",
       "      <td>0.237542</td>\n",
       "    </tr>\n",
       "    <tr>\n",
       "      <th>3</th>\n",
       "      <td>604000.0</td>\n",
       "      <td>0.121212</td>\n",
       "      <td>0.37500</td>\n",
       "      <td>0.126038</td>\n",
       "      <td>0.002714</td>\n",
       "      <td>0.0</td>\n",
       "      <td>0.0</td>\n",
       "      <td>0.0</td>\n",
       "      <td>1.0</td>\n",
       "      <td>0.500000</td>\n",
       "      <td>0.188797</td>\n",
       "      <td>0.565217</td>\n",
       "      <td>0.000000</td>\n",
       "      <td>0.681818</td>\n",
       "      <td>0.586939</td>\n",
       "      <td>0.104651</td>\n",
       "    </tr>\n",
       "    <tr>\n",
       "      <th>4</th>\n",
       "      <td>510000.0</td>\n",
       "      <td>0.090909</td>\n",
       "      <td>0.25000</td>\n",
       "      <td>0.104906</td>\n",
       "      <td>0.004579</td>\n",
       "      <td>0.0</td>\n",
       "      <td>0.0</td>\n",
       "      <td>0.0</td>\n",
       "      <td>0.5</td>\n",
       "      <td>0.583333</td>\n",
       "      <td>0.000000</td>\n",
       "      <td>0.756522</td>\n",
       "      <td>0.000000</td>\n",
       "      <td>0.368687</td>\n",
       "      <td>0.741354</td>\n",
       "      <td>0.393688</td>\n",
       "    </tr>\n",
       "  </tbody>\n",
       "</table>\n",
       "</div>"
      ],
      "text/plain": [
       "      price  bedrooms  bathrooms  sqft_living  sqft_lot  floors  waterfront  \\\n",
       "0  221900.0  0.090909    0.12500     0.067170  0.003108     0.0         0.0   \n",
       "1  538000.0  0.090909    0.28125     0.172075  0.004072     0.4         0.0   \n",
       "2  180000.0  0.060606    0.12500     0.036226  0.005743     0.0         0.0   \n",
       "3  604000.0  0.121212    0.37500     0.126038  0.002714     0.0         0.0   \n",
       "4  510000.0  0.090909    0.25000     0.104906  0.004579     0.0         0.0   \n",
       "\n",
       "   view  condition     grade  sqft_basement  yr_built  yr_renovated   zipcode  \\\n",
       "0   0.0        0.5  0.500000       0.000000  0.478261      0.000000  0.893939   \n",
       "1   0.0        0.5  0.500000       0.082988  0.443478      0.988089  0.626263   \n",
       "2   0.0        0.5  0.416667       0.000000  0.286957      0.000000  0.136364   \n",
       "3   0.0        1.0  0.500000       0.188797  0.565217      0.000000  0.681818   \n",
       "4   0.0        0.5  0.583333       0.000000  0.756522      0.000000  0.368687   \n",
       "\n",
       "        lat      long  \n",
       "0  0.571498  0.217608  \n",
       "1  0.908959  0.166113  \n",
       "2  0.936143  0.237542  \n",
       "3  0.586939  0.104651  \n",
       "4  0.741354  0.393688  "
      ]
     },
     "execution_count": 29,
     "metadata": {},
     "output_type": "execute_result"
    }
   ],
   "source": [
    "#converting the scaled data into a df\n",
    "scaled_df = pd.DataFrame(data=scaled,columns=cols)\n",
    "scaled_df = pd.concat([df['price'],scaled_df],axis=1)\n",
    "scaled_df.head()"
   ]
  },
  {
   "cell_type": "markdown",
   "metadata": {
    "id": "6LHaqtvHhTa1"
   },
   "source": [
    "As we can see, all the values are between 0 and 1.\n",
    "Let's fit a model on the scaled data and see what the results are:"
   ]
  },
  {
   "cell_type": "code",
   "execution_count": 30,
   "metadata": {
    "colab": {
     "base_uri": "https://localhost:8080/",
     "height": 733
    },
    "id": "lLwAuPUPhfCI",
    "outputId": "c02dd62b-701b-4245-cca1-575ae65be74f"
   },
   "outputs": [
    {
     "data": {
      "text/html": [
       "<table class=\"simpletable\">\n",
       "<caption>OLS Regression Results</caption>\n",
       "<tr>\n",
       "  <th>Dep. Variable:</th>          <td>price</td>      <th>  R-squared:         </th>  <td>   0.699</td>  \n",
       "</tr>\n",
       "<tr>\n",
       "  <th>Model:</th>                   <td>OLS</td>       <th>  Adj. R-squared:    </th>  <td>   0.699</td>  \n",
       "</tr>\n",
       "<tr>\n",
       "  <th>Method:</th>             <td>Least Squares</td>  <th>  F-statistic:       </th>  <td>   3341.</td>  \n",
       "</tr>\n",
       "<tr>\n",
       "  <th>Date:</th>             <td>Sun, 30 Jul 2023</td> <th>  Prob (F-statistic):</th>   <td>  0.00</td>   \n",
       "</tr>\n",
       "<tr>\n",
       "  <th>Time:</th>                 <td>14:14:19</td>     <th>  Log-Likelihood:    </th> <td>-2.9463e+05</td>\n",
       "</tr>\n",
       "<tr>\n",
       "  <th>No. Observations:</th>      <td> 21613</td>      <th>  AIC:               </th>  <td>5.893e+05</td> \n",
       "</tr>\n",
       "<tr>\n",
       "  <th>Df Residuals:</th>          <td> 21597</td>      <th>  BIC:               </th>  <td>5.894e+05</td> \n",
       "</tr>\n",
       "<tr>\n",
       "  <th>Df Model:</th>              <td>    15</td>      <th>                     </th>      <td> </td>     \n",
       "</tr>\n",
       "<tr>\n",
       "  <th>Covariance Type:</th>      <td>nonrobust</td>    <th>                     </th>      <td> </td>     \n",
       "</tr>\n",
       "</table>\n",
       "<table class=\"simpletable\">\n",
       "<tr>\n",
       "        <td></td>           <th>coef</th>     <th>std err</th>      <th>t</th>      <th>P>|t|</th>  <th>[0.025</th>    <th>0.975]</th>  \n",
       "</tr>\n",
       "<tr>\n",
       "  <th>Intercept</th>     <td>-4.509e+05</td> <td>  1.5e+04</td> <td>  -30.122</td> <td> 0.000</td> <td> -4.8e+05</td> <td>-4.22e+05</td>\n",
       "</tr>\n",
       "<tr>\n",
       "  <th>bedrooms</th>      <td>-1.171e+06</td> <td> 6.24e+04</td> <td>  -18.745</td> <td> 0.000</td> <td>-1.29e+06</td> <td>-1.05e+06</td>\n",
       "</tr>\n",
       "<tr>\n",
       "  <th>bathrooms</th>     <td>  3.28e+05</td> <td>  2.6e+04</td> <td>   12.593</td> <td> 0.000</td> <td> 2.77e+05</td> <td> 3.79e+05</td>\n",
       "</tr>\n",
       "<tr>\n",
       "  <th>sqft_living</th>   <td> 2.506e+06</td> <td> 4.44e+04</td> <td>   56.391</td> <td> 0.000</td> <td> 2.42e+06</td> <td> 2.59e+06</td>\n",
       "</tr>\n",
       "<tr>\n",
       "  <th>sqft_lot</th>      <td>-8.716e+04</td> <td> 5.74e+04</td> <td>   -1.519</td> <td> 0.129</td> <td>   -2e+05</td> <td> 2.53e+04</td>\n",
       "</tr>\n",
       "<tr>\n",
       "  <th>floors</th>        <td> 1.223e+04</td> <td> 8939.018</td> <td>    1.368</td> <td> 0.171</td> <td>-5295.647</td> <td> 2.97e+04</td>\n",
       "</tr>\n",
       "<tr>\n",
       "  <th>waterfront</th>    <td>  5.79e+05</td> <td> 1.74e+04</td> <td>   33.318</td> <td> 0.000</td> <td> 5.45e+05</td> <td> 6.13e+05</td>\n",
       "</tr>\n",
       "<tr>\n",
       "  <th>view</th>          <td> 2.194e+05</td> <td> 8464.863</td> <td>   25.925</td> <td> 0.000</td> <td> 2.03e+05</td> <td> 2.36e+05</td>\n",
       "</tr>\n",
       "<tr>\n",
       "  <th>condition</th>     <td> 1.025e+05</td> <td> 9410.878</td> <td>   10.892</td> <td> 0.000</td> <td> 8.41e+04</td> <td> 1.21e+05</td>\n",
       "</tr>\n",
       "<tr>\n",
       "  <th>grade</th>         <td> 1.199e+06</td> <td> 2.48e+04</td> <td>   48.353</td> <td> 0.000</td> <td> 1.15e+06</td> <td> 1.25e+06</td>\n",
       "</tr>\n",
       "<tr>\n",
       "  <th>sqft_basement</th> <td>-1.666e+05</td> <td> 2.08e+04</td> <td>   -7.999</td> <td> 0.000</td> <td>-2.07e+05</td> <td>-1.26e+05</td>\n",
       "</tr>\n",
       "<tr>\n",
       "  <th>yr_built</th>      <td>-3.034e+05</td> <td> 8363.490</td> <td>  -36.276</td> <td> 0.000</td> <td> -3.2e+05</td> <td>-2.87e+05</td>\n",
       "</tr>\n",
       "<tr>\n",
       "  <th>yr_renovated</th>  <td> 3.702e+04</td> <td> 7365.449</td> <td>    5.027</td> <td> 0.000</td> <td> 2.26e+04</td> <td> 5.15e+04</td>\n",
       "</tr>\n",
       "<tr>\n",
       "  <th>zipcode</th>       <td>-1.193e+05</td> <td> 6511.234</td> <td>  -18.324</td> <td> 0.000</td> <td>-1.32e+05</td> <td>-1.07e+05</td>\n",
       "</tr>\n",
       "<tr>\n",
       "  <th>lat</th>           <td> 3.775e+05</td> <td> 6673.343</td> <td>   56.572</td> <td> 0.000</td> <td> 3.64e+05</td> <td> 3.91e+05</td>\n",
       "</tr>\n",
       "<tr>\n",
       "  <th>long</th>          <td>-2.503e+05</td> <td> 1.56e+04</td> <td>  -16.060</td> <td> 0.000</td> <td>-2.81e+05</td> <td> -2.2e+05</td>\n",
       "</tr>\n",
       "</table>\n",
       "<table class=\"simpletable\">\n",
       "<tr>\n",
       "  <th>Omnibus:</th>       <td>18129.036</td> <th>  Durbin-Watson:     </th>  <td>   1.990</td>  \n",
       "</tr>\n",
       "<tr>\n",
       "  <th>Prob(Omnibus):</th>  <td> 0.000</td>   <th>  Jarque-Bera (JB):  </th> <td>1753416.717</td>\n",
       "</tr>\n",
       "<tr>\n",
       "  <th>Skew:</th>           <td> 3.500</td>   <th>  Prob(JB):          </th>  <td>    0.00</td>  \n",
       "</tr>\n",
       "<tr>\n",
       "  <th>Kurtosis:</th>       <td>46.567</td>   <th>  Cond. No.          </th>  <td>    82.8</td>  \n",
       "</tr>\n",
       "</table><br/><br/>Notes:<br/>[1] Standard Errors assume that the covariance matrix of the errors is correctly specified."
      ],
      "text/plain": [
       "<class 'statsmodels.iolib.summary.Summary'>\n",
       "\"\"\"\n",
       "                            OLS Regression Results                            \n",
       "==============================================================================\n",
       "Dep. Variable:                  price   R-squared:                       0.699\n",
       "Model:                            OLS   Adj. R-squared:                  0.699\n",
       "Method:                 Least Squares   F-statistic:                     3341.\n",
       "Date:                Sun, 30 Jul 2023   Prob (F-statistic):               0.00\n",
       "Time:                        14:14:19   Log-Likelihood:            -2.9463e+05\n",
       "No. Observations:               21613   AIC:                         5.893e+05\n",
       "Df Residuals:                   21597   BIC:                         5.894e+05\n",
       "Df Model:                          15                                         \n",
       "Covariance Type:            nonrobust                                         \n",
       "=================================================================================\n",
       "                    coef    std err          t      P>|t|      [0.025      0.975]\n",
       "---------------------------------------------------------------------------------\n",
       "Intercept     -4.509e+05    1.5e+04    -30.122      0.000    -4.8e+05   -4.22e+05\n",
       "bedrooms      -1.171e+06   6.24e+04    -18.745      0.000   -1.29e+06   -1.05e+06\n",
       "bathrooms       3.28e+05    2.6e+04     12.593      0.000    2.77e+05    3.79e+05\n",
       "sqft_living    2.506e+06   4.44e+04     56.391      0.000    2.42e+06    2.59e+06\n",
       "sqft_lot      -8.716e+04   5.74e+04     -1.519      0.129      -2e+05    2.53e+04\n",
       "floors         1.223e+04   8939.018      1.368      0.171   -5295.647    2.97e+04\n",
       "waterfront      5.79e+05   1.74e+04     33.318      0.000    5.45e+05    6.13e+05\n",
       "view           2.194e+05   8464.863     25.925      0.000    2.03e+05    2.36e+05\n",
       "condition      1.025e+05   9410.878     10.892      0.000    8.41e+04    1.21e+05\n",
       "grade          1.199e+06   2.48e+04     48.353      0.000    1.15e+06    1.25e+06\n",
       "sqft_basement -1.666e+05   2.08e+04     -7.999      0.000   -2.07e+05   -1.26e+05\n",
       "yr_built      -3.034e+05   8363.490    -36.276      0.000    -3.2e+05   -2.87e+05\n",
       "yr_renovated   3.702e+04   7365.449      5.027      0.000    2.26e+04    5.15e+04\n",
       "zipcode       -1.193e+05   6511.234    -18.324      0.000   -1.32e+05   -1.07e+05\n",
       "lat            3.775e+05   6673.343     56.572      0.000    3.64e+05    3.91e+05\n",
       "long          -2.503e+05   1.56e+04    -16.060      0.000   -2.81e+05    -2.2e+05\n",
       "==============================================================================\n",
       "Omnibus:                    18129.036   Durbin-Watson:                   1.990\n",
       "Prob(Omnibus):                  0.000   Jarque-Bera (JB):          1753416.717\n",
       "Skew:                           3.500   Prob(JB):                         0.00\n",
       "Kurtosis:                      46.567   Cond. No.                         82.8\n",
       "==============================================================================\n",
       "\n",
       "Notes:\n",
       "[1] Standard Errors assume that the covariance matrix of the errors is correctly specified.\n",
       "\"\"\""
      ]
     },
     "execution_count": 30,
     "metadata": {},
     "output_type": "execute_result"
    }
   ],
   "source": [
    "#fitting a new model\n",
    "outcome = 'price'\n",
    "predictors = scaled_df.drop('price',axis=1)\n",
    "predictors_sum = '+'.join(predictors.columns)\n",
    "\n",
    "f = outcome + '~' + predictors_sum\n",
    "\n",
    "#fit model to data\n",
    "model2 = ols(formula=f,data=scaled_df).fit()\n",
    "model2.summary()"
   ]
  },
  {
   "cell_type": "markdown",
   "metadata": {
    "id": "62PDxvMYTa96"
   },
   "source": [
    "#### Score"
   ]
  },
  {
   "cell_type": "code",
   "execution_count": 31,
   "metadata": {
    "colab": {
     "base_uri": "https://localhost:8080/",
     "height": 143
    },
    "id": "AvDwcvGJhotx",
    "outputId": "dcba6f90-6515-4d8d-eed2-5f1e7c33c9b6"
   },
   "outputs": [
    {
     "data": {
      "text/html": [
       "<div>\n",
       "<style scoped>\n",
       "    .dataframe tbody tr th:only-of-type {\n",
       "        vertical-align: middle;\n",
       "    }\n",
       "\n",
       "    .dataframe tbody tr th {\n",
       "        vertical-align: top;\n",
       "    }\n",
       "\n",
       "    .dataframe thead th {\n",
       "        text-align: right;\n",
       "    }\n",
       "</style>\n",
       "<table border=\"1\" class=\"dataframe\">\n",
       "  <thead>\n",
       "    <tr style=\"text-align: right;\">\n",
       "      <th></th>\n",
       "      <th>MAE</th>\n",
       "      <th>R-squared</th>\n",
       "    </tr>\n",
       "  </thead>\n",
       "  <tbody>\n",
       "    <tr>\n",
       "      <th>baseline_model</th>\n",
       "      <td>125916.46</td>\n",
       "      <td>0.700</td>\n",
       "    </tr>\n",
       "    <tr>\n",
       "      <th>multi_coll</th>\n",
       "      <td>126148.38</td>\n",
       "      <td>0.699</td>\n",
       "    </tr>\n",
       "    <tr>\n",
       "      <th>scaled</th>\n",
       "      <td>126148.38</td>\n",
       "      <td>0.699</td>\n",
       "    </tr>\n",
       "  </tbody>\n",
       "</table>\n",
       "</div>"
      ],
      "text/plain": [
       "                      MAE  R-squared\n",
       "baseline_model  125916.46      0.700\n",
       "multi_coll      126148.38      0.699\n",
       "scaled          126148.38      0.699"
      ]
     },
     "execution_count": 31,
     "metadata": {},
     "output_type": "execute_result"
    }
   ],
   "source": [
    "#model metrics\n",
    "scaled = model_metrics(model2,'scaled')\n",
    "\n",
    "#adding to the scores df\n",
    "scores = scores.append(scaled)\n",
    "scores"
   ]
  },
  {
   "cell_type": "markdown",
   "metadata": {
    "id": "N30BmEmFTeZJ"
   },
   "source": [
    "## Log-Transformation"
   ]
  },
  {
   "cell_type": "markdown",
   "metadata": {
    "id": "bjmftp3X9W0i"
   },
   "source": [
    "Linear Rergression works well with normally distributed variables. Let's check to see if the data satisfies this condition:"
   ]
  },
  {
   "cell_type": "code",
   "execution_count": 32,
   "metadata": {
    "colab": {
     "base_uri": "https://localhost:8080/",
     "height": 1000
    },
    "id": "up4wHeheQi8g",
    "outputId": "614f9326-a6f8-477e-d682-aa3ea7f8b7ee"
   },
   "outputs": [
    {
     "data": {
      "image/png": "[encoded data removed]",
      "text/plain": [
       "<Figure size 800x1200 with 16 Axes>"
      ]
     },
     "metadata": {},
     "output_type": "display_data"
    }
   ],
   "source": [
    "#histogram of the dataset\n",
    "fig,ax=plt.subplots(figsize=(8,12))\n",
    "pd.plotting.hist_frame(df,ax=ax);"
   ]
  },
  {
   "cell_type": "markdown",
   "metadata": {
    "id": "4ZCucFtL90fl"
   },
   "source": [
    "From the above plot, it is quite apparent that none of the features are normally distributed. Let's apply log transformation to the dependent variable i.e. 'price' and see the effects:"
   ]
  },
  {
   "cell_type": "code",
   "execution_count": 33,
   "metadata": {
    "colab": {
     "base_uri": "https://localhost:8080/",
     "height": 291
    },
    "id": "7EL-s8g53XuY",
    "outputId": "adde4a56-93c7-4f95-acbf-7c7312c3bb8f"
   },
   "outputs": [
    {
     "data": {
      "image/png": "[encoded data removed]",
      "text/plain": [
       "<Figure size 500x300 with 1 Axes>"
      ]
     },
     "metadata": {},
     "output_type": "display_data"
    }
   ],
   "source": [
    "#creating a copy of the original df\n",
    "df2 = df1.copy()\n",
    "\n",
    "#transforming only the dependent variable: price\n",
    "df2['price'] = df2['price'].map(lambda x: np.log(x))\n",
    "\n",
    "#plotting\n",
    "fig,ax=plt.subplots(figsize=(5,3))\n",
    "df2['price'].plot(kind='hist',ax=ax);"
   ]
  },
  {
   "cell_type": "markdown",
   "metadata": {
    "id": "ZwB6CEmd-3iR"
   },
   "source": [
    "We can see how applying log-tansformation has effected the distribution of the variable. Let's model using the transformed data:"
   ]
  },
  {
   "cell_type": "code",
   "execution_count": 34,
   "metadata": {
    "id": "JG3sbIiz5eCG"
   },
   "outputs": [],
   "source": [
    "#fitting a new model\n",
    "outcome = 'price'\n",
    "predictors = df2.drop('price',axis=1)\n",
    "predictors_sum = '+'.join(predictors.columns)\n",
    "\n",
    "f = outcome + '~' + predictors_sum\n",
    "\n",
    "#fit model to data\n",
    "model3 = ols(formula=f,data=df2).fit()"
   ]
  },
  {
   "cell_type": "markdown",
   "metadata": {
    "id": "CSmmqZbJBQjt"
   },
   "source": [
    "#### Score"
   ]
  },
  {
   "cell_type": "code",
   "execution_count": 35,
   "metadata": {
    "colab": {
     "base_uri": "https://localhost:8080/",
     "height": 80
    },
    "id": "ul3AMQMY5oOb",
    "outputId": "3ba26f4e-35ab-4626-d80d-521b306fdbc4"
   },
   "outputs": [
    {
     "data": {
      "text/html": [
       "<div>\n",
       "<style scoped>\n",
       "    .dataframe tbody tr th:only-of-type {\n",
       "        vertical-align: middle;\n",
       "    }\n",
       "\n",
       "    .dataframe tbody tr th {\n",
       "        vertical-align: top;\n",
       "    }\n",
       "\n",
       "    .dataframe thead th {\n",
       "        text-align: right;\n",
       "    }\n",
       "</style>\n",
       "<table border=\"1\" class=\"dataframe\">\n",
       "  <thead>\n",
       "    <tr style=\"text-align: right;\">\n",
       "      <th></th>\n",
       "      <th>MAE</th>\n",
       "      <th>R-squared</th>\n",
       "    </tr>\n",
       "  </thead>\n",
       "  <tbody>\n",
       "    <tr>\n",
       "      <th>log_transform_price</th>\n",
       "      <td>540075.09</td>\n",
       "      <td>0.765</td>\n",
       "    </tr>\n",
       "  </tbody>\n",
       "</table>\n",
       "</div>"
      ],
      "text/plain": [
       "                           MAE  R-squared\n",
       "log_transform_price  540075.09      0.765"
      ]
     },
     "execution_count": 35,
     "metadata": {},
     "output_type": "execute_result"
    }
   ],
   "source": [
    "log_transform_price = model_metrics(model3,'log_transform_price')\n",
    "log_transform_price"
   ]
  },
  {
   "cell_type": "markdown",
   "metadata": {
    "id": "e_pCKLNM_ipT"
   },
   "source": [
    "Since, we've log-transformed price, we need to undo the transformation to get the predicted values back in the same scale. We can do that by taking the exponent of the predicted values. Also,  from the R-squared value, it is quite clear to see how the model has improved from before."
   ]
  },
  {
   "cell_type": "code",
   "execution_count": 36,
   "metadata": {
    "colab": {
     "base_uri": "https://localhost:8080/"
    },
    "id": "sDny5FlMDdrg",
    "outputId": "53b1b7b6-3d9b-4a61-abf5-627a14ceaaa3"
   },
   "outputs": [
    {
     "data": {
      "text/plain": [
       "0        12.539839\n",
       "1        13.351207\n",
       "2        12.809681\n",
       "3        12.940221\n",
       "4        12.965181\n",
       "           ...    \n",
       "21608    13.148331\n",
       "21609    12.897163\n",
       "21610    12.529797\n",
       "21611    12.908037\n",
       "21612    12.532760\n",
       "Length: 21613, dtype: float64"
      ]
     },
     "execution_count": 36,
     "metadata": {},
     "output_type": "execute_result"
    }
   ],
   "source": [
    "#model3 output\n",
    "y_preds = model3.fittedvalues\n",
    "y_preds"
   ]
  },
  {
   "cell_type": "code",
   "execution_count": 37,
   "metadata": {
    "colab": {
     "base_uri": "https://localhost:8080/"
    },
    "id": "9vdC941ODiGB",
    "outputId": "e32c29bb-0f10-42b7-92e8-4983b5955661"
   },
   "outputs": [
    {
     "data": {
      "text/plain": [
       "0        279243.279006\n",
       "1        628572.567178\n",
       "2        365741.092906\n",
       "3        416741.527304\n",
       "4        427274.111257\n",
       "             ...      \n",
       "21608    513153.805006\n",
       "21609    399177.949452\n",
       "21610    276453.306748\n",
       "21611    403542.338618\n",
       "21612    277273.534792\n",
       "Length: 21613, dtype: float64"
      ]
     },
     "execution_count": 37,
     "metadata": {},
     "output_type": "execute_result"
    }
   ],
   "source": [
    "#taking the exponent\n",
    "y_preds = np.exp(model3.fittedvalues)\n",
    "y_preds"
   ]
  },
  {
   "cell_type": "code",
   "execution_count": 38,
   "metadata": {
    "colab": {
     "base_uri": "https://localhost:8080/",
     "height": 174
    },
    "id": "B29tSauLEkrp",
    "outputId": "e842bd5f-1ab5-4748-c74f-7356c2c3d25d"
   },
   "outputs": [
    {
     "data": {
      "text/html": [
       "<div>\n",
       "<style scoped>\n",
       "    .dataframe tbody tr th:only-of-type {\n",
       "        vertical-align: middle;\n",
       "    }\n",
       "\n",
       "    .dataframe tbody tr th {\n",
       "        vertical-align: top;\n",
       "    }\n",
       "\n",
       "    .dataframe thead th {\n",
       "        text-align: right;\n",
       "    }\n",
       "</style>\n",
       "<table border=\"1\" class=\"dataframe\">\n",
       "  <thead>\n",
       "    <tr style=\"text-align: right;\">\n",
       "      <th></th>\n",
       "      <th>MAE</th>\n",
       "      <th>R-squared</th>\n",
       "    </tr>\n",
       "  </thead>\n",
       "  <tbody>\n",
       "    <tr>\n",
       "      <th>baseline_model</th>\n",
       "      <td>125916.460000</td>\n",
       "      <td>0.700</td>\n",
       "    </tr>\n",
       "    <tr>\n",
       "      <th>multi_coll</th>\n",
       "      <td>126148.380000</td>\n",
       "      <td>0.699</td>\n",
       "    </tr>\n",
       "    <tr>\n",
       "      <th>scaled</th>\n",
       "      <td>126148.380000</td>\n",
       "      <td>0.699</td>\n",
       "    </tr>\n",
       "    <tr>\n",
       "      <th>log_transform</th>\n",
       "      <td>112740.054994</td>\n",
       "      <td>0.765</td>\n",
       "    </tr>\n",
       "  </tbody>\n",
       "</table>\n",
       "</div>"
      ],
      "text/plain": [
       "                          MAE  R-squared\n",
       "baseline_model  125916.460000      0.700\n",
       "multi_coll      126148.380000      0.699\n",
       "scaled          126148.380000      0.699\n",
       "log_transform   112740.054994      0.765"
      ]
     },
     "execution_count": 38,
     "metadata": {},
     "output_type": "execute_result"
    }
   ],
   "source": [
    "#model metrics\n",
    "log_transform = model_metrics(model3,'log_transform')\n",
    "\n",
    "#calculating the mean absolute error\n",
    "mae = (np.mean(np.abs(df['price'] - y_preds)))\n",
    "\n",
    "#replacing the value in the metric df\n",
    "log_transform['MAE'] = mae\n",
    "\n",
    "#adding to the score df\n",
    "scores = scores.append(log_transform)\n",
    "scores"
   ]
  },
  {
   "cell_type": "markdown",
   "metadata": {
    "id": "6nbesdjObw-F"
   },
   "source": [
    "## Regression model diagnostics\n",
    "Since we've built a few different models, it is probably a good idea now to check if the models satisfy if they satisfy some of the conditions of Linear Regression. Follwing are the conditions:\n",
    "\n",
    "1. Linearity: There is a linear relationship between the dependent and independent variables\n",
    "\n",
    "2. Homoscedasticity: The variance of the residuals are the same for any value of x\n",
    "\n",
    "3. Normality: The residuals are normally distributed"
   ]
  },
  {
   "cell_type": "markdown",
   "metadata": {
    "id": "kn0KCTDpF4pF"
   },
   "source": [
    "### Linearity\n",
    "Since checking for a linearity between the dependent variable and the features can be quite time-consuming given the large number of features, we can check to see how the predicted values line up against the actual values and check for linearity:"
   ]
  },
  {
   "cell_type": "code",
   "execution_count": 39,
   "metadata": {
    "colab": {
     "base_uri": "https://localhost:8080/",
     "height": 557
    },
    "id": "CmlNhjUvGrB_",
    "outputId": "ea9ad062-2bd2-484e-8901-f467d9fd18a0"
   },
   "outputs": [
    {
     "data": {
      "image/png": "[encoded data removed]",
      "text/plain": [
       "<Figure size 600x600 with 1 Axes>"
      ]
     },
     "metadata": {},
     "output_type": "display_data"
    }
   ],
   "source": [
    "#setting the predicted values\n",
    "y_preds = np.exp(model3.fittedvalues)\n",
    "\n",
    "#plotting\n",
    "fig,ax=plt.subplots(figsize=(6,6))\n",
    "perfect_line = np.arange(df['price'].min(),df['price'].max());\n",
    "ax.plot(perfect_line,label='Perfect Fit',color='red',linestyle = '--');\n",
    "ax.scatter(df['price'],y_preds);\n",
    "ax.set_xlabel('Actual Price');\n",
    "ax.set_ylabel('Predicted Price')\n",
    "ax.legend();"
   ]
  },
  {
   "cell_type": "markdown",
   "metadata": {
    "id": "HogumWhpI9lB"
   },
   "source": [
    "We can see that the model does a decent job of trying to fit to the data and also the presence of outliers in the data"
   ]
  },
  {
   "cell_type": "markdown",
   "metadata": {
    "id": "PT8KIRIX57YS"
   },
   "source": [
    "### Homoscedasticity\n",
    "This states that the variance of the residuals should be random i.e. there residuals smust have equal variance over the entire regression model."
   ]
  },
  {
   "cell_type": "markdown",
   "metadata": {
    "id": "ft2qoMXGE04t"
   },
   "source": [
    "This can be verified using a scatter plot of the predicted values against residuals:"
   ]
  },
  {
   "cell_type": "code",
   "execution_count": 40,
   "metadata": {
    "colab": {
     "base_uri": "https://localhost:8080/",
     "height": 487
    },
    "id": "r7My0Z5R9s4U",
    "outputId": "742d0f92-cfd8-483b-a108-759953b66814"
   },
   "outputs": [
    {
     "data": {
      "image/png": "[encoded data removed]",
      "text/plain": [
       "<Figure size 500x500 with 1 Axes>"
      ]
     },
     "metadata": {},
     "output_type": "display_data"
    }
   ],
   "source": [
    "#setting the preidctions\n",
    "y_preds = model3.fittedvalues\n",
    "residuals = model3.resid\n",
    "\n",
    "#plotting\n",
    "fig,ax=plt.subplots(figsize=(5,5))\n",
    "ax.scatter(y_preds,residuals)\n",
    "ax.plot(y_preds, [0 for i in range(len(df['price']))],color='red');\n",
    "ax.set_xlabel('Predicted Value');\n",
    "ax.set_ylabel('Residuals');\n",
    "ax.set_title('Homoscedasticity');"
   ]
  },
  {
   "cell_type": "markdown",
   "metadata": {
    "id": "8wffsxLF7y6A"
   },
   "source": [
    "### Normality residuals : Q-Q plot\n",
    "used to check for the normality of the residuals"
   ]
  },
  {
   "cell_type": "code",
   "execution_count": 41,
   "metadata": {
    "colab": {
     "base_uri": "https://localhost:8080/",
     "height": 449
    },
    "id": "xnmo5BSq7TlK",
    "outputId": "e23475b4-5db0-42ac-e5eb-d3b533c6453e"
   },
   "outputs": [
    {
     "data": {
      "image/png": "[encoded data removed]",
      "text/plain": [
       "<Figure size 640x480 with 1 Axes>"
      ]
     },
     "metadata": {},
     "output_type": "display_data"
    }
   ],
   "source": [
    "#normality of the residual\n",
    "from scipy import stats\n",
    "fig = sm.graphics.qqplot(residuals, dist=stats.norm, line='45', fit=True)\n",
    "fig.show()"
   ]
  },
  {
   "cell_type": "markdown",
   "metadata": {
    "id": "wzytEBVH8Ne5"
   },
   "source": [
    "Like in the linearity plot, we can see the presence of outliers in the heads and the tails of the residuals. The residuals for the most parts are normally distributed."
   ]
  },
  {
   "cell_type": "markdown",
   "metadata": {
    "id": "KGSeDOGs8e7-"
   },
   "source": [
    "Normality can also be checked via a distplot:"
   ]
  },
  {
   "cell_type": "code",
   "execution_count": 42,
   "metadata": {
    "colab": {
     "base_uri": "https://localhost:8080/",
     "height": 430
    },
    "id": "faMN-NV3FTLd",
    "outputId": "945c820f-356d-4390-9927-b46607e0fe70"
   },
   "outputs": [
    {
     "data": {
      "image/png": "[encoded data removed]",
      "text/plain": [
       "<Figure size 640x480 with 1 Axes>"
      ]
     },
     "metadata": {},
     "output_type": "display_data"
    }
   ],
   "source": [
    "sns.distplot(residuals);"
   ]
  },
  {
   "cell_type": "markdown",
   "metadata": {
    "id": "lSGJlfy0L1fR"
   },
   "source": [
    "### Independence - Durbin-Watson score\n",
    "Ideally, the residuals should eb independent of each other. You should not be able to predict the errors based on previous values. This can be checked using a statistical test called the Durbin-Watson test."
   ]
  },
  {
   "cell_type": "markdown",
   "metadata": {
    "id": "mw7dmbMPMU-X"
   },
   "source": [
    "General rule of thumb:\n",
    "DW in the range of 1.5-2.5 is acceptable"
   ]
  },
  {
   "cell_type": "code",
   "execution_count": 43,
   "metadata": {
    "colab": {
     "base_uri": "https://localhost:8080/"
    },
    "id": "4zWtkBh6OFK1",
    "outputId": "c57c45de-ff7a-48c7-a7d5-b8041ce3fd9e"
   },
   "outputs": [
    {
     "data": {
      "text/plain": [
       "1.9800376343141226"
      ]
     },
     "execution_count": 43,
     "metadata": {},
     "output_type": "execute_result"
    }
   ],
   "source": [
    "# import durbin-watson test from statsmodels\n",
    "from statsmodels.stats.stattools import durbin_watson\n",
    "durbin_watson(residuals)"
   ]
  },
  {
   "cell_type": "markdown",
   "metadata": {
    "id": "R_r4zOlXs8hI"
   },
   "source": [
    "## Removing Outliers\n",
    "Since we detected outliers while running model diagnostics, let's remove them to see if model performance improves."
   ]
  },
  {
   "cell_type": "code",
   "execution_count": 44,
   "metadata": {
    "colab": {
     "base_uri": "https://localhost:8080/",
     "height": 472
    },
    "id": "9OQ312p4xgzk",
    "outputId": "db92b4cb-0a4a-447d-d548-5ffa35fe8146"
   },
   "outputs": [
    {
     "data": {
      "image/png": "[encoded data removed]",
      "text/plain": [
       "<Figure size 640x480 with 1 Axes>"
      ]
     },
     "metadata": {},
     "output_type": "display_data"
    }
   ],
   "source": [
    "#boxplot to viz outliers in price\n",
    "fig,ax = plt.subplots()\n",
    "sns.boxplot(x=df['price'],ax=ax);\n",
    "ax.set_title('Outlier - Price');"
   ]
  },
  {
   "cell_type": "markdown",
   "metadata": {
    "id": "JvyKM4cezhKy"
   },
   "source": [
    "Looks like there are lots of houses worth more than a million USD. Let's filter them out:"
   ]
  },
  {
   "cell_type": "code",
   "execution_count": 45,
   "metadata": {
    "id": "-VMd-fbVz8Qa"
   },
   "outputs": [],
   "source": [
    "#filtering out house prices > 1000000\n",
    "high_value = df.loc[df['price']>=1000000]\n",
    "\n",
    "#creating a copy\n",
    "df3 = df.copy()\n",
    "\n",
    "#dropping high-value houses\n",
    "df3.drop(high_value.index,inplace=True)"
   ]
  },
  {
   "cell_type": "code",
   "execution_count": 46,
   "metadata": {
    "scrolled": false
   },
   "outputs": [
    {
     "data": {
      "image/png": "[encoded data removed]",
      "text/plain": [
       "<Figure size 640x480 with 1 Axes>"
      ]
     },
     "metadata": {},
     "output_type": "display_data"
    }
   ],
   "source": [
    "#boxplot to viz outliers in price\n",
    "fig,ax = plt.subplots()\n",
    "sns.boxplot(x=df3['price'],ax=ax);\n",
    "ax.set_title('Outliers Removed');"
   ]
  },
  {
   "cell_type": "markdown",
   "metadata": {},
   "source": [
    "We can see the boxplot looks much better after removing the outliers"
   ]
  },
  {
   "cell_type": "code",
   "execution_count": 47,
   "metadata": {
    "colab": {
     "base_uri": "https://localhost:8080/",
     "height": 768
    },
    "id": "68UrDHWsGT5u",
    "outputId": "40f2d38e-7c1a-42dd-9fd7-e4a5c3e88a74"
   },
   "outputs": [
    {
     "data": {
      "text/html": [
       "<table class=\"simpletable\">\n",
       "<caption>OLS Regression Results</caption>\n",
       "<tr>\n",
       "  <th>Dep. Variable:</th>          <td>price</td>      <th>  R-squared:         </th>  <td>   0.681</td>  \n",
       "</tr>\n",
       "<tr>\n",
       "  <th>Model:</th>                   <td>OLS</td>       <th>  Adj. R-squared:    </th>  <td>   0.681</td>  \n",
       "</tr>\n",
       "<tr>\n",
       "  <th>Method:</th>             <td>Least Squares</td>  <th>  F-statistic:       </th>  <td>   2865.</td>  \n",
       "</tr>\n",
       "<tr>\n",
       "  <th>Date:</th>             <td>Sun, 30 Jul 2023</td> <th>  Prob (F-statistic):</th>   <td>  0.00</td>   \n",
       "</tr>\n",
       "<tr>\n",
       "  <th>Time:</th>                 <td>14:14:28</td>     <th>  Log-Likelihood:    </th> <td>-2.6219e+05</td>\n",
       "</tr>\n",
       "<tr>\n",
       "  <th>No. Observations:</th>      <td> 20121</td>      <th>  AIC:               </th>  <td>5.244e+05</td> \n",
       "</tr>\n",
       "<tr>\n",
       "  <th>Df Residuals:</th>          <td> 20105</td>      <th>  BIC:               </th>  <td>5.245e+05</td> \n",
       "</tr>\n",
       "<tr>\n",
       "  <th>Df Model:</th>              <td>    15</td>      <th>                     </th>      <td> </td>     \n",
       "</tr>\n",
       "<tr>\n",
       "  <th>Covariance Type:</th>      <td>nonrobust</td>    <th>                     </th>      <td> </td>     \n",
       "</tr>\n",
       "</table>\n",
       "<table class=\"simpletable\">\n",
       "<tr>\n",
       "        <td></td>           <th>coef</th>     <th>std err</th>      <th>t</th>      <th>P>|t|</th>  <th>[0.025</th>    <th>0.975]</th>  \n",
       "</tr>\n",
       "<tr>\n",
       "  <th>Intercept</th>     <td>-9.764e+05</td> <td> 1.64e+06</td> <td>   -0.594</td> <td> 0.552</td> <td> -4.2e+06</td> <td> 2.24e+06</td>\n",
       "</tr>\n",
       "<tr>\n",
       "  <th>bedrooms</th>      <td>-9193.2373</td> <td> 1101.103</td> <td>   -8.349</td> <td> 0.000</td> <td>-1.14e+04</td> <td>-7034.985</td>\n",
       "</tr>\n",
       "<tr>\n",
       "  <th>bathrooms</th>     <td> 2.205e+04</td> <td> 1918.285</td> <td>   11.495</td> <td> 0.000</td> <td> 1.83e+04</td> <td> 2.58e+04</td>\n",
       "</tr>\n",
       "<tr>\n",
       "  <th>sqft_living</th>   <td>   90.5456</td> <td>    2.090</td> <td>   43.317</td> <td> 0.000</td> <td>   86.448</td> <td>   94.643</td>\n",
       "</tr>\n",
       "<tr>\n",
       "  <th>sqft_lot</th>      <td>    0.1727</td> <td>    0.020</td> <td>    8.483</td> <td> 0.000</td> <td>    0.133</td> <td>    0.213</td>\n",
       "</tr>\n",
       "<tr>\n",
       "  <th>floors</th>        <td> 2.576e+04</td> <td> 2077.731</td> <td>   12.398</td> <td> 0.000</td> <td> 2.17e+04</td> <td> 2.98e+04</td>\n",
       "</tr>\n",
       "<tr>\n",
       "  <th>waterfront</th>    <td> 1.227e+05</td> <td> 1.53e+04</td> <td>    8.018</td> <td> 0.000</td> <td> 9.27e+04</td> <td> 1.53e+05</td>\n",
       "</tr>\n",
       "<tr>\n",
       "  <th>view</th>          <td> 3.153e+04</td> <td> 1380.601</td> <td>   22.834</td> <td> 0.000</td> <td> 2.88e+04</td> <td> 3.42e+04</td>\n",
       "</tr>\n",
       "<tr>\n",
       "  <th>condition</th>     <td> 2.302e+04</td> <td> 1338.923</td> <td>   17.191</td> <td> 0.000</td> <td> 2.04e+04</td> <td> 2.56e+04</td>\n",
       "</tr>\n",
       "<tr>\n",
       "  <th>grade</th>         <td> 7.646e+04</td> <td> 1227.849</td> <td>   62.273</td> <td> 0.000</td> <td> 7.41e+04</td> <td> 7.89e+04</td>\n",
       "</tr>\n",
       "<tr>\n",
       "  <th>sqft_basement</th> <td>  -11.7458</td> <td>    2.633</td> <td>   -4.461</td> <td> 0.000</td> <td>  -16.907</td> <td>   -6.584</td>\n",
       "</tr>\n",
       "<tr>\n",
       "  <th>yr_built</th>      <td>-1733.9317</td> <td>   42.547</td> <td>  -40.753</td> <td> 0.000</td> <td>-1817.328</td> <td>-1650.536</td>\n",
       "</tr>\n",
       "<tr>\n",
       "  <th>yr_renovated</th>  <td>    8.2351</td> <td>    2.208</td> <td>    3.730</td> <td> 0.000</td> <td>    3.908</td> <td>   12.562</td>\n",
       "</tr>\n",
       "<tr>\n",
       "  <th>zipcode</th>       <td> -242.4005</td> <td>   18.734</td> <td>  -12.939</td> <td> 0.000</td> <td> -279.121</td> <td> -205.680</td>\n",
       "</tr>\n",
       "<tr>\n",
       "  <th>lat</th>           <td> 5.467e+05</td> <td> 5975.768</td> <td>   91.487</td> <td> 0.000</td> <td> 5.35e+05</td> <td> 5.58e+05</td>\n",
       "</tr>\n",
       "<tr>\n",
       "  <th>long</th>          <td>-1.431e+04</td> <td> 7301.550</td> <td>   -1.960</td> <td> 0.050</td> <td>-2.86e+04</td> <td>   -1.011</td>\n",
       "</tr>\n",
       "</table>\n",
       "<table class=\"simpletable\">\n",
       "<tr>\n",
       "  <th>Omnibus:</th>       <td>1187.235</td> <th>  Durbin-Watson:     </th> <td>   1.970</td>\n",
       "</tr>\n",
       "<tr>\n",
       "  <th>Prob(Omnibus):</th>  <td> 0.000</td>  <th>  Jarque-Bera (JB):  </th> <td>1925.985</td>\n",
       "</tr>\n",
       "<tr>\n",
       "  <th>Skew:</th>           <td> 0.483</td>  <th>  Prob(JB):          </th> <td>    0.00</td>\n",
       "</tr>\n",
       "<tr>\n",
       "  <th>Kurtosis:</th>       <td> 4.168</td>  <th>  Cond. No.          </th> <td>2.10e+08</td>\n",
       "</tr>\n",
       "</table><br/><br/>Notes:<br/>[1] Standard Errors assume that the covariance matrix of the errors is correctly specified.<br/>[2] The condition number is large, 2.1e+08. This might indicate that there are<br/>strong multicollinearity or other numerical problems."
      ],
      "text/plain": [
       "<class 'statsmodels.iolib.summary.Summary'>\n",
       "\"\"\"\n",
       "                            OLS Regression Results                            \n",
       "==============================================================================\n",
       "Dep. Variable:                  price   R-squared:                       0.681\n",
       "Model:                            OLS   Adj. R-squared:                  0.681\n",
       "Method:                 Least Squares   F-statistic:                     2865.\n",
       "Date:                Sun, 30 Jul 2023   Prob (F-statistic):               0.00\n",
       "Time:                        14:14:28   Log-Likelihood:            -2.6219e+05\n",
       "No. Observations:               20121   AIC:                         5.244e+05\n",
       "Df Residuals:                   20105   BIC:                         5.245e+05\n",
       "Df Model:                          15                                         \n",
       "Covariance Type:            nonrobust                                         \n",
       "=================================================================================\n",
       "                    coef    std err          t      P>|t|      [0.025      0.975]\n",
       "---------------------------------------------------------------------------------\n",
       "Intercept     -9.764e+05   1.64e+06     -0.594      0.552    -4.2e+06    2.24e+06\n",
       "bedrooms      -9193.2373   1101.103     -8.349      0.000   -1.14e+04   -7034.985\n",
       "bathrooms      2.205e+04   1918.285     11.495      0.000    1.83e+04    2.58e+04\n",
       "sqft_living      90.5456      2.090     43.317      0.000      86.448      94.643\n",
       "sqft_lot          0.1727      0.020      8.483      0.000       0.133       0.213\n",
       "floors         2.576e+04   2077.731     12.398      0.000    2.17e+04    2.98e+04\n",
       "waterfront     1.227e+05   1.53e+04      8.018      0.000    9.27e+04    1.53e+05\n",
       "view           3.153e+04   1380.601     22.834      0.000    2.88e+04    3.42e+04\n",
       "condition      2.302e+04   1338.923     17.191      0.000    2.04e+04    2.56e+04\n",
       "grade          7.646e+04   1227.849     62.273      0.000    7.41e+04    7.89e+04\n",
       "sqft_basement   -11.7458      2.633     -4.461      0.000     -16.907      -6.584\n",
       "yr_built      -1733.9317     42.547    -40.753      0.000   -1817.328   -1650.536\n",
       "yr_renovated      8.2351      2.208      3.730      0.000       3.908      12.562\n",
       "zipcode        -242.4005     18.734    -12.939      0.000    -279.121    -205.680\n",
       "lat            5.467e+05   5975.768     91.487      0.000    5.35e+05    5.58e+05\n",
       "long          -1.431e+04   7301.550     -1.960      0.050   -2.86e+04      -1.011\n",
       "==============================================================================\n",
       "Omnibus:                     1187.235   Durbin-Watson:                   1.970\n",
       "Prob(Omnibus):                  0.000   Jarque-Bera (JB):             1925.985\n",
       "Skew:                           0.483   Prob(JB):                         0.00\n",
       "Kurtosis:                       4.168   Cond. No.                     2.10e+08\n",
       "==============================================================================\n",
       "\n",
       "Notes:\n",
       "[1] Standard Errors assume that the covariance matrix of the errors is correctly specified.\n",
       "[2] The condition number is large, 2.1e+08. This might indicate that there are\n",
       "strong multicollinearity or other numerical problems.\n",
       "\"\"\""
      ]
     },
     "execution_count": 47,
     "metadata": {},
     "output_type": "execute_result"
    }
   ],
   "source": [
    "#fitting a new model\n",
    "outcome = 'price'\n",
    "predictors = df3.drop('price',axis=1)\n",
    "predictors_sum = '+'.join(predictors.columns)\n",
    "\n",
    "f = outcome + '~' + predictors_sum\n",
    "\n",
    "#fit model to data\n",
    "model4 = ols(formula=f,data=df3).fit()\n",
    "model4.summary()"
   ]
  },
  {
   "cell_type": "markdown",
   "metadata": {
    "id": "f0arSl23bl4A"
   },
   "source": [
    "### Score"
   ]
  },
  {
   "cell_type": "code",
   "execution_count": 48,
   "metadata": {
    "colab": {
     "base_uri": "https://localhost:8080/",
     "height": 206
    },
    "id": "KwY6qg9rH5l2",
    "outputId": "568848e4-a200-446b-a338-0e7fbf7b3b6e"
   },
   "outputs": [
    {
     "data": {
      "text/html": [
       "<div>\n",
       "<style scoped>\n",
       "    .dataframe tbody tr th:only-of-type {\n",
       "        vertical-align: middle;\n",
       "    }\n",
       "\n",
       "    .dataframe tbody tr th {\n",
       "        vertical-align: top;\n",
       "    }\n",
       "\n",
       "    .dataframe thead th {\n",
       "        text-align: right;\n",
       "    }\n",
       "</style>\n",
       "<table border=\"1\" class=\"dataframe\">\n",
       "  <thead>\n",
       "    <tr style=\"text-align: right;\">\n",
       "      <th></th>\n",
       "      <th>MAE</th>\n",
       "      <th>R-squared</th>\n",
       "    </tr>\n",
       "  </thead>\n",
       "  <tbody>\n",
       "    <tr>\n",
       "      <th>baseline_model</th>\n",
       "      <td>125916.460000</td>\n",
       "      <td>0.700</td>\n",
       "    </tr>\n",
       "    <tr>\n",
       "      <th>multi_coll</th>\n",
       "      <td>126148.380000</td>\n",
       "      <td>0.699</td>\n",
       "    </tr>\n",
       "    <tr>\n",
       "      <th>scaled</th>\n",
       "      <td>126148.380000</td>\n",
       "      <td>0.699</td>\n",
       "    </tr>\n",
       "    <tr>\n",
       "      <th>log_transform</th>\n",
       "      <td>112740.054994</td>\n",
       "      <td>0.765</td>\n",
       "    </tr>\n",
       "    <tr>\n",
       "      <th>outlier_removed</th>\n",
       "      <td>84387.020000</td>\n",
       "      <td>0.681</td>\n",
       "    </tr>\n",
       "  </tbody>\n",
       "</table>\n",
       "</div>"
      ],
      "text/plain": [
       "                           MAE  R-squared\n",
       "baseline_model   125916.460000      0.700\n",
       "multi_coll       126148.380000      0.699\n",
       "scaled           126148.380000      0.699\n",
       "log_transform    112740.054994      0.765\n",
       "outlier_removed   84387.020000      0.681"
      ]
     },
     "execution_count": 48,
     "metadata": {},
     "output_type": "execute_result"
    }
   ],
   "source": [
    "outlier_removed = model_metrics(model4,'outlier_removed')\n",
    "scores=scores.append([outlier_removed])\n",
    "scores"
   ]
  },
  {
   "cell_type": "markdown",
   "metadata": {
    "id": "PUX1I0zsbwUB"
   },
   "source": [
    "## Log-Transform of outlier removed data"
   ]
  },
  {
   "cell_type": "markdown",
   "metadata": {
    "id": "dJSZEbo1GHeB"
   },
   "source": [
    "Like earlier, we can also apply log-transformations to 'price' and build a new model:"
   ]
  },
  {
   "cell_type": "code",
   "execution_count": 49,
   "metadata": {
    "colab": {
     "base_uri": "https://localhost:8080/",
     "height": 768
    },
    "id": "NofbC-r3JpxR",
    "outputId": "2720ee97-2a10-4cb8-8ab1-bbcf23e80dee"
   },
   "outputs": [
    {
     "data": {
      "text/html": [
       "<table class=\"simpletable\">\n",
       "<caption>OLS Regression Results</caption>\n",
       "<tr>\n",
       "  <th>Dep. Variable:</th>          <td>price</td>      <th>  R-squared:         </th> <td>   0.692</td>\n",
       "</tr>\n",
       "<tr>\n",
       "  <th>Model:</th>                   <td>OLS</td>       <th>  Adj. R-squared:    </th> <td>   0.692</td>\n",
       "</tr>\n",
       "<tr>\n",
       "  <th>Method:</th>             <td>Least Squares</td>  <th>  F-statistic:       </th> <td>   3013.</td>\n",
       "</tr>\n",
       "<tr>\n",
       "  <th>Date:</th>             <td>Sun, 30 Jul 2023</td> <th>  Prob (F-statistic):</th>  <td>  0.00</td> \n",
       "</tr>\n",
       "<tr>\n",
       "  <th>Time:</th>                 <td>14:14:28</td>     <th>  Log-Likelihood:    </th> <td>  92.908</td>\n",
       "</tr>\n",
       "<tr>\n",
       "  <th>No. Observations:</th>      <td> 20121</td>      <th>  AIC:               </th> <td>  -153.8</td>\n",
       "</tr>\n",
       "<tr>\n",
       "  <th>Df Residuals:</th>          <td> 20105</td>      <th>  BIC:               </th> <td>  -27.26</td>\n",
       "</tr>\n",
       "<tr>\n",
       "  <th>Df Model:</th>              <td>    15</td>      <th>                     </th>     <td> </td>   \n",
       "</tr>\n",
       "<tr>\n",
       "  <th>Covariance Type:</th>      <td>nonrobust</td>    <th>                     </th>     <td> </td>   \n",
       "</tr>\n",
       "</table>\n",
       "<table class=\"simpletable\">\n",
       "<tr>\n",
       "        <td></td>           <th>coef</th>     <th>std err</th>      <th>t</th>      <th>P>|t|</th>  <th>[0.025</th>    <th>0.975]</th>  \n",
       "</tr>\n",
       "<tr>\n",
       "  <th>Intercept</th>     <td>    0.7785</td> <td>    3.586</td> <td>    0.217</td> <td> 0.828</td> <td>   -6.249</td> <td>    7.806</td>\n",
       "</tr>\n",
       "<tr>\n",
       "  <th>bedrooms</th>      <td>   -0.0127</td> <td>    0.002</td> <td>   -5.293</td> <td> 0.000</td> <td>   -0.017</td> <td>   -0.008</td>\n",
       "</tr>\n",
       "<tr>\n",
       "  <th>bathrooms</th>     <td>    0.0629</td> <td>    0.004</td> <td>   15.027</td> <td> 0.000</td> <td>    0.055</td> <td>    0.071</td>\n",
       "</tr>\n",
       "<tr>\n",
       "  <th>sqft_living</th>   <td>    0.0002</td> <td> 4.56e-06</td> <td>   36.661</td> <td> 0.000</td> <td>    0.000</td> <td>    0.000</td>\n",
       "</tr>\n",
       "<tr>\n",
       "  <th>sqft_lot</th>      <td> 4.534e-07</td> <td> 4.44e-08</td> <td>   10.205</td> <td> 0.000</td> <td> 3.66e-07</td> <td>  5.4e-07</td>\n",
       "</tr>\n",
       "<tr>\n",
       "  <th>floors</th>        <td>    0.0682</td> <td>    0.005</td> <td>   15.037</td> <td> 0.000</td> <td>    0.059</td> <td>    0.077</td>\n",
       "</tr>\n",
       "<tr>\n",
       "  <th>waterfront</th>    <td>    0.2916</td> <td>    0.033</td> <td>    8.735</td> <td> 0.000</td> <td>    0.226</td> <td>    0.357</td>\n",
       "</tr>\n",
       "<tr>\n",
       "  <th>view</th>          <td>    0.0636</td> <td>    0.003</td> <td>   21.098</td> <td> 0.000</td> <td>    0.058</td> <td>    0.069</td>\n",
       "</tr>\n",
       "<tr>\n",
       "  <th>condition</th>     <td>    0.0569</td> <td>    0.003</td> <td>   19.462</td> <td> 0.000</td> <td>    0.051</td> <td>    0.063</td>\n",
       "</tr>\n",
       "<tr>\n",
       "  <th>grade</th>         <td>    0.1618</td> <td>    0.003</td> <td>   60.382</td> <td> 0.000</td> <td>    0.157</td> <td>    0.167</td>\n",
       "</tr>\n",
       "<tr>\n",
       "  <th>sqft_basement</th> <td> 3.006e-06</td> <td> 5.75e-06</td> <td>    0.523</td> <td> 0.601</td> <td>-8.26e-06</td> <td> 1.43e-05</td>\n",
       "</tr>\n",
       "<tr>\n",
       "  <th>yr_built</th>      <td>   -0.0032</td> <td> 9.28e-05</td> <td>  -34.823</td> <td> 0.000</td> <td>   -0.003</td> <td>   -0.003</td>\n",
       "</tr>\n",
       "<tr>\n",
       "  <th>yr_renovated</th>  <td> 1.685e-05</td> <td> 4.82e-06</td> <td>    3.498</td> <td> 0.000</td> <td> 7.41e-06</td> <td> 2.63e-05</td>\n",
       "</tr>\n",
       "<tr>\n",
       "  <th>zipcode</th>       <td>   -0.0005</td> <td> 4.09e-05</td> <td>  -12.340</td> <td> 0.000</td> <td>   -0.001</td> <td>   -0.000</td>\n",
       "</tr>\n",
       "<tr>\n",
       "  <th>lat</th>           <td>    1.3765</td> <td>    0.013</td> <td>  105.560</td> <td> 0.000</td> <td>    1.351</td> <td>    1.402</td>\n",
       "</tr>\n",
       "<tr>\n",
       "  <th>long</th>          <td>   -0.0052</td> <td>    0.016</td> <td>   -0.325</td> <td> 0.745</td> <td>   -0.036</td> <td>    0.026</td>\n",
       "</tr>\n",
       "</table>\n",
       "<table class=\"simpletable\">\n",
       "<tr>\n",
       "  <th>Omnibus:</th>       <td>427.441</td> <th>  Durbin-Watson:     </th> <td>   1.983</td> \n",
       "</tr>\n",
       "<tr>\n",
       "  <th>Prob(Omnibus):</th> <td> 0.000</td>  <th>  Jarque-Bera (JB):  </th> <td> 769.429</td> \n",
       "</tr>\n",
       "<tr>\n",
       "  <th>Skew:</th>          <td>-0.167</td>  <th>  Prob(JB):          </th> <td>8.33e-168</td>\n",
       "</tr>\n",
       "<tr>\n",
       "  <th>Kurtosis:</th>      <td> 3.898</td>  <th>  Cond. No.          </th> <td>2.10e+08</td> \n",
       "</tr>\n",
       "</table><br/><br/>Notes:<br/>[1] Standard Errors assume that the covariance matrix of the errors is correctly specified.<br/>[2] The condition number is large, 2.1e+08. This might indicate that there are<br/>strong multicollinearity or other numerical problems."
      ],
      "text/plain": [
       "<class 'statsmodels.iolib.summary.Summary'>\n",
       "\"\"\"\n",
       "                            OLS Regression Results                            \n",
       "==============================================================================\n",
       "Dep. Variable:                  price   R-squared:                       0.692\n",
       "Model:                            OLS   Adj. R-squared:                  0.692\n",
       "Method:                 Least Squares   F-statistic:                     3013.\n",
       "Date:                Sun, 30 Jul 2023   Prob (F-statistic):               0.00\n",
       "Time:                        14:14:28   Log-Likelihood:                 92.908\n",
       "No. Observations:               20121   AIC:                            -153.8\n",
       "Df Residuals:                   20105   BIC:                            -27.26\n",
       "Df Model:                          15                                         \n",
       "Covariance Type:            nonrobust                                         \n",
       "=================================================================================\n",
       "                    coef    std err          t      P>|t|      [0.025      0.975]\n",
       "---------------------------------------------------------------------------------\n",
       "Intercept         0.7785      3.586      0.217      0.828      -6.249       7.806\n",
       "bedrooms         -0.0127      0.002     -5.293      0.000      -0.017      -0.008\n",
       "bathrooms         0.0629      0.004     15.027      0.000       0.055       0.071\n",
       "sqft_living       0.0002   4.56e-06     36.661      0.000       0.000       0.000\n",
       "sqft_lot       4.534e-07   4.44e-08     10.205      0.000    3.66e-07     5.4e-07\n",
       "floors            0.0682      0.005     15.037      0.000       0.059       0.077\n",
       "waterfront        0.2916      0.033      8.735      0.000       0.226       0.357\n",
       "view              0.0636      0.003     21.098      0.000       0.058       0.069\n",
       "condition         0.0569      0.003     19.462      0.000       0.051       0.063\n",
       "grade             0.1618      0.003     60.382      0.000       0.157       0.167\n",
       "sqft_basement  3.006e-06   5.75e-06      0.523      0.601   -8.26e-06    1.43e-05\n",
       "yr_built         -0.0032   9.28e-05    -34.823      0.000      -0.003      -0.003\n",
       "yr_renovated   1.685e-05   4.82e-06      3.498      0.000    7.41e-06    2.63e-05\n",
       "zipcode          -0.0005   4.09e-05    -12.340      0.000      -0.001      -0.000\n",
       "lat               1.3765      0.013    105.560      0.000       1.351       1.402\n",
       "long             -0.0052      0.016     -0.325      0.745      -0.036       0.026\n",
       "==============================================================================\n",
       "Omnibus:                      427.441   Durbin-Watson:                   1.983\n",
       "Prob(Omnibus):                  0.000   Jarque-Bera (JB):              769.429\n",
       "Skew:                          -0.167   Prob(JB):                    8.33e-168\n",
       "Kurtosis:                       3.898   Cond. No.                     2.10e+08\n",
       "==============================================================================\n",
       "\n",
       "Notes:\n",
       "[1] Standard Errors assume that the covariance matrix of the errors is correctly specified.\n",
       "[2] The condition number is large, 2.1e+08. This might indicate that there are\n",
       "strong multicollinearity or other numerical problems.\n",
       "\"\"\""
      ]
     },
     "execution_count": 49,
     "metadata": {},
     "output_type": "execute_result"
    }
   ],
   "source": [
    "#transforming only the dependent variable: price\n",
    "df3['price'] = df3['price'].map(lambda x: np.log(x))\n",
    "\n",
    "#fitting a new model\n",
    "outcome = 'price'\n",
    "predictors = df3.drop('price',axis=1)\n",
    "predictors_sum = '+'.join(predictors.columns)\n",
    "\n",
    "f = outcome + '~' + predictors_sum\n",
    "\n",
    "#fit model to data\n",
    "model5 = ols(formula=f,data=df3).fit()\n",
    "model5.summary()"
   ]
  },
  {
   "cell_type": "markdown",
   "metadata": {
    "id": "TMj3dpr8b4mU"
   },
   "source": [
    "### Score"
   ]
  },
  {
   "cell_type": "code",
   "execution_count": 50,
   "metadata": {
    "colab": {
     "base_uri": "https://localhost:8080/",
     "height": 237
    },
    "id": "DhIEFuTjmM2n",
    "outputId": "7953233d-9e78-43c8-8adc-a8fa347caaf0"
   },
   "outputs": [
    {
     "data": {
      "text/html": [
       "<div>\n",
       "<style scoped>\n",
       "    .dataframe tbody tr th:only-of-type {\n",
       "        vertical-align: middle;\n",
       "    }\n",
       "\n",
       "    .dataframe tbody tr th {\n",
       "        vertical-align: top;\n",
       "    }\n",
       "\n",
       "    .dataframe thead th {\n",
       "        text-align: right;\n",
       "    }\n",
       "</style>\n",
       "<table border=\"1\" class=\"dataframe\">\n",
       "  <thead>\n",
       "    <tr style=\"text-align: right;\">\n",
       "      <th></th>\n",
       "      <th>MAE</th>\n",
       "      <th>R-squared</th>\n",
       "    </tr>\n",
       "  </thead>\n",
       "  <tbody>\n",
       "    <tr>\n",
       "      <th>baseline_model</th>\n",
       "      <td>125916.460000</td>\n",
       "      <td>0.700</td>\n",
       "    </tr>\n",
       "    <tr>\n",
       "      <th>multi_coll</th>\n",
       "      <td>126148.380000</td>\n",
       "      <td>0.699</td>\n",
       "    </tr>\n",
       "    <tr>\n",
       "      <th>scaled</th>\n",
       "      <td>126148.380000</td>\n",
       "      <td>0.699</td>\n",
       "    </tr>\n",
       "    <tr>\n",
       "      <th>log_transform</th>\n",
       "      <td>112740.054994</td>\n",
       "      <td>0.765</td>\n",
       "    </tr>\n",
       "    <tr>\n",
       "      <th>outlier_removed</th>\n",
       "      <td>84387.020000</td>\n",
       "      <td>0.681</td>\n",
       "    </tr>\n",
       "    <tr>\n",
       "      <th>transf_outlier_removed</th>\n",
       "      <td>86649.343354</td>\n",
       "      <td>0.692</td>\n",
       "    </tr>\n",
       "  </tbody>\n",
       "</table>\n",
       "</div>"
      ],
      "text/plain": [
       "                                  MAE  R-squared\n",
       "baseline_model          125916.460000      0.700\n",
       "multi_coll              126148.380000      0.699\n",
       "scaled                  126148.380000      0.699\n",
       "log_transform           112740.054994      0.765\n",
       "outlier_removed          84387.020000      0.681\n",
       "transf_outlier_removed   86649.343354      0.692"
      ]
     },
     "execution_count": 50,
     "metadata": {},
     "output_type": "execute_result"
    }
   ],
   "source": [
    "#calculate mae\n",
    "\n",
    "#get predicted values\n",
    "preds=np.exp(model5.fittedvalues)\n",
    "\n",
    "#restore the original values of price\n",
    "df3['price'] = np.exp(df3['price'])\n",
    "\n",
    "#model_metrics\n",
    "transf_outlier_removed = model_metrics(model5,'transf_outlier_removed')\n",
    "\n",
    "#calculate MAE\n",
    "mae = np.mean(np.abs(preds - df3['price']))\n",
    "transf_outlier_removed['MAE'] = mae\n",
    "\n",
    "#append to scores\n",
    "scores = scores.append(transf_outlier_removed)\n",
    "scores\n"
   ]
  },
  {
   "cell_type": "markdown",
   "metadata": {
    "id": "lgKTsfeIQJiJ"
   },
   "source": [
    "## Log-Transformation of more features\n",
    "Since model performance imporved considerably by log-transforming the dependent variable, let's transforms some of the other continuous features and check for performance"
   ]
  },
  {
   "cell_type": "code",
   "execution_count": 51,
   "metadata": {
    "colab": {
     "base_uri": "https://localhost:8080/",
     "height": 268
    },
    "id": "ir2vLXYlOc1E",
    "outputId": "72e07d12-4864-4a31-e149-989ec63dc4a3"
   },
   "outputs": [
    {
     "data": {
      "text/html": [
       "<div>\n",
       "<style scoped>\n",
       "    .dataframe tbody tr th:only-of-type {\n",
       "        vertical-align: middle;\n",
       "    }\n",
       "\n",
       "    .dataframe tbody tr th {\n",
       "        vertical-align: top;\n",
       "    }\n",
       "\n",
       "    .dataframe thead th {\n",
       "        text-align: right;\n",
       "    }\n",
       "</style>\n",
       "<table border=\"1\" class=\"dataframe\">\n",
       "  <thead>\n",
       "    <tr style=\"text-align: right;\">\n",
       "      <th></th>\n",
       "      <th>MAE</th>\n",
       "      <th>R-squared</th>\n",
       "    </tr>\n",
       "  </thead>\n",
       "  <tbody>\n",
       "    <tr>\n",
       "      <th>baseline_model</th>\n",
       "      <td>125916.460000</td>\n",
       "      <td>0.700</td>\n",
       "    </tr>\n",
       "    <tr>\n",
       "      <th>multi_coll</th>\n",
       "      <td>126148.380000</td>\n",
       "      <td>0.699</td>\n",
       "    </tr>\n",
       "    <tr>\n",
       "      <th>scaled</th>\n",
       "      <td>126148.380000</td>\n",
       "      <td>0.699</td>\n",
       "    </tr>\n",
       "    <tr>\n",
       "      <th>log_transform</th>\n",
       "      <td>112740.054994</td>\n",
       "      <td>0.765</td>\n",
       "    </tr>\n",
       "    <tr>\n",
       "      <th>outlier_removed</th>\n",
       "      <td>84387.020000</td>\n",
       "      <td>0.681</td>\n",
       "    </tr>\n",
       "    <tr>\n",
       "      <th>transf_outlier_removed</th>\n",
       "      <td>86649.343354</td>\n",
       "      <td>0.692</td>\n",
       "    </tr>\n",
       "    <tr>\n",
       "      <th>more_log_transform</th>\n",
       "      <td>109612.076092</td>\n",
       "      <td>0.766</td>\n",
       "    </tr>\n",
       "  </tbody>\n",
       "</table>\n",
       "</div>"
      ],
      "text/plain": [
       "                                  MAE  R-squared\n",
       "baseline_model          125916.460000      0.700\n",
       "multi_coll              126148.380000      0.699\n",
       "scaled                  126148.380000      0.699\n",
       "log_transform           112740.054994      0.765\n",
       "outlier_removed          84387.020000      0.681\n",
       "transf_outlier_removed   86649.343354      0.692\n",
       "more_log_transform      109612.076092      0.766"
      ]
     },
     "execution_count": 51,
     "metadata": {},
     "output_type": "execute_result"
    }
   ],
   "source": [
    "#making a copy of the df\n",
    "df4 = df.copy()\n",
    "\n",
    "#listing out the features to transform\n",
    "features = ['price','sqft_living','sqft_lot','floors','yr_built','zipcode','lat']\n",
    "\n",
    "#applying log-transformation\n",
    "for f in features:\n",
    "  df4[f] = df4[f].map(lambda x: np.log(x))\n",
    "\n",
    "#fitting a new model\n",
    "outcome = 'price'\n",
    "predictors = df4.drop('price',axis=1)\n",
    "predictors_sum = '+'.join(predictors.columns)\n",
    "\n",
    "f = outcome + '~' + predictors_sum\n",
    "\n",
    "#fit model to data\n",
    "model6 = ols(formula=f,data=df4).fit()\n",
    "\n",
    "#getting predicted values\n",
    "preds = np.exp(model6.fittedvalues)\n",
    "\n",
    "#getting the scores\n",
    "more_log_transform = model_metrics(model6,'more_log_transform')\n",
    "\n",
    "#calculating MAE\n",
    "mae = np.mean(np.abs(preds-df['price']))\n",
    "more_log_transform['MAE'] = mae\n",
    "\n",
    "#adding to the list of scores\n",
    "scores = scores.append(more_log_transform)\n",
    "scores"
   ]
  },
  {
   "cell_type": "markdown",
   "metadata": {
    "id": "vOO05AeC7H-e"
   },
   "source": [
    "## Model Selection"
   ]
  },
  {
   "cell_type": "markdown",
   "metadata": {
    "id": "bVnSv4IR7Ka7"
   },
   "source": [
    "We have 2 objectives for our model:\n",
    "1. To be able to predict a value of a house - depends on MAE value\n",
    "2. To determine factors that will increase the value of the house - depends upon the R-squared value.\n",
    "\n",
    "Based on the results of the different models, we will have to strike a balance between both objectives. We can choose the model with outliers_removed and log transformed dependent variable since the it can explain approx. 70% of the variance in the price and has the second lowest MAE value."
   ]
  },
  {
   "cell_type": "markdown",
   "metadata": {
    "id": "vISlDaghJh4m"
   },
   "source": [
    "## Model Interpretation"
   ]
  },
  {
   "cell_type": "markdown",
   "metadata": {
    "id": "vhWQ3Sg2JmJI"
   },
   "source": [
    "To find out which factors play a significant role in the price of a house, we need to look at the model coefficients:"
   ]
  },
  {
   "cell_type": "code",
   "execution_count": 52,
   "metadata": {
    "colab": {
     "base_uri": "https://localhost:8080/",
     "height": 768
    },
    "id": "BODBXEOtv5jQ",
    "outputId": "643da302-86cc-46bb-b805-498f822e62b9"
   },
   "outputs": [
    {
     "data": {
      "text/html": [
       "<table class=\"simpletable\">\n",
       "<caption>OLS Regression Results</caption>\n",
       "<tr>\n",
       "  <th>Dep. Variable:</th>          <td>price</td>      <th>  R-squared:         </th> <td>   0.692</td>\n",
       "</tr>\n",
       "<tr>\n",
       "  <th>Model:</th>                   <td>OLS</td>       <th>  Adj. R-squared:    </th> <td>   0.692</td>\n",
       "</tr>\n",
       "<tr>\n",
       "  <th>Method:</th>             <td>Least Squares</td>  <th>  F-statistic:       </th> <td>   3013.</td>\n",
       "</tr>\n",
       "<tr>\n",
       "  <th>Date:</th>             <td>Sun, 30 Jul 2023</td> <th>  Prob (F-statistic):</th>  <td>  0.00</td> \n",
       "</tr>\n",
       "<tr>\n",
       "  <th>Time:</th>                 <td>14:14:28</td>     <th>  Log-Likelihood:    </th> <td>  92.908</td>\n",
       "</tr>\n",
       "<tr>\n",
       "  <th>No. Observations:</th>      <td> 20121</td>      <th>  AIC:               </th> <td>  -153.8</td>\n",
       "</tr>\n",
       "<tr>\n",
       "  <th>Df Residuals:</th>          <td> 20105</td>      <th>  BIC:               </th> <td>  -27.26</td>\n",
       "</tr>\n",
       "<tr>\n",
       "  <th>Df Model:</th>              <td>    15</td>      <th>                     </th>     <td> </td>   \n",
       "</tr>\n",
       "<tr>\n",
       "  <th>Covariance Type:</th>      <td>nonrobust</td>    <th>                     </th>     <td> </td>   \n",
       "</tr>\n",
       "</table>\n",
       "<table class=\"simpletable\">\n",
       "<tr>\n",
       "        <td></td>           <th>coef</th>     <th>std err</th>      <th>t</th>      <th>P>|t|</th>  <th>[0.025</th>    <th>0.975]</th>  \n",
       "</tr>\n",
       "<tr>\n",
       "  <th>Intercept</th>     <td>    0.7785</td> <td>    3.586</td> <td>    0.217</td> <td> 0.828</td> <td>   -6.249</td> <td>    7.806</td>\n",
       "</tr>\n",
       "<tr>\n",
       "  <th>bedrooms</th>      <td>   -0.0127</td> <td>    0.002</td> <td>   -5.293</td> <td> 0.000</td> <td>   -0.017</td> <td>   -0.008</td>\n",
       "</tr>\n",
       "<tr>\n",
       "  <th>bathrooms</th>     <td>    0.0629</td> <td>    0.004</td> <td>   15.027</td> <td> 0.000</td> <td>    0.055</td> <td>    0.071</td>\n",
       "</tr>\n",
       "<tr>\n",
       "  <th>sqft_living</th>   <td>    0.0002</td> <td> 4.56e-06</td> <td>   36.661</td> <td> 0.000</td> <td>    0.000</td> <td>    0.000</td>\n",
       "</tr>\n",
       "<tr>\n",
       "  <th>sqft_lot</th>      <td> 4.534e-07</td> <td> 4.44e-08</td> <td>   10.205</td> <td> 0.000</td> <td> 3.66e-07</td> <td>  5.4e-07</td>\n",
       "</tr>\n",
       "<tr>\n",
       "  <th>floors</th>        <td>    0.0682</td> <td>    0.005</td> <td>   15.037</td> <td> 0.000</td> <td>    0.059</td> <td>    0.077</td>\n",
       "</tr>\n",
       "<tr>\n",
       "  <th>waterfront</th>    <td>    0.2916</td> <td>    0.033</td> <td>    8.735</td> <td> 0.000</td> <td>    0.226</td> <td>    0.357</td>\n",
       "</tr>\n",
       "<tr>\n",
       "  <th>view</th>          <td>    0.0636</td> <td>    0.003</td> <td>   21.098</td> <td> 0.000</td> <td>    0.058</td> <td>    0.069</td>\n",
       "</tr>\n",
       "<tr>\n",
       "  <th>condition</th>     <td>    0.0569</td> <td>    0.003</td> <td>   19.462</td> <td> 0.000</td> <td>    0.051</td> <td>    0.063</td>\n",
       "</tr>\n",
       "<tr>\n",
       "  <th>grade</th>         <td>    0.1618</td> <td>    0.003</td> <td>   60.382</td> <td> 0.000</td> <td>    0.157</td> <td>    0.167</td>\n",
       "</tr>\n",
       "<tr>\n",
       "  <th>sqft_basement</th> <td> 3.006e-06</td> <td> 5.75e-06</td> <td>    0.523</td> <td> 0.601</td> <td>-8.26e-06</td> <td> 1.43e-05</td>\n",
       "</tr>\n",
       "<tr>\n",
       "  <th>yr_built</th>      <td>   -0.0032</td> <td> 9.28e-05</td> <td>  -34.823</td> <td> 0.000</td> <td>   -0.003</td> <td>   -0.003</td>\n",
       "</tr>\n",
       "<tr>\n",
       "  <th>yr_renovated</th>  <td> 1.685e-05</td> <td> 4.82e-06</td> <td>    3.498</td> <td> 0.000</td> <td> 7.41e-06</td> <td> 2.63e-05</td>\n",
       "</tr>\n",
       "<tr>\n",
       "  <th>zipcode</th>       <td>   -0.0005</td> <td> 4.09e-05</td> <td>  -12.340</td> <td> 0.000</td> <td>   -0.001</td> <td>   -0.000</td>\n",
       "</tr>\n",
       "<tr>\n",
       "  <th>lat</th>           <td>    1.3765</td> <td>    0.013</td> <td>  105.560</td> <td> 0.000</td> <td>    1.351</td> <td>    1.402</td>\n",
       "</tr>\n",
       "<tr>\n",
       "  <th>long</th>          <td>   -0.0052</td> <td>    0.016</td> <td>   -0.325</td> <td> 0.745</td> <td>   -0.036</td> <td>    0.026</td>\n",
       "</tr>\n",
       "</table>\n",
       "<table class=\"simpletable\">\n",
       "<tr>\n",
       "  <th>Omnibus:</th>       <td>427.441</td> <th>  Durbin-Watson:     </th> <td>   1.983</td> \n",
       "</tr>\n",
       "<tr>\n",
       "  <th>Prob(Omnibus):</th> <td> 0.000</td>  <th>  Jarque-Bera (JB):  </th> <td> 769.429</td> \n",
       "</tr>\n",
       "<tr>\n",
       "  <th>Skew:</th>          <td>-0.167</td>  <th>  Prob(JB):          </th> <td>8.33e-168</td>\n",
       "</tr>\n",
       "<tr>\n",
       "  <th>Kurtosis:</th>      <td> 3.898</td>  <th>  Cond. No.          </th> <td>2.10e+08</td> \n",
       "</tr>\n",
       "</table><br/><br/>Notes:<br/>[1] Standard Errors assume that the covariance matrix of the errors is correctly specified.<br/>[2] The condition number is large, 2.1e+08. This might indicate that there are<br/>strong multicollinearity or other numerical problems."
      ],
      "text/plain": [
       "<class 'statsmodels.iolib.summary.Summary'>\n",
       "\"\"\"\n",
       "                            OLS Regression Results                            \n",
       "==============================================================================\n",
       "Dep. Variable:                  price   R-squared:                       0.692\n",
       "Model:                            OLS   Adj. R-squared:                  0.692\n",
       "Method:                 Least Squares   F-statistic:                     3013.\n",
       "Date:                Sun, 30 Jul 2023   Prob (F-statistic):               0.00\n",
       "Time:                        14:14:28   Log-Likelihood:                 92.908\n",
       "No. Observations:               20121   AIC:                            -153.8\n",
       "Df Residuals:                   20105   BIC:                            -27.26\n",
       "Df Model:                          15                                         \n",
       "Covariance Type:            nonrobust                                         \n",
       "=================================================================================\n",
       "                    coef    std err          t      P>|t|      [0.025      0.975]\n",
       "---------------------------------------------------------------------------------\n",
       "Intercept         0.7785      3.586      0.217      0.828      -6.249       7.806\n",
       "bedrooms         -0.0127      0.002     -5.293      0.000      -0.017      -0.008\n",
       "bathrooms         0.0629      0.004     15.027      0.000       0.055       0.071\n",
       "sqft_living       0.0002   4.56e-06     36.661      0.000       0.000       0.000\n",
       "sqft_lot       4.534e-07   4.44e-08     10.205      0.000    3.66e-07     5.4e-07\n",
       "floors            0.0682      0.005     15.037      0.000       0.059       0.077\n",
       "waterfront        0.2916      0.033      8.735      0.000       0.226       0.357\n",
       "view              0.0636      0.003     21.098      0.000       0.058       0.069\n",
       "condition         0.0569      0.003     19.462      0.000       0.051       0.063\n",
       "grade             0.1618      0.003     60.382      0.000       0.157       0.167\n",
       "sqft_basement  3.006e-06   5.75e-06      0.523      0.601   -8.26e-06    1.43e-05\n",
       "yr_built         -0.0032   9.28e-05    -34.823      0.000      -0.003      -0.003\n",
       "yr_renovated   1.685e-05   4.82e-06      3.498      0.000    7.41e-06    2.63e-05\n",
       "zipcode          -0.0005   4.09e-05    -12.340      0.000      -0.001      -0.000\n",
       "lat               1.3765      0.013    105.560      0.000       1.351       1.402\n",
       "long             -0.0052      0.016     -0.325      0.745      -0.036       0.026\n",
       "==============================================================================\n",
       "Omnibus:                      427.441   Durbin-Watson:                   1.983\n",
       "Prob(Omnibus):                  0.000   Jarque-Bera (JB):              769.429\n",
       "Skew:                          -0.167   Prob(JB):                    8.33e-168\n",
       "Kurtosis:                       3.898   Cond. No.                     2.10e+08\n",
       "==============================================================================\n",
       "\n",
       "Notes:\n",
       "[1] Standard Errors assume that the covariance matrix of the errors is correctly specified.\n",
       "[2] The condition number is large, 2.1e+08. This might indicate that there are\n",
       "strong multicollinearity or other numerical problems.\n",
       "\"\"\""
      ]
     },
     "execution_count": 52,
     "metadata": {},
     "output_type": "execute_result"
    }
   ],
   "source": [
    "#model5 is the chosen model\n",
    "model5.summary()"
   ]
  },
  {
   "cell_type": "markdown",
   "metadata": {
    "id": "UlmiEJI3wCmZ"
   },
   "source": [
    "Since, we applied log-transformation to the dependent variable 'price', we need to take the exponent of the coefficient. This gives the multiplicative factor for every 1 unit increase in the independent variable."
   ]
  },
  {
   "cell_type": "code",
   "execution_count": 53,
   "metadata": {
    "colab": {
     "base_uri": "https://localhost:8080/",
     "height": 452
    },
    "id": "m3XhZC02wk0i",
    "outputId": "ce19ad02-1b35-44e4-d1c9-8a20f77f818e"
   },
   "outputs": [
    {
     "data": {
      "image/png": "[encoded data removed]",
      "text/plain": [
       "<Figure size 640x480 with 1 Axes>"
      ]
     },
     "metadata": {},
     "output_type": "display_data"
    }
   ],
   "source": [
    "#get the coefficients of the model\n",
    "cocfts = pd.DataFrame(model5.params)\n",
    "cocfts.columns = (['coefficient'])\n",
    "\n",
    "#taking the exponents\n",
    "cocfts['coefficient'] = cocfts['coefficient'].map(lambda x: np.exp(x))\n",
    "cocfts.drop(['zipcode','lat','long','Intercept'],inplace=True)\n",
    "\n",
    "\n",
    "#taking the exponent of co-efficient for interpretation\n",
    "cocfts['precent_increase'] = (cocfts['coefficient'] - 1)*100\n",
    "# cocfts.sort_values(by=['percent_increase'],ascending=False)\n",
    "\n",
    "#creating a new df because sort_values will just not work!@#$%\n",
    "order = pd.DataFrame(cocfts['precent_increase'].sort_values(ascending=True))\n",
    "\n",
    "# #Plotting\n",
    "order.plot(kind='barh',legend=False,title = 'Factors affecting resale value - % ');"
   ]
  },
  {
   "cell_type": "markdown",
   "metadata": {
    "id": "Wt56utcxz4TE"
   },
   "source": [
    "Unsurprsingly, being on the waterfront is the biggest contributor to a house's value, approx 35%. Grade, which refers to the the quality of the materials used to build the house, is the second biggest contributor at 7%. Floors, condition and number of bathrooms all have similar impacts between 5% and 7%."
   ]
  },
  {
   "cell_type": "markdown",
   "metadata": {
    "id": "CG2gnggP5zvr"
   },
   "source": [
    "## Limitations"
   ]
  },
  {
   "cell_type": "markdown",
   "metadata": {
    "id": "-GRM19JK6N96"
   },
   "source": [
    "Since the dataset has nearly 7% of houses with values greater than $1 million USD, this impacts the linear regression model. A seperate analysis will have to be done for the high-value houses."
   ]
  },
  {
   "cell_type": "markdown",
   "metadata": {
    "id": "XPFN4ErV-DLV"
   },
   "source": [
    "## Conclusion"
   ]
  },
  {
   "cell_type": "markdown",
   "metadata": {
    "id": "CkLNkD1a-GAz"
   },
   "source": [
    "1. The model is not very accurate since the predicted values are off by approx. $87,000. Other modelling techniques may yield more accurate predictions.\n",
    "\n",
    "2. Next to having a waterfront, build quality, number of bathrooms and overall condition of the house play the biggest factors when it comes to the resale value of a house"
   ]
  }
 ],
 "metadata": {
  "colab": {
   "provenance": [],
   "toc_visible": true
  },
  "kernelspec": {
   "display_name": "Python 3 (ipykernel)",
   "language": "python",
   "name": "python3"
  },
  "language_info": {
   "codemirror_mode": {
    "name": "ipython",
    "version": 3
   },
   "file_extension": ".py",
   "mimetype": "text/x-python",
   "name": "python",
   "nbconvert_exporter": "python",
   "pygments_lexer": "ipython3",
   "version": "3.10.9"
  },
  "toc": {
   "base_numbering": 1,
   "nav_menu": {},
   "number_sections": true,
   "sideBar": true,
   "skip_h1_title": false,
   "title_cell": "Table of Contents",
   "title_sidebar": "Contents",
   "toc_cell": true,
   "toc_position": {
    "height": "calc(100% - 180px)",
    "left": "10px",
    "top": "150px",
    "width": "310.191px"
   },
   "toc_section_display": true,
   "toc_window_display": true
  },
  "varInspector": {
   "cols": {
    "lenName": 16,
    "lenType": 16,
    "lenVar": 40
   },
   "kernels_config": {
    "python": {
     "delete_cmd_postfix": "",
     "delete_cmd_prefix": "del ",
     "library": "var_list.py",
     "varRefreshCmd": "print(var_dic_list())"
    },
    "r": {
     "delete_cmd_postfix": ") ",
     "delete_cmd_prefix": "rm(",
     "library": "var_list.r",
     "varRefreshCmd": "cat(var_dic_list()) "
    }
   },
   "types_to_exclude": [
    "module",
    "function",
    "builtin_function_or_method",
    "instance",
    "_Feature"
   ],
   "window_display": false
  }
 },
 "nbformat": 4,
 "nbformat_minor": 1
}
